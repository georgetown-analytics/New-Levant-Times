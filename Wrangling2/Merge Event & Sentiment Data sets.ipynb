{
 "cells": [
  {
   "cell_type": "markdown",
   "metadata": {},
   "source": [
    "# Construct Data Set\n"
   ]
  },
  {
   "cell_type": "code",
   "execution_count": 1,
   "metadata": {
    "collapsed": true
   },
   "outputs": [],
   "source": [
    "import pandas as pd\n",
    "import numpy as np\n",
    "import os\n",
    "import time"
   ]
  },
  {
   "cell_type": "markdown",
   "metadata": {
    "collapsed": true
   },
   "source": [
    "### Merge Dataset pulled from LexisNexis containing sentiment scores with Event Ratings Data"
   ]
  },
  {
   "cell_type": "code",
   "execution_count": 2,
   "metadata": {
    "collapsed": true
   },
   "outputs": [],
   "source": [
    "sentiment_path = \"/Users/laurieottehenning/Documents/Georgetown Data Science /Capstone\"\n",
    "os.chdir(sentiment_path)\n",
    "df1 = pd.read_csv('Sentiment Data.csv', parse_dates=['date'])\n",
    "\n",
    "event_path = \"/Users/laurieottehenning/Documents/Georgetown Data Science /Capstone/Events Ratings\"\n",
    "os.chdir(event_path)\n",
    "df2 = pd.read_csv('Events_FinalRatingsList.csv', parse_dates=['Date'])"
   ]
  },
  {
   "cell_type": "code",
   "execution_count": 3,
   "metadata": {},
   "outputs": [
    {
     "data": {
      "text/plain": [
       "0   2010-01-03\n",
       "1   2010-01-04\n",
       "2   2010-01-08\n",
       "Name: Date, dtype: datetime64[ns]"
      ]
     },
     "execution_count": 3,
     "metadata": {},
     "output_type": "execute_result"
    }
   ],
   "source": [
    "df1 = df1.rename(columns={'date': 'Date'})\n",
    "df1['Date'].head(3)"
   ]
  },
  {
   "cell_type": "code",
   "execution_count": 4,
   "metadata": {
    "scrolled": false
   },
   "outputs": [
    {
     "data": {
      "text/plain": [
       "0   2011-01-31\n",
       "1   2011-03-11\n",
       "2   2011-03-12\n",
       "Name: Date, dtype: datetime64[ns]"
      ]
     },
     "execution_count": 4,
     "metadata": {},
     "output_type": "execute_result"
    }
   ],
   "source": [
    "df2['Date'].head(3)"
   ]
  },
  {
   "cell_type": "markdown",
   "metadata": {},
   "source": [
    "### Merge the Sentiment data onto the Event data"
   ]
  },
  {
   "cell_type": "code",
   "execution_count": 5,
   "metadata": {},
   "outputs": [
    {
     "data": {
      "text/html": [
       "<div>\n",
       "<style>\n",
       "    .dataframe thead tr:only-child th {\n",
       "        text-align: right;\n",
       "    }\n",
       "\n",
       "    .dataframe thead th {\n",
       "        text-align: left;\n",
       "    }\n",
       "\n",
       "    .dataframe tbody tr th {\n",
       "        vertical-align: top;\n",
       "    }\n",
       "</style>\n",
       "<table border=\"1\" class=\"dataframe\">\n",
       "  <thead>\n",
       "    <tr style=\"text-align: right;\">\n",
       "      <th></th>\n",
       "      <th>EventID</th>\n",
       "      <th>Date</th>\n",
       "      <th>EventText</th>\n",
       "      <th>FilterWords</th>\n",
       "      <th>FinalRating</th>\n",
       "      <th>dup</th>\n",
       "    </tr>\n",
       "  </thead>\n",
       "  <tbody>\n",
       "    <tr>\n",
       "      <th>10</th>\n",
       "      <td>1053</td>\n",
       "      <td>2011-04-25</td>\n",
       "      <td>The events of 25 April, especially those in Da...</td>\n",
       "      <td>all, nation</td>\n",
       "      <td>-1.0</td>\n",
       "      <td>False</td>\n",
       "    </tr>\n",
       "    <tr>\n",
       "      <th>11</th>\n",
       "      <td>1055</td>\n",
       "      <td>2011-04-27</td>\n",
       "      <td>According to a report of refugees fled into Le...</td>\n",
       "      <td>accord, leban</td>\n",
       "      <td>-1.0</td>\n",
       "      <td>False</td>\n",
       "    </tr>\n",
       "    <tr>\n",
       "      <th>12</th>\n",
       "      <td>2004</td>\n",
       "      <td>2011-05-06</td>\n",
       "      <td>On 6 May, after Friday noon prayers, demonstra...</td>\n",
       "      <td>accord, kurd</td>\n",
       "      <td>-1.0</td>\n",
       "      <td>False</td>\n",
       "    </tr>\n",
       "    <tr>\n",
       "      <th>13</th>\n",
       "      <td>2005</td>\n",
       "      <td>2011-05-06</td>\n",
       "      <td>Following this \"Day of Defiance\", Amnesty Inte...</td>\n",
       "      <td>defianc, nation</td>\n",
       "      <td>-1.0</td>\n",
       "      <td>False</td>\n",
       "    </tr>\n",
       "    <tr>\n",
       "      <th>14</th>\n",
       "      <td>2009</td>\n",
       "      <td>2011-05-09</td>\n",
       "      <td>The European Union institutes arms embargo and...</td>\n",
       "      <td>embargo, capitalletters</td>\n",
       "      <td>2.0</td>\n",
       "      <td>False</td>\n",
       "    </tr>\n",
       "  </tbody>\n",
       "</table>\n",
       "</div>"
      ],
      "text/plain": [
       "    EventID       Date                                          EventText  \\\n",
       "10     1053 2011-04-25  The events of 25 April, especially those in Da...   \n",
       "11     1055 2011-04-27  According to a report of refugees fled into Le...   \n",
       "12     2004 2011-05-06  On 6 May, after Friday noon prayers, demonstra...   \n",
       "13     2005 2011-05-06  Following this \"Day of Defiance\", Amnesty Inte...   \n",
       "14     2009 2011-05-09  The European Union institutes arms embargo and...   \n",
       "\n",
       "                FilterWords  FinalRating    dup  \n",
       "10              all, nation         -1.0  False  \n",
       "11            accord, leban         -1.0  False  \n",
       "12             accord, kurd         -1.0  False  \n",
       "13          defianc, nation         -1.0  False  \n",
       "14  embargo, capitalletters          2.0  False  "
      ]
     },
     "execution_count": 5,
     "metadata": {},
     "output_type": "execute_result"
    }
   ],
   "source": [
    "# Look for duplicate values in event data\n",
    "df2['dup'] = df2.sort_values(by=['Date']).duplicated(subset=['Date', 'EventID'])\n",
    "df2.iloc[10:15]"
   ]
  },
  {
   "cell_type": "code",
   "execution_count": 6,
   "metadata": {},
   "outputs": [
    {
     "data": {
      "text/plain": [
       "EventID        548\n",
       "Date           548\n",
       "EventText      548\n",
       "FilterWords    548\n",
       "FinalRating    548\n",
       "dup            548\n",
       "dtype: int64"
      ]
     },
     "execution_count": 6,
     "metadata": {},
     "output_type": "execute_result"
    }
   ],
   "source": [
    "# Look at counts for events\n",
    "df2.count()"
   ]
  },
  {
   "cell_type": "code",
   "execution_count": 7,
   "metadata": {},
   "outputs": [
    {
     "data": {
      "text/plain": [
       "442"
      ]
     },
     "execution_count": 7,
     "metadata": {},
     "output_type": "execute_result"
    }
   ],
   "source": [
    "# Look at unique events by date\n",
    "df2['Date'].value_counts().count()"
   ]
  },
  {
   "cell_type": "code",
   "execution_count": 8,
   "metadata": {},
   "outputs": [
    {
     "data": {
      "text/plain": [
       "EventID        442\n",
       "Date           442\n",
       "EventText      442\n",
       "FilterWords    442\n",
       "FinalRating    442\n",
       "dup            442\n",
       "dtype: int64"
      ]
     },
     "execution_count": 8,
     "metadata": {},
     "output_type": "execute_result"
    }
   ],
   "source": [
    "# Drop duplicate events. We should only have one event per day. \n",
    "event = df2.drop_duplicates(subset=['Date'], keep='first')\n",
    "event.count()"
   ]
  },
  {
   "cell_type": "code",
   "execution_count": 9,
   "metadata": {
    "collapsed": true
   },
   "outputs": [],
   "source": [
    "# Drop duplicates column\n",
    "event = event.drop('dup', 1)\n"
   ]
  },
  {
   "cell_type": "code",
   "execution_count": 27,
   "metadata": {},
   "outputs": [
    {
     "data": {
      "text/html": [
       "<div>\n",
       "<style>\n",
       "    .dataframe thead tr:only-child th {\n",
       "        text-align: right;\n",
       "    }\n",
       "\n",
       "    .dataframe thead th {\n",
       "        text-align: left;\n",
       "    }\n",
       "\n",
       "    .dataframe tbody tr th {\n",
       "        vertical-align: top;\n",
       "    }\n",
       "</style>\n",
       "<table border=\"1\" class=\"dataframe\">\n",
       "  <thead>\n",
       "    <tr style=\"text-align: right;\">\n",
       "      <th></th>\n",
       "      <th>EventID</th>\n",
       "      <th>Date</th>\n",
       "      <th>EventText</th>\n",
       "      <th>FilterWords</th>\n",
       "      <th>FinalRating</th>\n",
       "      <th>publication</th>\n",
       "      <th>title</th>\n",
       "      <th>length</th>\n",
       "      <th>publicationtype</th>\n",
       "      <th>text</th>\n",
       "      <th>year</th>\n",
       "      <th>month</th>\n",
       "      <th>day</th>\n",
       "      <th>PositiveCount</th>\n",
       "      <th>NegativeCount</th>\n",
       "      <th>tone</th>\n",
       "      <th>_merge</th>\n",
       "    </tr>\n",
       "  </thead>\n",
       "  <tbody>\n",
       "    <tr>\n",
       "      <th>2897</th>\n",
       "      <td>NaN</td>\n",
       "      <td>2011-05-15</td>\n",
       "      <td>NaN</td>\n",
       "      <td>NaN</td>\n",
       "      <td>NaN</td>\n",
       "      <td>BBC</td>\n",
       "      <td>Programme summary of Afghan Noor TV news in Da...</td>\n",
       "      <td>701.0</td>\n",
       "      <td>Transcript</td>\n",
       "      <td>A News headline B Home news 1 0100 Russian for...</td>\n",
       "      <td>2011.0</td>\n",
       "      <td>5.0</td>\n",
       "      <td>15.0</td>\n",
       "      <td>28.0</td>\n",
       "      <td>46.0</td>\n",
       "      <td>-0.025678</td>\n",
       "      <td>right_only</td>\n",
       "    </tr>\n",
       "    <tr>\n",
       "      <th>2899</th>\n",
       "      <td>NaN</td>\n",
       "      <td>2011-05-15</td>\n",
       "      <td>NaN</td>\n",
       "      <td>NaN</td>\n",
       "      <td>NaN</td>\n",
       "      <td>Korea Times</td>\n",
       "      <td>The 'Obama Doctrine' is a fuzzy document</td>\n",
       "      <td>590.0</td>\n",
       "      <td>Newspaper</td>\n",
       "      <td>Barack Obama is a president in search of a doc...</td>\n",
       "      <td>2011.0</td>\n",
       "      <td>5.0</td>\n",
       "      <td>15.0</td>\n",
       "      <td>33.0</td>\n",
       "      <td>40.0</td>\n",
       "      <td>-0.011864</td>\n",
       "      <td>right_only</td>\n",
       "    </tr>\n",
       "    <tr>\n",
       "      <th>54</th>\n",
       "      <td>2017.0</td>\n",
       "      <td>2011-05-16</td>\n",
       "      <td>The Syrian army's siege across the country con...</td>\n",
       "      <td>all, leban</td>\n",
       "      <td>2.0</td>\n",
       "      <td>BBC</td>\n",
       "      <td>Gulf council's membership offer to Jordan \"sur...</td>\n",
       "      <td>572.0</td>\n",
       "      <td>Transcript</td>\n",
       "      <td>Text of report by Londonbased newspaper AlHaya...</td>\n",
       "      <td>2011.0</td>\n",
       "      <td>5.0</td>\n",
       "      <td>16.0</td>\n",
       "      <td>26.0</td>\n",
       "      <td>16.0</td>\n",
       "      <td>0.017483</td>\n",
       "      <td>both</td>\n",
       "    </tr>\n",
       "    <tr>\n",
       "      <th>53</th>\n",
       "      <td>2017.0</td>\n",
       "      <td>2011-05-16</td>\n",
       "      <td>The Syrian army's siege across the country con...</td>\n",
       "      <td>all, leban</td>\n",
       "      <td>2.0</td>\n",
       "      <td>Usa Today</td>\n",
       "      <td>Syria, Libya merit different U.S. policies; Da...</td>\n",
       "      <td>864.0</td>\n",
       "      <td>Newspaper</td>\n",
       "      <td>When Libyas dictator Moammar Gadhafi attacked ...</td>\n",
       "      <td>2011.0</td>\n",
       "      <td>5.0</td>\n",
       "      <td>16.0</td>\n",
       "      <td>34.0</td>\n",
       "      <td>52.0</td>\n",
       "      <td>-0.020833</td>\n",
       "      <td>both</td>\n",
       "    </tr>\n",
       "    <tr>\n",
       "      <th>56</th>\n",
       "      <td>2017.0</td>\n",
       "      <td>2011-05-16</td>\n",
       "      <td>The Syrian army's siege across the country con...</td>\n",
       "      <td>all, leban</td>\n",
       "      <td>2.0</td>\n",
       "      <td>BBC</td>\n",
       "      <td>Column denies Turkish \"regional leadership\" af...</td>\n",
       "      <td>821.0</td>\n",
       "      <td>Transcript</td>\n",
       "      <td>Text of report in English by Turkish newspaper...</td>\n",
       "      <td>2011.0</td>\n",
       "      <td>5.0</td>\n",
       "      <td>16.0</td>\n",
       "      <td>42.0</td>\n",
       "      <td>52.0</td>\n",
       "      <td>-0.012180</td>\n",
       "      <td>both</td>\n",
       "    </tr>\n",
       "    <tr>\n",
       "      <th>55</th>\n",
       "      <td>2017.0</td>\n",
       "      <td>2011-05-16</td>\n",
       "      <td>The Syrian army's siege across the country con...</td>\n",
       "      <td>all, leban</td>\n",
       "      <td>2.0</td>\n",
       "      <td>The Washington Post</td>\n",
       "      <td>The U.S.-Saudi split</td>\n",
       "      <td>1003.0</td>\n",
       "      <td>Newspaper</td>\n",
       "      <td>A tectonic shift has occurred in the USSaudi r...</td>\n",
       "      <td>2011.0</td>\n",
       "      <td>5.0</td>\n",
       "      <td>16.0</td>\n",
       "      <td>51.0</td>\n",
       "      <td>53.0</td>\n",
       "      <td>-0.001994</td>\n",
       "      <td>both</td>\n",
       "    </tr>\n",
       "    <tr>\n",
       "      <th>2902</th>\n",
       "      <td>NaN</td>\n",
       "      <td>2011-05-17</td>\n",
       "      <td>NaN</td>\n",
       "      <td>NaN</td>\n",
       "      <td>NaN</td>\n",
       "      <td>The New York Times</td>\n",
       "      <td>Questions Raised About a Code of Silence</td>\n",
       "      <td>1289.0</td>\n",
       "      <td>Newspaper</td>\n",
       "      <td>PARIS  The ritual follows a clear script a sca...</td>\n",
       "      <td>2011.0</td>\n",
       "      <td>5.0</td>\n",
       "      <td>17.0</td>\n",
       "      <td>60.0</td>\n",
       "      <td>81.0</td>\n",
       "      <td>-0.016292</td>\n",
       "      <td>right_only</td>\n",
       "    </tr>\n",
       "    <tr>\n",
       "      <th>2901</th>\n",
       "      <td>NaN</td>\n",
       "      <td>2011-05-17</td>\n",
       "      <td>NaN</td>\n",
       "      <td>NaN</td>\n",
       "      <td>NaN</td>\n",
       "      <td>The Irish Times</td>\n",
       "      <td>Arab League appoints El-Arabi</td>\n",
       "      <td>473.0</td>\n",
       "      <td>Newspaper</td>\n",
       "      <td>EGYPT S FORMER foreign minister Nabil elArabi ...</td>\n",
       "      <td>2011.0</td>\n",
       "      <td>5.0</td>\n",
       "      <td>17.0</td>\n",
       "      <td>23.0</td>\n",
       "      <td>31.0</td>\n",
       "      <td>-0.016913</td>\n",
       "      <td>right_only</td>\n",
       "    </tr>\n",
       "    <tr>\n",
       "      <th>2907</th>\n",
       "      <td>NaN</td>\n",
       "      <td>2011-05-18</td>\n",
       "      <td>NaN</td>\n",
       "      <td>NaN</td>\n",
       "      <td>NaN</td>\n",
       "      <td>BBC</td>\n",
       "      <td>Commentator says pro-Palestinian march \"test\" ...</td>\n",
       "      <td>604.0</td>\n",
       "      <td>Transcript</td>\n",
       "      <td>Text of report by Saudiowned leading panArab d...</td>\n",
       "      <td>2011.0</td>\n",
       "      <td>5.0</td>\n",
       "      <td>18.0</td>\n",
       "      <td>26.0</td>\n",
       "      <td>49.0</td>\n",
       "      <td>-0.038079</td>\n",
       "      <td>right_only</td>\n",
       "    </tr>\n",
       "    <tr>\n",
       "      <th>2906</th>\n",
       "      <td>NaN</td>\n",
       "      <td>2011-05-18</td>\n",
       "      <td>NaN</td>\n",
       "      <td>NaN</td>\n",
       "      <td>NaN</td>\n",
       "      <td>The Guardian</td>\n",
       "      <td>Mission impossible: Barack Obama's Middle East...</td>\n",
       "      <td>968.0</td>\n",
       "      <td>Newspaper</td>\n",
       "      <td>Simon Tisdall Obama will have to call on all h...</td>\n",
       "      <td>2011.0</td>\n",
       "      <td>5.0</td>\n",
       "      <td>18.0</td>\n",
       "      <td>48.0</td>\n",
       "      <td>61.0</td>\n",
       "      <td>-0.013430</td>\n",
       "      <td>right_only</td>\n",
       "    </tr>\n",
       "  </tbody>\n",
       "</table>\n",
       "</div>"
      ],
      "text/plain": [
       "      EventID       Date                                          EventText  \\\n",
       "2897      NaN 2011-05-15                                                NaN   \n",
       "2899      NaN 2011-05-15                                                NaN   \n",
       "54     2017.0 2011-05-16  The Syrian army's siege across the country con...   \n",
       "53     2017.0 2011-05-16  The Syrian army's siege across the country con...   \n",
       "56     2017.0 2011-05-16  The Syrian army's siege across the country con...   \n",
       "55     2017.0 2011-05-16  The Syrian army's siege across the country con...   \n",
       "2902      NaN 2011-05-17                                                NaN   \n",
       "2901      NaN 2011-05-17                                                NaN   \n",
       "2907      NaN 2011-05-18                                                NaN   \n",
       "2906      NaN 2011-05-18                                                NaN   \n",
       "\n",
       "     FilterWords  FinalRating          publication  \\\n",
       "2897         NaN          NaN                  BBC   \n",
       "2899         NaN          NaN          Korea Times   \n",
       "54    all, leban          2.0                  BBC   \n",
       "53    all, leban          2.0            Usa Today   \n",
       "56    all, leban          2.0                  BBC   \n",
       "55    all, leban          2.0  The Washington Post   \n",
       "2902         NaN          NaN   The New York Times   \n",
       "2901         NaN          NaN      The Irish Times   \n",
       "2907         NaN          NaN                  BBC   \n",
       "2906         NaN          NaN         The Guardian   \n",
       "\n",
       "                                                  title  length  \\\n",
       "2897  Programme summary of Afghan Noor TV news in Da...   701.0   \n",
       "2899           The 'Obama Doctrine' is a fuzzy document   590.0   \n",
       "54    Gulf council's membership offer to Jordan \"sur...   572.0   \n",
       "53    Syria, Libya merit different U.S. policies; Da...   864.0   \n",
       "56    Column denies Turkish \"regional leadership\" af...   821.0   \n",
       "55                                 The U.S.-Saudi split  1003.0   \n",
       "2902           Questions Raised About a Code of Silence  1289.0   \n",
       "2901                      Arab League appoints El-Arabi   473.0   \n",
       "2907  Commentator says pro-Palestinian march \"test\" ...   604.0   \n",
       "2906  Mission impossible: Barack Obama's Middle East...   968.0   \n",
       "\n",
       "     publicationtype                                               text  \\\n",
       "2897      Transcript  A News headline B Home news 1 0100 Russian for...   \n",
       "2899       Newspaper  Barack Obama is a president in search of a doc...   \n",
       "54        Transcript  Text of report by Londonbased newspaper AlHaya...   \n",
       "53         Newspaper  When Libyas dictator Moammar Gadhafi attacked ...   \n",
       "56        Transcript  Text of report in English by Turkish newspaper...   \n",
       "55         Newspaper  A tectonic shift has occurred in the USSaudi r...   \n",
       "2902       Newspaper  PARIS  The ritual follows a clear script a sca...   \n",
       "2901       Newspaper  EGYPT S FORMER foreign minister Nabil elArabi ...   \n",
       "2907      Transcript  Text of report by Saudiowned leading panArab d...   \n",
       "2906       Newspaper  Simon Tisdall Obama will have to call on all h...   \n",
       "\n",
       "        year  month   day  PositiveCount  NegativeCount      tone      _merge  \n",
       "2897  2011.0    5.0  15.0           28.0           46.0 -0.025678  right_only  \n",
       "2899  2011.0    5.0  15.0           33.0           40.0 -0.011864  right_only  \n",
       "54    2011.0    5.0  16.0           26.0           16.0  0.017483        both  \n",
       "53    2011.0    5.0  16.0           34.0           52.0 -0.020833        both  \n",
       "56    2011.0    5.0  16.0           42.0           52.0 -0.012180        both  \n",
       "55    2011.0    5.0  16.0           51.0           53.0 -0.001994        both  \n",
       "2902  2011.0    5.0  17.0           60.0           81.0 -0.016292  right_only  \n",
       "2901  2011.0    5.0  17.0           23.0           31.0 -0.016913  right_only  \n",
       "2907  2011.0    5.0  18.0           26.0           49.0 -0.038079  right_only  \n",
       "2906  2011.0    5.0  18.0           48.0           61.0 -0.013430  right_only  "
      ]
     },
     "execution_count": 27,
     "metadata": {},
     "output_type": "execute_result"
    }
   ],
   "source": [
    "final = pd.merge(event, df1, on='Date', how='outer', indicator=True)\n",
    "final = final.drop('Unnamed: 0', 1)\n",
    "final.sort_values(by='Date').iloc[510:520]"
   ]
  },
  {
   "cell_type": "code",
   "execution_count": 28,
   "metadata": {},
   "outputs": [
    {
     "data": {
      "text/plain": [
       "442"
      ]
     },
     "execution_count": 28,
     "metadata": {},
     "output_type": "execute_result"
    }
   ],
   "source": [
    "# Number of unique events. Spot check.\n",
    "final.groupby(['EventID', 'Date']).size().count()"
   ]
  },
  {
   "cell_type": "code",
   "execution_count": 29,
   "metadata": {
    "collapsed": true
   },
   "outputs": [],
   "source": [
    "# Export to csv\n",
    "merged_path = \"/Users/laurieottehenning/Documents/Georgetown Data Science /Capstone/Merged\"\n",
    "os.chdir(merged_path)\n",
    "final.to_csv('Merged Events_Sentiment.csv')"
   ]
  }
 ],
 "metadata": {
  "kernelspec": {
   "display_name": "Python 3",
   "language": "python",
   "name": "python3"
  },
  "language_info": {
   "codemirror_mode": {
    "name": "ipython",
    "version": 3
   },
   "file_extension": ".py",
   "mimetype": "text/x-python",
   "name": "python",
   "nbconvert_exporter": "python",
   "pygments_lexer": "ipython3",
   "version": "3.6.0"
  }
 },
 "nbformat": 4,
 "nbformat_minor": 2
}
