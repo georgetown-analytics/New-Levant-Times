{
 "cells": [
  {
   "cell_type": "markdown",
   "metadata": {},
   "source": [
    "# Wrangling Lexis Nexis Syria Text Data\n",
    "## Exploratory Analysis\n",
    "\n",
    "This file will explore the cleaned text file, run descriptive statistics, and search for most frequently used words. "
   ]
  },
  {
   "cell_type": "code",
   "execution_count": 1,
   "metadata": {
    "collapsed": true
   },
   "outputs": [],
   "source": [
    "import pandas as pd\n",
    "import numpy as np\n",
    "from numpy import nan\n",
    "import nltk\n",
    "import matplotlib\n",
    "import matplotlib.pyplot as plt\n",
    "\n",
    "%matplotlib inline"
   ]
  },
  {
   "cell_type": "code",
   "execution_count": 2,
   "metadata": {
    "collapsed": false
   },
   "outputs": [],
   "source": [
    "df = pd.read_csv('clean_lexisnexis.csv', low_memory=False)"
   ]
  },
  {
   "cell_type": "code",
   "execution_count": 3,
   "metadata": {
    "collapsed": false
   },
   "outputs": [
    {
     "data": {
      "text/plain": [
       "publication        object\n",
       "date               object\n",
       "title              object\n",
       "length              int64\n",
       "publicationtype    object\n",
       "text               object\n",
       "year                int64\n",
       "month               int64\n",
       "day                 int64\n",
       "dtype: object"
      ]
     },
     "execution_count": 3,
     "metadata": {},
     "output_type": "execute_result"
    }
   ],
   "source": [
    "df.dtypes"
   ]
  },
  {
   "cell_type": "markdown",
   "metadata": {},
   "source": [
    "## Most common newspapers"
   ]
  },
  {
   "cell_type": "code",
   "execution_count": 4,
   "metadata": {
    "collapsed": false
   },
   "outputs": [
    {
     "name": "stdout",
     "output_type": "stream",
     "text": [
      "BBC Monitoring Europe - Political Supplied by BBC Worldwide Monitoring                 905\n",
      "BBC Monitoring Middle East - Political Supplied by BBC Worldwide Monitoring            826\n",
      "US Official News                                                                       585\n",
      "The Washington Post                                                                    490\n",
      "The New York Times                                                                     459\n",
      "The Guardian                                                                           362\n",
      "Today's Zaman (Turkey)                                                                 281\n",
      "Cihan News Agency (CNA)                                                                271\n",
      "Jerusalem Post                                                                         260\n",
      "BBC Monitoring Former Soviet Union - Political Supplied by BBC Worldwide Monitoring    245\n",
      "The Christian Science Monitor                                                          211\n",
      "Press TV                                                                               208\n",
      "The Times (London)                                                                     204\n",
      "The Daily Star (Lebanon)                                                               203\n",
      "The Globe and Mail (Canada)                                                            187\n",
      "Guardian.com                                                                           176\n",
      "Ottawa Citizen                                                                         175\n",
      "BBC Monitoring Trans Caucasus Unit Supplied by BBC Worldwide Monitoring                145\n",
      "International New York Times                                                           137\n",
      "The International Herald Tribune                                                       132\n",
      "The Daily Telegraph (London)                                                           127\n",
      "Asharq Alawsat (English)                                                               114\n",
      "Daily News Egypt                                                                       114\n",
      "Guardian.com.                                                                          110\n",
      "The National                                                                           104\n",
      "The Irish Times                                                                        102\n",
      "USA TODAY                                                                               98\n",
      "The Nation (Thailand)                                                                   96\n",
      "Al-Ahram Weekly                                                                         89\n",
      "The New Zealand Herald                                                                  89\n",
      "                                                                                      ... \n",
      "The Elkhart Truth, Ind.                                                                  1\n",
      "The Namibian (Windhoek)                                                                  1\n",
      "The Northlines (India)                                                                   1\n",
      "Liverpool Echo                                                                           1\n",
      "Northern Daily News (Kirkland Lake)                                                      1\n",
      "The New York Times Blogs (News)                                                          1\n",
      "examiner.co.uk                                                                           1\n",
      "Bega District News                                                                       1\n",
      "Global Capital Euroweek                                                                  1\n",
      "The DeFuniak Springs Herald (Florida)                                                    1\n",
      "The Bakersfield Californian                                                              1\n",
      "Chester Progressive (California)                                                         1\n",
      "The New York Times Blogs (The Learning Network)                                          1\n",
      "Thomasville Times-Enterprise (Georgia)                                                   1\n",
      "Capital                                                                                  1\n",
      "The Patriot Ledger (Quincy, MA)                                                          1\n",
      "Feather River Bulletin (Quincy, California)                                              1\n",
      "The Bristol Post                                                                         1\n",
      "Intellinews - Slovakia This Week                                                         1\n",
      "liverpoolecho.co.uk                                                                      1\n",
      "Daily Inter Lake, Kalispell, Mont.                                                       1\n",
      "The Daily Observer (Pembroke)                                                            1\n",
      "Leigh Reporter                                                                           1\n",
      "The Border Mail                                                                          1\n",
      "The Indianapolis Business Journal                                                        1\n",
      "Star of Mysore (India)                                                                   1\n",
      "The Packet & Times (Orillia)                                                             1\n",
      "South Wales Evening Post                                                                 1\n",
      "The Herald (South Africa)                                                                1\n",
      "The Sunday Star-Times (Auckland, New Zealand)                                            1\n",
      "Name: publication, dtype: int64 \n",
      "\n",
      "  BBC Monitoring Europe - Political Supplied by BBC Worldwide Monitoring                 0.060959\n",
      "BBC Monitoring Middle East - Political Supplied by BBC Worldwide Monitoring            0.055638\n",
      "US Official News                                                                       0.039405\n",
      "The Washington Post                                                                    0.033006\n",
      "The New York Times                                                                     0.030917\n",
      "The Guardian                                                                           0.024384\n",
      "Today's Zaman (Turkey)                                                                 0.018928\n",
      "Cihan News Agency (CNA)                                                                0.018254\n",
      "Jerusalem Post                                                                         0.017513\n",
      "BBC Monitoring Former Soviet Union - Political Supplied by BBC Worldwide Monitoring    0.016503\n",
      "The Christian Science Monitor                                                          0.014213\n",
      "Press TV                                                                               0.014011\n",
      "The Times (London)                                                                     0.013741\n",
      "The Daily Star (Lebanon)                                                               0.013674\n",
      "The Globe and Mail (Canada)                                                            0.012596\n",
      "Guardian.com                                                                           0.011855\n",
      "Ottawa Citizen                                                                         0.011788\n",
      "BBC Monitoring Trans Caucasus Unit Supplied by BBC Worldwide Monitoring                0.009767\n",
      "International New York Times                                                           0.009228\n",
      "The International Herald Tribune                                                       0.008891\n",
      "The Daily Telegraph (London)                                                           0.008554\n",
      "Asharq Alawsat (English)                                                               0.007679\n",
      "Daily News Egypt                                                                       0.007679\n",
      "Guardian.com.                                                                          0.007409\n",
      "The National                                                                           0.007005\n",
      "The Irish Times                                                                        0.006871\n",
      "USA TODAY                                                                              0.006601\n",
      "The Nation (Thailand)                                                                  0.006466\n",
      "Al-Ahram Weekly                                                                        0.005995\n",
      "The New Zealand Herald                                                                 0.005995\n",
      "                                                                                         ...   \n",
      "The Elkhart Truth, Ind.                                                                0.000067\n",
      "The Namibian (Windhoek)                                                                0.000067\n",
      "The Northlines (India)                                                                 0.000067\n",
      "Liverpool Echo                                                                         0.000067\n",
      "Northern Daily News (Kirkland Lake)                                                    0.000067\n",
      "The New York Times Blogs (News)                                                        0.000067\n",
      "examiner.co.uk                                                                         0.000067\n",
      "Bega District News                                                                     0.000067\n",
      "Global Capital Euroweek                                                                0.000067\n",
      "The DeFuniak Springs Herald (Florida)                                                  0.000067\n",
      "The Bakersfield Californian                                                            0.000067\n",
      "Chester Progressive (California)                                                       0.000067\n",
      "The New York Times Blogs (The Learning Network)                                        0.000067\n",
      "Thomasville Times-Enterprise (Georgia)                                                 0.000067\n",
      "Capital                                                                                0.000067\n",
      "The Patriot Ledger (Quincy, MA)                                                        0.000067\n",
      "Feather River Bulletin (Quincy, California)                                            0.000067\n",
      "The Bristol Post                                                                       0.000067\n",
      "Intellinews - Slovakia This Week                                                       0.000067\n",
      "liverpoolecho.co.uk                                                                    0.000067\n",
      "Daily Inter Lake, Kalispell, Mont.                                                     0.000067\n",
      "The Daily Observer (Pembroke)                                                          0.000067\n",
      "Leigh Reporter                                                                         0.000067\n",
      "The Border Mail                                                                        0.000067\n",
      "The Indianapolis Business Journal                                                      0.000067\n",
      "Star of Mysore (India)                                                                 0.000067\n",
      "The Packet & Times (Orillia)                                                           0.000067\n",
      "South Wales Evening Post                                                               0.000067\n",
      "The Herald (South Africa)                                                              0.000067\n",
      "The Sunday Star-Times (Auckland, New Zealand)                                          0.000067\n",
      "Name: publication, dtype: float64\n"
     ]
    }
   ],
   "source": [
    "print(df['publication'].value_counts(), \"\\n\\n \", df['publication'].value_counts(normalize=True))"
   ]
  },
  {
   "cell_type": "markdown",
   "metadata": {},
   "source": [
    "## Most common dates for news events"
   ]
  },
  {
   "cell_type": "code",
   "execution_count": 5,
   "metadata": {
    "collapsed": false
   },
   "outputs": [
    {
     "name": "stdout",
     "output_type": "stream",
     "text": [
      "2013-09-05    131\n",
      "2013-09-04    110\n",
      "2012-10-23     97\n",
      "2012-10-24     83\n",
      "2013-09-03     66\n",
      "2013-08-31     66\n",
      "2013-09-06     63\n",
      "2013-09-09     58\n",
      "2015-10-21     57\n",
      "2015-11-20     57\n",
      "2013-09-02     55\n",
      "2013-09-10     47\n",
      "2015-11-17     47\n",
      "2015-11-18     45\n",
      "2013-09-08     45\n",
      "2013-09-07     44\n",
      "2012-11-08     42\n",
      "2016-08-16     40\n",
      "2015-11-13     40\n",
      "2013-08-30     39\n",
      "2012-10-22     38\n",
      "2015-12-03     37\n",
      "2016-11-09     35\n",
      "2012-11-07     34\n",
      "2016-12-31     33\n",
      "2015-11-28     33\n",
      "2016-05-11     32\n",
      "2015-11-14     31\n",
      "2016-06-03     31\n",
      "2015-11-15     31\n",
      "             ... \n",
      "2012-05-19      1\n",
      "2014-02-17      1\n",
      "2010-07-14      1\n",
      "2010-06-03      1\n",
      "2011-04-14      1\n",
      "2014-04-29      1\n",
      "2010-09-13      1\n",
      "2010-06-17      1\n",
      "2011-11-04      1\n",
      "2010-12-02      1\n",
      "2013-02-11      1\n",
      "2011-04-16      1\n",
      "2010-10-23      1\n",
      "2016-02-06      1\n",
      "2011-09-30      1\n",
      "2010-05-22      1\n",
      "2015-02-14      1\n",
      "2010-04-20      1\n",
      "2010-12-04      1\n",
      "2013-04-25      1\n",
      "2010-03-31      1\n",
      "2013-01-19      1\n",
      "2015-05-20      1\n",
      "2012-02-25      1\n",
      "2010-07-19      1\n",
      "2013-12-19      1\n",
      "2014-11-23      1\n",
      "2010-10-28      1\n",
      "2010-07-11      1\n",
      "2011-11-24      1\n",
      "Name: date, dtype: int64  \n",
      "\n",
      " 2013-09-05    0.008824\n",
      "2013-09-04    0.007409\n",
      "2012-10-23    0.006534\n",
      "2012-10-24    0.005591\n",
      "2013-09-03    0.004446\n",
      "2013-08-31    0.004446\n",
      "2013-09-06    0.004244\n",
      "2013-09-09    0.003907\n",
      "2015-10-21    0.003839\n",
      "2015-11-20    0.003839\n",
      "2013-09-02    0.003705\n",
      "2013-09-10    0.003166\n",
      "2015-11-17    0.003166\n",
      "2015-11-18    0.003031\n",
      "2013-09-08    0.003031\n",
      "2013-09-07    0.002964\n",
      "2012-11-08    0.002829\n",
      "2016-08-16    0.002694\n",
      "2015-11-13    0.002694\n",
      "2013-08-30    0.002627\n",
      "2012-10-22    0.002560\n",
      "2015-12-03    0.002492\n",
      "2016-11-09    0.002358\n",
      "2012-11-07    0.002290\n",
      "2016-12-31    0.002223\n",
      "2015-11-28    0.002223\n",
      "2016-05-11    0.002155\n",
      "2015-11-14    0.002088\n",
      "2016-06-03    0.002088\n",
      "2015-11-15    0.002088\n",
      "                ...   \n",
      "2012-05-19    0.000067\n",
      "2014-02-17    0.000067\n",
      "2010-07-14    0.000067\n",
      "2010-06-03    0.000067\n",
      "2011-04-14    0.000067\n",
      "2014-04-29    0.000067\n",
      "2010-09-13    0.000067\n",
      "2010-06-17    0.000067\n",
      "2011-11-04    0.000067\n",
      "2010-12-02    0.000067\n",
      "2013-02-11    0.000067\n",
      "2011-04-16    0.000067\n",
      "2010-10-23    0.000067\n",
      "2016-02-06    0.000067\n",
      "2011-09-30    0.000067\n",
      "2010-05-22    0.000067\n",
      "2015-02-14    0.000067\n",
      "2010-04-20    0.000067\n",
      "2010-12-04    0.000067\n",
      "2013-04-25    0.000067\n",
      "2010-03-31    0.000067\n",
      "2013-01-19    0.000067\n",
      "2015-05-20    0.000067\n",
      "2012-02-25    0.000067\n",
      "2010-07-19    0.000067\n",
      "2013-12-19    0.000067\n",
      "2014-11-23    0.000067\n",
      "2010-10-28    0.000067\n",
      "2010-07-11    0.000067\n",
      "2011-11-24    0.000067\n",
      "Name: date, dtype: float64\n"
     ]
    }
   ],
   "source": [
    "print(df['date'].value_counts(), \" \\n\\n\", df['date'].value_counts(normalize=True))"
   ]
  },
  {
   "cell_type": "code",
   "execution_count": 6,
   "metadata": {
    "collapsed": false
   },
   "outputs": [
    {
     "data": {
      "text/plain": [
       "count    14846.000000\n",
       "mean      2013.818604\n",
       "std          1.613903\n",
       "min       2010.000000\n",
       "25%       2013.000000\n",
       "50%       2014.000000\n",
       "75%       2015.000000\n",
       "max       2017.000000\n",
       "Name: year, dtype: float64"
      ]
     },
     "execution_count": 6,
     "metadata": {},
     "output_type": "execute_result"
    }
   ],
   "source": [
    "df['year'].describe()"
   ]
  },
  {
   "cell_type": "code",
   "execution_count": 24,
   "metadata": {
    "collapsed": false
   },
   "outputs": [
    {
     "data": {
      "image/png": "[encoded data removed]",
      "text/plain": [
       "<matplotlib.figure.Figure at 0x177e16b38>"
      ]
     },
     "metadata": {},
     "output_type": "display_data"
    }
   ],
   "source": [
    "df1 = df.groupby(['year']).count()\n",
    "\n",
    "ax = df1.title.plot(kind='bar', title =\"Articles per year\", figsize=(15, 10), legend=True, fontsize=12)\n",
    "ax.set_xlabel(\"Year\", fontsize=12)\n",
    "ax.set_ylabel(\"Num of articles\", fontsize=12)\n",
    "plt.show()"
   ]
  },
  {
   "cell_type": "markdown",
   "metadata": {},
   "source": [
    "## Length of newspaper articles"
   ]
  },
  {
   "cell_type": "code",
   "execution_count": 25,
   "metadata": {
    "collapsed": false
   },
   "outputs": [
    {
     "data": {
      "text/plain": [
       "count    14846.000000\n",
       "mean       858.114037\n",
       "std        689.237094\n",
       "min         32.000000\n",
       "25%        529.000000\n",
       "50%        737.000000\n",
       "75%        968.000000\n",
       "max      14417.000000\n",
       "Name: length, dtype: float64"
      ]
     },
     "execution_count": 25,
     "metadata": {},
     "output_type": "execute_result"
    }
   ],
   "source": [
    "df['length'].describe()"
   ]
  },
  {
   "cell_type": "code",
   "execution_count": 26,
   "metadata": {
    "collapsed": false
   },
   "outputs": [
    {
     "data": {
      "image/png": "[encoded data removed]",
      "text/plain": [
       "<matplotlib.figure.Figure at 0x193f7b710>"
      ]
     },
     "metadata": {},
     "output_type": "display_data"
    }
   ],
   "source": [
    "fig = plt.figure()\n",
    "ax = fig.add_subplot(111)\n",
    "ax.hist(df['length'], bins = 50, range = (df['length'].min(),2500))\n",
    "plt.title('Length distribution')\n",
    "plt.xlabel('Length')\n",
    "plt.ylabel('Count of Words')\n",
    "plt.show()"
   ]
  },
  {
   "cell_type": "markdown",
   "metadata": {},
   "source": [
    "## 10 Most Common Words in Title"
   ]
  },
  {
   "cell_type": "code",
   "execution_count": 27,
   "metadata": {
    "collapsed": false
   },
   "outputs": [
    {
     "name": "stdout",
     "output_type": "stream",
     "text": [
      "All frequencies, including STOPWORDS:\n",
      "============================================================\n",
      "  Word  Frequency\n",
      "0   to       4434\n",
      "1    ,       4110\n",
      "2  the       4053\n",
      "3   's       3399\n",
      "4   in       3373\n",
      "5   of       3280\n",
      "6    :       2886\n",
      "7    ;       2483\n",
      "8   on       2478\n",
      "9  for       2068\n",
      "============================================================\n"
     ]
    },
    {
     "data": {
      "text/plain": [
       "<matplotlib.axes._subplots.AxesSubplot at 0x133d304e0>"
      ]
     },
     "execution_count": 27,
     "metadata": {},
     "output_type": "execute_result"
    },
    {
     "data": {
      "image/png": "[encoded data removed]",
      "text/plain": [
       "<matplotlib.figure.Figure at 0x133d30358>"
      ]
     },
     "metadata": {},
     "output_type": "display_data"
    }
   ],
   "source": [
    "top_N = 10\n",
    "\n",
    "df2 = pd.read_csv('clean_lexisnexis.csv',\n",
    "                 usecols=['title'])\n",
    "\n",
    "txt = df2.title.str.lower().str.replace(r'\\|', ' ').str.cat(sep=' ')\n",
    "words = nltk.tokenize.word_tokenize(txt)\n",
    "word_dist = nltk.FreqDist(words)\n",
    "\n",
    "stopwords = nltk.corpus.stopwords.words('english')\n",
    "morestopwords = [':', ';', \"'s\", 'to', 'for', ',', \"'\", '.', '-', '?', 'says']\n",
    "for i in morestopwords:\n",
    "    stopwords.append(i)\n",
    "\n",
    "words_except_stop_dist = nltk.FreqDist(w for w in words if w not in stopwords) \n",
    "\n",
    "print('All frequencies, including STOPWORDS:')\n",
    "print('=' * 60)\n",
    "rslt = pd.DataFrame(word_dist.most_common(top_N),\n",
    "                    columns=['Word', 'Frequency'])\n",
    "print(rslt)\n",
    "print('=' * 60)\n",
    "\n",
    "rslt = pd.DataFrame(words_except_stop_dist.most_common(top_N),\n",
    "                    columns=['Word', 'Frequency']).set_index('Word')\n",
    "\n",
    "matplotlib.style.use('ggplot')\n",
    "\n",
    "rslt.plot.bar(rot=0)"
   ]
  },
  {
   "cell_type": "markdown",
   "metadata": {},
   "source": [
    "## 10 Most Common Words in Text"
   ]
  },
  {
   "cell_type": "code",
   "execution_count": 28,
   "metadata": {
    "collapsed": false
   },
   "outputs": [
    {
     "name": "stdout",
     "output_type": "stream",
     "text": [
      "All frequencies, including STOPWORDS:\n",
      "============================================================\n",
      "   Word  Frequency\n",
      "0   the     861139\n",
      "1     ,     646775\n",
      "2     .     526195\n",
      "3    to     379245\n",
      "4    of     375440\n",
      "5   and     340353\n",
      "6    in     310343\n",
      "7     a     266750\n",
      "8  that     180862\n",
      "9    is     152314\n",
      "============================================================\n"
     ]
    },
    {
     "data": {
      "text/plain": [
       "<matplotlib.axes._subplots.AxesSubplot at 0x1942a5048>"
      ]
     },
     "execution_count": 28,
     "metadata": {},
     "output_type": "execute_result"
    },
    {
     "data": {
      "image/png": "[encoded data removed]",
      "text/plain": [
       "<matplotlib.figure.Figure at 0x1942a7588>"
      ]
     },
     "metadata": {},
     "output_type": "display_data"
    }
   ],
   "source": [
    "top_N = 10\n",
    "\n",
    "df3 = pd.read_csv('clean_lexisnexis.csv',\n",
    "                 usecols=['text'])\n",
    "\n",
    "txt = df3.text.str.lower().str.replace(r'\\|', ' ').str.cat(sep=' ')\n",
    "words = nltk.tokenize.word_tokenize(txt)\n",
    "word_dist = nltk.FreqDist(words)\n",
    "\n",
    "stopwords = nltk.corpus.stopwords.words('english')\n",
    "morestopwords = [':', ';', \"'s\", 'to', 'for', ',', \"'\", '.', '-', '?', 'says', '\"', \"`\", \"``\",\n",
    "                \"''\", \"(\", \")\", \"said\", \"would\", \"also\"]\n",
    "for i in morestopwords:\n",
    "    stopwords.append(i)\n",
    "\n",
    "words_except_stop_dist = nltk.FreqDist(w for w in words if w not in stopwords) \n",
    "\n",
    "print('All frequencies, including STOPWORDS:')\n",
    "print('=' * 60)\n",
    "rslt = pd.DataFrame(word_dist.most_common(top_N),\n",
    "                    columns=['Word', 'Frequency'])\n",
    "print(rslt)\n",
    "print('=' * 60)\n",
    "\n",
    "rslt = pd.DataFrame(words_except_stop_dist.most_common(top_N),\n",
    "                    columns=['Word', 'Frequency']).set_index('Word')\n",
    "\n",
    "matplotlib.style.use('ggplot')\n",
    "\n",
    "rslt.plot.bar(rot=0)"
   ]
  },
  {
   "cell_type": "code",
   "execution_count": null,
   "metadata": {
    "collapsed": true
   },
   "outputs": [],
   "source": [
    ""
   ]
  }
 ],
 "metadata": {
  "kernelspec": {
   "display_name": "Python 3",
   "language": "python",
   "name": "python3"
  },
  "language_info": {
   "codemirror_mode": {
    "name": "ipython",
    "version": 3.0
   },
   "file_extension": ".py",
   "mimetype": "text/x-python",
   "name": "python",
   "nbconvert_exporter": "python",
   "pygments_lexer": "ipython3",
   "version": "3.6.0"
  }
 },
 "nbformat": 4,
 "nbformat_minor": 0
}