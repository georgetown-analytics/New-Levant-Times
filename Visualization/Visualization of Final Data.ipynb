{
 "cells": [
  {
   "cell_type": "markdown",
   "metadata": {},
   "source": [
    "# Visualizations\n",
    "\n",
    "This is a seperate notebook from the visualizations we will do after running the machine learning with *sklearn*. \n",
    "\n",
    "Some ideas:\n",
    "   * Graph the number of articles over time. We will need to use the file: *Merged Events_Sentiment.*\n",
    "   * Track the sentiment over time data. We have one year of pre-civil war articles. It could be interesting to if the sentiment changes dramatically once the war begins (I would expect that it would if our corpus is doing a good job). If there are spikes in sentiment, try and match it to a given event. The *Merged Events_Sentiment.csv* might be useful or the *Final_Clean_Data.csv* data set. \n",
    "   * Combine the two graphs above together\n",
    "   * which words were most predictive per year\n",
    "   * **Any other ideas list them here**\n",
    "   "
   ]
  }
 ],
 "metadata": {
  "kernelspec": {
   "display_name": "Python 3",
   "language": "python",
   "name": "python3"
  },
  "language_info": {
   "codemirror_mode": {
    "name": "ipython",
    "version": 3
   },
   "file_extension": ".py",
   "mimetype": "text/x-python",
   "name": "python",
   "nbconvert_exporter": "python",
   "pygments_lexer": "ipython3",
   "version": "3.6.0"
  }
 },
 "nbformat": 4,
 "nbformat_minor": 2
}
