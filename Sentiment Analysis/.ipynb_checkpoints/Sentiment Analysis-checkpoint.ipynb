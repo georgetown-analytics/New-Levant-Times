{
 "cells": [
  {
   "cell_type": "markdown",
   "metadata": {},
   "source": [
    "# Sentiment Analysis\n",
    "## Use *TextBlob*\n",
    "\n",
    "Generate a sentiment analysis for newspaper articles covering events in Syria from the years 2010-2017. "
   ]
  },
  {
   "cell_type": "code",
   "execution_count": 1,
   "metadata": {
    "collapsed": true
   },
   "outputs": [],
   "source": [
    "%matplotlib inline"
   ]
  },
  {
   "cell_type": "code",
   "execution_count": 2,
   "metadata": {
    "collapsed": false
   },
   "outputs": [],
   "source": [
    "import pandas as pd\n",
    "import numpy as np\n",
    "from numpy import nan\n",
    "import seaborn as sns\n",
    "import matplotlib\n",
    "import matplotlib.pyplot as plt\n",
    "\n",
    "sns.set_context('notebook')\n",
    "sns.set_style('whitegrid')"
   ]
  },
  {
   "cell_type": "markdown",
   "metadata": {},
   "source": [
    "## Data Loading"
   ]
  },
  {
   "cell_type": "code",
   "execution_count": 3,
   "metadata": {
    "collapsed": false
   },
   "outputs": [
    {
     "ename": "FileNotFoundError",
     "evalue": "File b'CleanLexisNexis.csv' does not exist",
     "output_type": "error",
     "traceback": [
      "\u001b[0;31m---------------------------------------------------------------------------\u001b[0m",
      "\u001b[0;31mFileNotFoundError\u001b[0m                         Traceback (most recent call last)",
      "\u001b[0;32m<ipython-input-3-ac42711211b4>\u001b[0m in \u001b[0;36m<module>\u001b[0;34m()\u001b[0m\n\u001b[0;32m----> 1\u001b[0;31m \u001b[0mdf\u001b[0m \u001b[0;34m=\u001b[0m \u001b[0mpd\u001b[0m\u001b[0;34m.\u001b[0m\u001b[0mread_csv\u001b[0m\u001b[0;34m(\u001b[0m\u001b[0;34m'CleanLexisNexis.csv'\u001b[0m\u001b[0;34m,\u001b[0m \u001b[0mparse_dates\u001b[0m\u001b[0;34m=\u001b[0m\u001b[0;34m[\u001b[0m\u001b[0;34m'date'\u001b[0m\u001b[0;34m]\u001b[0m\u001b[0;34m)\u001b[0m\u001b[0;34m\u001b[0m\u001b[0m\n\u001b[0m",
      "\u001b[0;32m/Users/litosmac/anaconda/lib/python3.6/site-packages/pandas/io/parsers.py\u001b[0m in \u001b[0;36mparser_f\u001b[0;34m(filepath_or_buffer, sep, delimiter, header, names, index_col, usecols, squeeze, prefix, mangle_dupe_cols, dtype, engine, converters, true_values, false_values, skipinitialspace, skiprows, nrows, na_values, keep_default_na, na_filter, verbose, skip_blank_lines, parse_dates, infer_datetime_format, keep_date_col, date_parser, dayfirst, iterator, chunksize, compression, thousands, decimal, lineterminator, quotechar, quoting, escapechar, comment, encoding, dialect, tupleize_cols, error_bad_lines, warn_bad_lines, skipfooter, skip_footer, doublequote, delim_whitespace, as_recarray, compact_ints, use_unsigned, low_memory, buffer_lines, memory_map, float_precision)\u001b[0m\n\u001b[1;32m    644\u001b[0m                     skip_blank_lines=skip_blank_lines)\n\u001b[1;32m    645\u001b[0m \u001b[0;34m\u001b[0m\u001b[0m\n\u001b[0;32m--> 646\u001b[0;31m         \u001b[0;32mreturn\u001b[0m \u001b[0m_read\u001b[0m\u001b[0;34m(\u001b[0m\u001b[0mfilepath_or_buffer\u001b[0m\u001b[0;34m,\u001b[0m \u001b[0mkwds\u001b[0m\u001b[0;34m)\u001b[0m\u001b[0;34m\u001b[0m\u001b[0m\n\u001b[0m\u001b[1;32m    647\u001b[0m \u001b[0;34m\u001b[0m\u001b[0m\n\u001b[1;32m    648\u001b[0m     \u001b[0mparser_f\u001b[0m\u001b[0;34m.\u001b[0m\u001b[0m__name__\u001b[0m \u001b[0;34m=\u001b[0m \u001b[0mname\u001b[0m\u001b[0;34m\u001b[0m\u001b[0m\n",
      "\u001b[0;32m/Users/litosmac/anaconda/lib/python3.6/site-packages/pandas/io/parsers.py\u001b[0m in \u001b[0;36m_read\u001b[0;34m(filepath_or_buffer, kwds)\u001b[0m\n\u001b[1;32m    387\u001b[0m \u001b[0;34m\u001b[0m\u001b[0m\n\u001b[1;32m    388\u001b[0m     \u001b[0;31m# Create the parser.\u001b[0m\u001b[0;34m\u001b[0m\u001b[0;34m\u001b[0m\u001b[0m\n\u001b[0;32m--> 389\u001b[0;31m     \u001b[0mparser\u001b[0m \u001b[0;34m=\u001b[0m \u001b[0mTextFileReader\u001b[0m\u001b[0;34m(\u001b[0m\u001b[0mfilepath_or_buffer\u001b[0m\u001b[0;34m,\u001b[0m \u001b[0;34m**\u001b[0m\u001b[0mkwds\u001b[0m\u001b[0;34m)\u001b[0m\u001b[0;34m\u001b[0m\u001b[0m\n\u001b[0m\u001b[1;32m    390\u001b[0m \u001b[0;34m\u001b[0m\u001b[0m\n\u001b[1;32m    391\u001b[0m     \u001b[0;32mif\u001b[0m \u001b[0;34m(\u001b[0m\u001b[0mnrows\u001b[0m \u001b[0;32mis\u001b[0m \u001b[0;32mnot\u001b[0m \u001b[0;32mNone\u001b[0m\u001b[0;34m)\u001b[0m \u001b[0;32mand\u001b[0m \u001b[0;34m(\u001b[0m\u001b[0mchunksize\u001b[0m \u001b[0;32mis\u001b[0m \u001b[0;32mnot\u001b[0m \u001b[0;32mNone\u001b[0m\u001b[0;34m)\u001b[0m\u001b[0;34m:\u001b[0m\u001b[0;34m\u001b[0m\u001b[0m\n",
      "\u001b[0;32m/Users/litosmac/anaconda/lib/python3.6/site-packages/pandas/io/parsers.py\u001b[0m in \u001b[0;36m__init__\u001b[0;34m(self, f, engine, **kwds)\u001b[0m\n\u001b[1;32m    728\u001b[0m             \u001b[0mself\u001b[0m\u001b[0;34m.\u001b[0m\u001b[0moptions\u001b[0m\u001b[0;34m[\u001b[0m\u001b[0;34m'has_index_names'\u001b[0m\u001b[0;34m]\u001b[0m \u001b[0;34m=\u001b[0m \u001b[0mkwds\u001b[0m\u001b[0;34m[\u001b[0m\u001b[0;34m'has_index_names'\u001b[0m\u001b[0;34m]\u001b[0m\u001b[0;34m\u001b[0m\u001b[0m\n\u001b[1;32m    729\u001b[0m \u001b[0;34m\u001b[0m\u001b[0m\n\u001b[0;32m--> 730\u001b[0;31m         \u001b[0mself\u001b[0m\u001b[0;34m.\u001b[0m\u001b[0m_make_engine\u001b[0m\u001b[0;34m(\u001b[0m\u001b[0mself\u001b[0m\u001b[0;34m.\u001b[0m\u001b[0mengine\u001b[0m\u001b[0;34m)\u001b[0m\u001b[0;34m\u001b[0m\u001b[0m\n\u001b[0m\u001b[1;32m    731\u001b[0m \u001b[0;34m\u001b[0m\u001b[0m\n\u001b[1;32m    732\u001b[0m     \u001b[0;32mdef\u001b[0m \u001b[0mclose\u001b[0m\u001b[0;34m(\u001b[0m\u001b[0mself\u001b[0m\u001b[0;34m)\u001b[0m\u001b[0;34m:\u001b[0m\u001b[0;34m\u001b[0m\u001b[0m\n",
      "\u001b[0;32m/Users/litosmac/anaconda/lib/python3.6/site-packages/pandas/io/parsers.py\u001b[0m in \u001b[0;36m_make_engine\u001b[0;34m(self, engine)\u001b[0m\n\u001b[1;32m    921\u001b[0m     \u001b[0;32mdef\u001b[0m \u001b[0m_make_engine\u001b[0m\u001b[0;34m(\u001b[0m\u001b[0mself\u001b[0m\u001b[0;34m,\u001b[0m \u001b[0mengine\u001b[0m\u001b[0;34m=\u001b[0m\u001b[0;34m'c'\u001b[0m\u001b[0;34m)\u001b[0m\u001b[0;34m:\u001b[0m\u001b[0;34m\u001b[0m\u001b[0m\n\u001b[1;32m    922\u001b[0m         \u001b[0;32mif\u001b[0m \u001b[0mengine\u001b[0m \u001b[0;34m==\u001b[0m \u001b[0;34m'c'\u001b[0m\u001b[0;34m:\u001b[0m\u001b[0;34m\u001b[0m\u001b[0m\n\u001b[0;32m--> 923\u001b[0;31m             \u001b[0mself\u001b[0m\u001b[0;34m.\u001b[0m\u001b[0m_engine\u001b[0m \u001b[0;34m=\u001b[0m \u001b[0mCParserWrapper\u001b[0m\u001b[0;34m(\u001b[0m\u001b[0mself\u001b[0m\u001b[0;34m.\u001b[0m\u001b[0mf\u001b[0m\u001b[0;34m,\u001b[0m \u001b[0;34m**\u001b[0m\u001b[0mself\u001b[0m\u001b[0;34m.\u001b[0m\u001b[0moptions\u001b[0m\u001b[0;34m)\u001b[0m\u001b[0;34m\u001b[0m\u001b[0m\n\u001b[0m\u001b[1;32m    924\u001b[0m         \u001b[0;32melse\u001b[0m\u001b[0;34m:\u001b[0m\u001b[0;34m\u001b[0m\u001b[0m\n\u001b[1;32m    925\u001b[0m             \u001b[0;32mif\u001b[0m \u001b[0mengine\u001b[0m \u001b[0;34m==\u001b[0m \u001b[0;34m'python'\u001b[0m\u001b[0;34m:\u001b[0m\u001b[0;34m\u001b[0m\u001b[0m\n",
      "\u001b[0;32m/Users/litosmac/anaconda/lib/python3.6/site-packages/pandas/io/parsers.py\u001b[0m in \u001b[0;36m__init__\u001b[0;34m(self, src, **kwds)\u001b[0m\n\u001b[1;32m   1388\u001b[0m         \u001b[0mkwds\u001b[0m\u001b[0;34m[\u001b[0m\u001b[0;34m'allow_leading_cols'\u001b[0m\u001b[0;34m]\u001b[0m \u001b[0;34m=\u001b[0m \u001b[0mself\u001b[0m\u001b[0;34m.\u001b[0m\u001b[0mindex_col\u001b[0m \u001b[0;32mis\u001b[0m \u001b[0;32mnot\u001b[0m \u001b[0;32mFalse\u001b[0m\u001b[0;34m\u001b[0m\u001b[0m\n\u001b[1;32m   1389\u001b[0m \u001b[0;34m\u001b[0m\u001b[0m\n\u001b[0;32m-> 1390\u001b[0;31m         \u001b[0mself\u001b[0m\u001b[0;34m.\u001b[0m\u001b[0m_reader\u001b[0m \u001b[0;34m=\u001b[0m \u001b[0m_parser\u001b[0m\u001b[0;34m.\u001b[0m\u001b[0mTextReader\u001b[0m\u001b[0;34m(\u001b[0m\u001b[0msrc\u001b[0m\u001b[0;34m,\u001b[0m \u001b[0;34m**\u001b[0m\u001b[0mkwds\u001b[0m\u001b[0;34m)\u001b[0m\u001b[0;34m\u001b[0m\u001b[0m\n\u001b[0m\u001b[1;32m   1391\u001b[0m \u001b[0;34m\u001b[0m\u001b[0m\n\u001b[1;32m   1392\u001b[0m         \u001b[0;31m# XXX\u001b[0m\u001b[0;34m\u001b[0m\u001b[0;34m\u001b[0m\u001b[0m\n",
      "\u001b[0;32mpandas/parser.pyx\u001b[0m in \u001b[0;36mpandas.parser.TextReader.__cinit__ (pandas/parser.c:4184)\u001b[0;34m()\u001b[0m\n",
      "\u001b[0;32mpandas/parser.pyx\u001b[0m in \u001b[0;36mpandas.parser.TextReader._setup_parser_source (pandas/parser.c:8449)\u001b[0;34m()\u001b[0m\n",
      "\u001b[0;31mFileNotFoundError\u001b[0m: File b'CleanLexisNexis.csv' does not exist"
     ]
    }
   ],
   "source": [
    "df = pd.read_csv('CleanLexisNexis.csv', parse_dates=['date'])"
   ]
  },
  {
   "cell_type": "code",
   "execution_count": 5,
   "metadata": {
    "collapsed": false
   },
   "outputs": [
    {
     "data": {
      "text/plain": [
       "publication                object\n",
       "date               datetime64[ns]\n",
       "title                      object\n",
       "length                      int64\n",
       "publicationtype            object\n",
       "text                       object\n",
       "year                        int64\n",
       "month                       int64\n",
       "day                         int64\n",
       "dtype: object"
      ]
     },
     "execution_count": 5,
     "metadata": {},
     "output_type": "execute_result"
    }
   ],
   "source": [
    "df.dtypes"
   ]
  },
  {
   "cell_type": "code",
   "execution_count": 9,
   "metadata": {
    "collapsed": false
   },
   "outputs": [
    {
     "data": {
      "text/html": [
       "<div>\n",
       "<table border=\"1\" class=\"dataframe\">\n",
       "  <thead>\n",
       "    <tr style=\"text-align: right;\">\n",
       "      <th></th>\n",
       "      <th>publication</th>\n",
       "      <th>date</th>\n",
       "      <th>title</th>\n",
       "      <th>length</th>\n",
       "      <th>publicationtype</th>\n",
       "      <th>text</th>\n",
       "      <th>year</th>\n",
       "      <th>month</th>\n",
       "      <th>day</th>\n",
       "    </tr>\n",
       "  </thead>\n",
       "  <tbody>\n",
       "    <tr>\n",
       "      <th>0</th>\n",
       "      <td>The Atlanta Journal-Constitution</td>\n",
       "      <td>2010-01-03</td>\n",
       "      <td>Five pressing questions to answer in 2010</td>\n",
       "      <td>747</td>\n",
       "      <td>Newspapers</td>\n",
       "      <td>Will President Barack Obama regain his momentu...</td>\n",
       "      <td>2010</td>\n",
       "      <td>1</td>\n",
       "      <td>3</td>\n",
       "    </tr>\n",
       "    <tr>\n",
       "      <th>1</th>\n",
       "      <td>BBC Monitoring Middle East - Political Supplie...</td>\n",
       "      <td>2010-01-04</td>\n",
       "      <td>Saudi foreign minister says Israel \"spoiled ch...</td>\n",
       "      <td>2196</td>\n",
       "      <td>Transcript</td>\n",
       "      <td>Text of report by Saudi-owned leading pan-Arab...</td>\n",
       "      <td>2010</td>\n",
       "      <td>1</td>\n",
       "      <td>4</td>\n",
       "    </tr>\n",
       "    <tr>\n",
       "      <th>2</th>\n",
       "      <td>BBC Monitoring Middle East - Political Supplie...</td>\n",
       "      <td>2010-01-08</td>\n",
       "      <td>Highlights of Iran parliamentary session.</td>\n",
       "      <td>1123</td>\n",
       "      <td>Transcript</td>\n",
       "      <td>Excerpt from report on parliamentary proceedin...</td>\n",
       "      <td>2010</td>\n",
       "      <td>1</td>\n",
       "      <td>8</td>\n",
       "    </tr>\n",
       "    <tr>\n",
       "      <th>3</th>\n",
       "      <td>Right Vision News</td>\n",
       "      <td>2010-01-09</td>\n",
       "      <td>Jordan:Way out for Obama</td>\n",
       "      <td>852</td>\n",
       "      <td>Newspaper</td>\n",
       "      <td>Pakistan, Jan. 09 -- These are the worst of ti...</td>\n",
       "      <td>2010</td>\n",
       "      <td>1</td>\n",
       "      <td>9</td>\n",
       "    </tr>\n",
       "  </tbody>\n",
       "</table>\n",
       "</div>"
      ],
      "text/plain": [
       "                                         publication       date  \\\n",
       "0                   The Atlanta Journal-Constitution 2010-01-03   \n",
       "1  BBC Monitoring Middle East - Political Supplie... 2010-01-04   \n",
       "2  BBC Monitoring Middle East - Political Supplie... 2010-01-08   \n",
       "3                                  Right Vision News 2010-01-09   \n",
       "\n",
       "                                               title  length publicationtype  \\\n",
       "0          Five pressing questions to answer in 2010     747      Newspapers   \n",
       "1  Saudi foreign minister says Israel \"spoiled ch...    2196      Transcript   \n",
       "2          Highlights of Iran parliamentary session.    1123      Transcript   \n",
       "3                           Jordan:Way out for Obama     852       Newspaper   \n",
       "\n",
       "                                                text  year  month  day  \n",
       "0  Will President Barack Obama regain his momentu...  2010      1    3  \n",
       "1  Text of report by Saudi-owned leading pan-Arab...  2010      1    4  \n",
       "2  Excerpt from report on parliamentary proceedin...  2010      1    8  \n",
       "3  Pakistan, Jan. 09 -- These are the worst of ti...  2010      1    9  "
      ]
     },
     "execution_count": 9,
     "metadata": {},
     "output_type": "execute_result"
    }
   ],
   "source": [
    "df.head(4)"
   ]
  },
  {
   "cell_type": "markdown",
   "metadata": {},
   "source": [
    "## 1. Sentiment Analysis\n",
    "\n",
    "Will use the default settings on TextBlob. These are positive and negative ratings trained on movie ratings. "
   ]
  },
  {
   "cell_type": "code",
   "execution_count": 11,
   "metadata": {
    "collapsed": true
   },
   "outputs": [],
   "source": [
    "from textblob import TextBlob"
   ]
  },
  {
   "cell_type": "code",
   "execution_count": 39,
   "metadata": {
    "collapsed": false
   },
   "outputs": [],
   "source": [
    "df['polarity'] = df.apply(lambda x: TextBlob(x['text']).sentiment.polarity, axis=1)\n",
    "df['subjectivity'] = df.apply(lambda x: TextBlob(x['text']).sentiment.subjectivity, axis=1)\n"
   ]
  },
  {
   "cell_type": "code",
   "execution_count": 60,
   "metadata": {
    "collapsed": false,
    "scrolled": true
   },
   "outputs": [
    {
     "data": {
      "text/html": [
       "<div>\n",
       "<table border=\"1\" class=\"dataframe\">\n",
       "  <thead>\n",
       "    <tr style=\"text-align: right;\">\n",
       "      <th></th>\n",
       "      <th>publication</th>\n",
       "      <th>date</th>\n",
       "      <th>title</th>\n",
       "      <th>length</th>\n",
       "      <th>publicationtype</th>\n",
       "      <th>text</th>\n",
       "      <th>year</th>\n",
       "      <th>month</th>\n",
       "      <th>day</th>\n",
       "      <th>polarity</th>\n",
       "      <th>subjectivity</th>\n",
       "    </tr>\n",
       "  </thead>\n",
       "  <tbody>\n",
       "    <tr>\n",
       "      <th>2000</th>\n",
       "      <td>Jerusalem Post</td>\n",
       "      <td>2012-07-23</td>\n",
       "      <td>Obama's Egypt policy</td>\n",
       "      <td>1129</td>\n",
       "      <td>Newspaper</td>\n",
       "      <td>\"Which Side Are You On? / They say in Harlan C...</td>\n",
       "      <td>2012</td>\n",
       "      <td>7</td>\n",
       "      <td>23</td>\n",
       "      <td>0.117632</td>\n",
       "      <td>0.418190</td>\n",
       "    </tr>\n",
       "    <tr>\n",
       "      <th>2001</th>\n",
       "      <td>The Age (Melbourne, Australia)</td>\n",
       "      <td>2012-07-24</td>\n",
       "      <td>America's foreign fantasy</td>\n",
       "      <td>970</td>\n",
       "      <td>Newspaper</td>\n",
       "      <td>Washington's global ambitions exceed its power...</td>\n",
       "      <td>2012</td>\n",
       "      <td>7</td>\n",
       "      <td>24</td>\n",
       "      <td>0.060325</td>\n",
       "      <td>0.386745</td>\n",
       "    </tr>\n",
       "    <tr>\n",
       "      <th>2002</th>\n",
       "      <td>The Times (London)</td>\n",
       "      <td>2012-07-24</td>\n",
       "      <td>Romney will be courted by Labour as he forges ...</td>\n",
       "      <td>615</td>\n",
       "      <td>Newspaper</td>\n",
       "      <td>Ed Miliband will try to find common cause with...</td>\n",
       "      <td>2012</td>\n",
       "      <td>7</td>\n",
       "      <td>24</td>\n",
       "      <td>0.098021</td>\n",
       "      <td>0.384447</td>\n",
       "    </tr>\n",
       "    <tr>\n",
       "      <th>2003</th>\n",
       "      <td>The Times (London)</td>\n",
       "      <td>2012-07-24</td>\n",
       "      <td>Romney will be courted by Labour as he forges ...</td>\n",
       "      <td>613</td>\n",
       "      <td>Newspaper</td>\n",
       "      <td>Ed Miliband will try to find common cause with...</td>\n",
       "      <td>2012</td>\n",
       "      <td>7</td>\n",
       "      <td>24</td>\n",
       "      <td>0.098021</td>\n",
       "      <td>0.384447</td>\n",
       "    </tr>\n",
       "    <tr>\n",
       "      <th>2004</th>\n",
       "      <td>BBC Monitoring South Asia - Political Supplied...</td>\n",
       "      <td>2012-07-24</td>\n",
       "      <td>Programme summary of Afghan Tolo TV news in Da...</td>\n",
       "      <td>621</td>\n",
       "      <td>Transcript</td>\n",
       "      <td>A. News Headlines B. Home News 1. 0030 A repor...</td>\n",
       "      <td>2012</td>\n",
       "      <td>7</td>\n",
       "      <td>24</td>\n",
       "      <td>-0.031420</td>\n",
       "      <td>0.265370</td>\n",
       "    </tr>\n",
       "    <tr>\n",
       "      <th>2005</th>\n",
       "      <td>BBC Monitoring Middle East - Political Supplie...</td>\n",
       "      <td>2012-07-24</td>\n",
       "      <td>Iran MP says foreign interference in Syria to ...</td>\n",
       "      <td>470</td>\n",
       "      <td>Transcript</td>\n",
       "      <td>Text of report on interview with Javad Jahangi...</td>\n",
       "      <td>2012</td>\n",
       "      <td>7</td>\n",
       "      <td>24</td>\n",
       "      <td>0.060412</td>\n",
       "      <td>0.327679</td>\n",
       "    </tr>\n",
       "    <tr>\n",
       "      <th>2006</th>\n",
       "      <td>The Guardian - Final Edition</td>\n",
       "      <td>2012-07-25</td>\n",
       "      <td>International: Romney flies out for a foreign ...</td>\n",
       "      <td>902</td>\n",
       "      <td>Newspaper</td>\n",
       "      <td>Mitt Romney arrives in London today pursued by...</td>\n",
       "      <td>2012</td>\n",
       "      <td>7</td>\n",
       "      <td>25</td>\n",
       "      <td>0.008468</td>\n",
       "      <td>0.321895</td>\n",
       "    </tr>\n",
       "    <tr>\n",
       "      <th>2007</th>\n",
       "      <td>Free Press Journal (India)</td>\n",
       "      <td>2012-07-25</td>\n",
       "      <td>India mission staffers asked to leave Syria</td>\n",
       "      <td>225</td>\n",
       "      <td>Newspaper</td>\n",
       "      <td>New Delhi: With violence in Syria escalating b...</td>\n",
       "      <td>2012</td>\n",
       "      <td>7</td>\n",
       "      <td>25</td>\n",
       "      <td>-0.032386</td>\n",
       "      <td>0.267045</td>\n",
       "    </tr>\n",
       "    <tr>\n",
       "      <th>2008</th>\n",
       "      <td>The New Zealand Herald</td>\n",
       "      <td>2012-07-25</td>\n",
       "      <td>Romney slams Obama over White House leak</td>\n",
       "      <td>1108</td>\n",
       "      <td>Newspaper</td>\n",
       "      <td>Republican presidential candidate Mitt Romney ...</td>\n",
       "      <td>2012</td>\n",
       "      <td>7</td>\n",
       "      <td>25</td>\n",
       "      <td>0.060514</td>\n",
       "      <td>0.398836</td>\n",
       "    </tr>\n",
       "    <tr>\n",
       "      <th>2009</th>\n",
       "      <td>The New York Times</td>\n",
       "      <td>2012-07-25</td>\n",
       "      <td>The Candidates Talk Foreign Policy</td>\n",
       "      <td>690</td>\n",
       "      <td>Newspaper</td>\n",
       "      <td>The presidential candidates took a break this ...</td>\n",
       "      <td>2012</td>\n",
       "      <td>7</td>\n",
       "      <td>25</td>\n",
       "      <td>0.076225</td>\n",
       "      <td>0.415172</td>\n",
       "    </tr>\n",
       "    <tr>\n",
       "      <th>2010</th>\n",
       "      <td>Brattleboro Reformer (Vermont)</td>\n",
       "      <td>2012-07-25</td>\n",
       "      <td>World in Brief</td>\n",
       "      <td>1347</td>\n",
       "      <td>Newspaper</td>\n",
       "      <td>Wednesday July 25, 2012 Nonpartisan budget off...</td>\n",
       "      <td>2012</td>\n",
       "      <td>7</td>\n",
       "      <td>25</td>\n",
       "      <td>0.097203</td>\n",
       "      <td>0.410523</td>\n",
       "    </tr>\n",
       "  </tbody>\n",
       "</table>\n",
       "</div>"
      ],
      "text/plain": [
       "                                            publication        date  \\\n",
       "2000                                     Jerusalem Post  2012-07-23   \n",
       "2001                     The Age (Melbourne, Australia)  2012-07-24   \n",
       "2002                                 The Times (London)  2012-07-24   \n",
       "2003                                 The Times (London)  2012-07-24   \n",
       "2004  BBC Monitoring South Asia - Political Supplied...  2012-07-24   \n",
       "2005  BBC Monitoring Middle East - Political Supplie...  2012-07-24   \n",
       "2006                       The Guardian - Final Edition  2012-07-25   \n",
       "2007                         Free Press Journal (India)  2012-07-25   \n",
       "2008                             The New Zealand Herald  2012-07-25   \n",
       "2009                                 The New York Times  2012-07-25   \n",
       "2010                     Brattleboro Reformer (Vermont)  2012-07-25   \n",
       "\n",
       "                                                  title  length  \\\n",
       "2000                               Obama's Egypt policy    1129   \n",
       "2001                          America's foreign fantasy     970   \n",
       "2002  Romney will be courted by Labour as he forges ...     615   \n",
       "2003  Romney will be courted by Labour as he forges ...     613   \n",
       "2004  Programme summary of Afghan Tolo TV news in Da...     621   \n",
       "2005  Iran MP says foreign interference in Syria to ...     470   \n",
       "2006  International: Romney flies out for a foreign ...     902   \n",
       "2007        India mission staffers asked to leave Syria     225   \n",
       "2008           Romney slams Obama over White House leak    1108   \n",
       "2009                 The Candidates Talk Foreign Policy     690   \n",
       "2010                                     World in Brief    1347   \n",
       "\n",
       "     publicationtype                                               text  year  \\\n",
       "2000       Newspaper  \"Which Side Are You On? / They say in Harlan C...  2012   \n",
       "2001       Newspaper  Washington's global ambitions exceed its power...  2012   \n",
       "2002       Newspaper  Ed Miliband will try to find common cause with...  2012   \n",
       "2003       Newspaper  Ed Miliband will try to find common cause with...  2012   \n",
       "2004      Transcript  A. News Headlines B. Home News 1. 0030 A repor...  2012   \n",
       "2005      Transcript  Text of report on interview with Javad Jahangi...  2012   \n",
       "2006       Newspaper  Mitt Romney arrives in London today pursued by...  2012   \n",
       "2007       Newspaper  New Delhi: With violence in Syria escalating b...  2012   \n",
       "2008       Newspaper  Republican presidential candidate Mitt Romney ...  2012   \n",
       "2009       Newspaper  The presidential candidates took a break this ...  2012   \n",
       "2010       Newspaper  Wednesday July 25, 2012 Nonpartisan budget off...  2012   \n",
       "\n",
       "      month  day  polarity  subjectivity  \n",
       "2000      7   23  0.117632      0.418190  \n",
       "2001      7   24  0.060325      0.386745  \n",
       "2002      7   24  0.098021      0.384447  \n",
       "2003      7   24  0.098021      0.384447  \n",
       "2004      7   24 -0.031420      0.265370  \n",
       "2005      7   24  0.060412      0.327679  \n",
       "2006      7   25  0.008468      0.321895  \n",
       "2007      7   25 -0.032386      0.267045  \n",
       "2008      7   25  0.060514      0.398836  \n",
       "2009      7   25  0.076225      0.415172  \n",
       "2010      7   25  0.097203      0.410523  "
      ]
     },
     "execution_count": 60,
     "metadata": {},
     "output_type": "execute_result"
    }
   ],
   "source": [
    "df.ix[2000:2010]"
   ]
  },
  {
   "cell_type": "code",
   "execution_count": 19,
   "metadata": {
    "collapsed": false
   },
   "outputs": [
    {
     "name": "stdout",
     "output_type": "stream",
     "text": [
      "[-0.2, 0.5875, 0.0, 0.3]\n",
      "\n",
      " Average of sentences: 0.171875\n",
      "\n",
      " Total score: 0.215\n"
     ]
    }
   ],
   "source": [
    "testimonial = TextBlob(\"Textblob is kind of terrible. What great fun! Of course it could be that they don't know how to use it. Look at the cats...they're so fun.\")\n",
    "l = []\n",
    "for s in testimonial.sentences:\n",
    "    l.append(s.sentiment.polarity)\n",
    "    \n",
    "print(l)\n",
    "print(\"\\n\", \"Average of sentences:\", sum(l)/len(l))\n",
    "print(\"\\n\", \"Total score:\", testimonial.sentiment.polarity)\n",
    "\n",
    "# There are different scores if you average the sentence scores vs the entire article"
   ]
  },
  {
   "cell_type": "markdown",
   "metadata": {
    "collapsed": true
   },
   "source": [
    "## 2. Sentiment Analysis\n",
    "\n",
    "Use the positive/negative list provided by Andy Kim, author of *Can Big Data Forcast North Korean Military Aggression?*"
   ]
  },
  {
   "cell_type": "code",
   "execution_count": null,
   "metadata": {
    "collapsed": true
   },
   "outputs": [],
   "source": []
  }
 ],
 "metadata": {
  "kernelspec": {
   "display_name": "Python 3",
   "language": "python",
   "name": "python3"
  },
  "language_info": {
   "codemirror_mode": {
    "name": "ipython",
    "version": 3
   },
   "file_extension": ".py",
   "mimetype": "text/x-python",
   "name": "python",
   "nbconvert_exporter": "python",
   "pygments_lexer": "ipython3",
   "version": "3.6.0"
  }
 },
 "nbformat": 4,
 "nbformat_minor": 2
}
