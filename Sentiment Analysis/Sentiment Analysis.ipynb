{
 "cells": [
  {
   "cell_type": "markdown",
   "metadata": {},
   "source": [
    "# Sentiment Analysis\n",
    "\n",
    "Generate a sentiment analysis for newspaper articles covering events in Syria from the years 2010-2017. "
   ]
  },
  {
   "cell_type": "code",
   "execution_count": 1,
   "metadata": {
    "collapsed": true
   },
   "outputs": [],
   "source": [
    "%matplotlib inline"
   ]
  },
  {
   "cell_type": "code",
   "execution_count": 2,
   "metadata": {
    "collapsed": false
   },
   "outputs": [],
   "source": [
    "import pandas as pd\n",
    "import numpy as np\n",
    "from numpy import nan\n",
    "import seaborn as sns\n",
    "import matplotlib\n",
    "import matplotlib.pyplot as plt\n",
    "import os\n",
    "\n",
    "sns.set_context('notebook')\n",
    "sns.set_style('whitegrid')"
   ]
  },
  {
   "cell_type": "markdown",
   "metadata": {},
   "source": [
    "## Data Loading"
   ]
  },
  {
   "cell_type": "code",
   "execution_count": 3,
   "metadata": {
    "collapsed": false
   },
   "outputs": [],
   "source": [
    "df = pd.read_csv('CleanLexisNexis.csv', parse_dates=['date'])"
   ]
  },
  {
   "cell_type": "code",
   "execution_count": 4,
   "metadata": {
    "collapsed": false
   },
   "outputs": [
    {
     "data": {
      "text/plain": [
       "publication                object\n",
       "date               datetime64[ns]\n",
       "title                      object\n",
       "length                      int64\n",
       "publicationtype            object\n",
       "text                       object\n",
       "year                        int64\n",
       "month                       int64\n",
       "day                         int64\n",
       "dtype: object"
      ]
     },
     "execution_count": 4,
     "metadata": {},
     "output_type": "execute_result"
    }
   ],
   "source": [
    "df.dtypes"
   ]
  },
  {
   "cell_type": "code",
   "execution_count": 5,
   "metadata": {
    "collapsed": false
   },
   "outputs": [
    {
     "data": {
      "text/html": [
       "<div>\n",
       "<table border=\"1\" class=\"dataframe\">\n",
       "  <thead>\n",
       "    <tr style=\"text-align: right;\">\n",
       "      <th></th>\n",
       "      <th>publication</th>\n",
       "      <th>date</th>\n",
       "      <th>title</th>\n",
       "      <th>length</th>\n",
       "      <th>publicationtype</th>\n",
       "      <th>text</th>\n",
       "      <th>year</th>\n",
       "      <th>month</th>\n",
       "      <th>day</th>\n",
       "    </tr>\n",
       "  </thead>\n",
       "  <tbody>\n",
       "    <tr>\n",
       "      <th>0</th>\n",
       "      <td>The Atlanta Journal-Constitution</td>\n",
       "      <td>2010-01-03</td>\n",
       "      <td>Five pressing questions to answer in 2010</td>\n",
       "      <td>747</td>\n",
       "      <td>Newspapers</td>\n",
       "      <td>Will President Barack Obama regain his momentu...</td>\n",
       "      <td>2010</td>\n",
       "      <td>1</td>\n",
       "      <td>3</td>\n",
       "    </tr>\n",
       "    <tr>\n",
       "      <th>1</th>\n",
       "      <td>BBC</td>\n",
       "      <td>2010-01-04</td>\n",
       "      <td>Saudi foreign minister says Israel \"spoiled ch...</td>\n",
       "      <td>2196</td>\n",
       "      <td>Transcript</td>\n",
       "      <td>Text of report by Saudi-owned leading pan-Arab...</td>\n",
       "      <td>2010</td>\n",
       "      <td>1</td>\n",
       "      <td>4</td>\n",
       "    </tr>\n",
       "    <tr>\n",
       "      <th>2</th>\n",
       "      <td>BBC</td>\n",
       "      <td>2010-01-08</td>\n",
       "      <td>Highlights of Iran parliamentary session.</td>\n",
       "      <td>1123</td>\n",
       "      <td>Transcript</td>\n",
       "      <td>Excerpt from report on parliamentary proceedin...</td>\n",
       "      <td>2010</td>\n",
       "      <td>1</td>\n",
       "      <td>8</td>\n",
       "    </tr>\n",
       "    <tr>\n",
       "      <th>3</th>\n",
       "      <td>Right Vision News</td>\n",
       "      <td>2010-01-09</td>\n",
       "      <td>Jordan:Way out for Obama</td>\n",
       "      <td>852</td>\n",
       "      <td>Newspaper</td>\n",
       "      <td>Pakistan, Jan. 09 -- These are the worst of ti...</td>\n",
       "      <td>2010</td>\n",
       "      <td>1</td>\n",
       "      <td>9</td>\n",
       "    </tr>\n",
       "  </tbody>\n",
       "</table>\n",
       "</div>"
      ],
      "text/plain": [
       "                        publication       date  \\\n",
       "0  The Atlanta Journal-Constitution 2010-01-03   \n",
       "1                               BBC 2010-01-04   \n",
       "2                               BBC 2010-01-08   \n",
       "3                 Right Vision News 2010-01-09   \n",
       "\n",
       "                                               title  length publicationtype  \\\n",
       "0          Five pressing questions to answer in 2010     747      Newspapers   \n",
       "1  Saudi foreign minister says Israel \"spoiled ch...    2196      Transcript   \n",
       "2          Highlights of Iran parliamentary session.    1123      Transcript   \n",
       "3                           Jordan:Way out for Obama     852       Newspaper   \n",
       "\n",
       "                                                text  year  month  day  \n",
       "0  Will President Barack Obama regain his momentu...  2010      1    3  \n",
       "1  Text of report by Saudi-owned leading pan-Arab...  2010      1    4  \n",
       "2  Excerpt from report on parliamentary proceedin...  2010      1    8  \n",
       "3  Pakistan, Jan. 09 -- These are the worst of ti...  2010      1    9  "
      ]
     },
     "execution_count": 5,
     "metadata": {},
     "output_type": "execute_result"
    }
   ],
   "source": [
    "df.head(4)"
   ]
  },
  {
   "cell_type": "markdown",
   "metadata": {
    "collapsed": true
   },
   "source": [
    "## 1. Sentiment Analysis\n",
    "\n",
    "Use NLTK to build sentiment scores. \n",
    "\n",
    "Use the positive/negative corpus provided by Andy Kim, author of *Can Big Data Forcast North Korean Military Aggression?* "
   ]
  },
  {
   "cell_type": "markdown",
   "metadata": {},
   "source": [
    "#### Append positive and negative list together"
   ]
  },
  {
   "cell_type": "code",
   "execution_count": 5,
   "metadata": {
    "collapsed": false,
    "scrolled": true
   },
   "outputs": [],
   "source": [
    "os.chdir('/Users/laurieottehenning/Documents/Georgetown Data Science /Capstone/Harvard Pos:Neg')\n",
    "\n",
    "pos = pd.read_csv('Harvard_Positive.csv', names=['Word', 'Positive'])\n",
    "neg = pd.read_csv('Harvard_Negative.csv', names=['Word', 'Negative'])\n",
    "\n",
    "pos['Word'] = pos['Word'].str.lower()\n",
    "neg['Word'] = neg['Word'].str.lower()\n",
    "\n",
    "wordlist = pd.concat([pos, neg])\n"
   ]
  },
  {
   "cell_type": "markdown",
   "metadata": {},
   "source": [
    "#### Count the number of positive or negative words within a text"
   ]
  },
  {
   "cell_type": "code",
   "execution_count": 6,
   "metadata": {
    "collapsed": false,
    "scrolled": true
   },
   "outputs": [],
   "source": [
    "pos_list = []\n",
    "for i in pos['Word']:\n",
    "    pos_list.append(i)\n",
    "\n",
    "neg_list = []\n",
    "for i in neg['Word']:\n",
    "    neg_list.append(i)\n",
    "\n",
    "df = df.assign(PositiveCount=df['text'].apply(lambda sentence: \n",
    "                                            sum(word.lower() in pos_list \n",
    "                                                for word in sentence.split())))\n",
    "df = df.assign(NegativeCount=df['text'].apply(lambda sentence: \n",
    "                                            sum(word.lower() in neg_list \n",
    "                                                for word in sentence.split())))\n",
    "\n"
   ]
  },
  {
   "cell_type": "code",
   "execution_count": 7,
   "metadata": {
    "collapsed": false
   },
   "outputs": [
    {
     "data": {
      "text/html": [
       "<div>\n",
       "<table border=\"1\" class=\"dataframe\">\n",
       "  <thead>\n",
       "    <tr style=\"text-align: right;\">\n",
       "      <th></th>\n",
       "      <th>publication</th>\n",
       "      <th>date</th>\n",
       "      <th>title</th>\n",
       "      <th>length</th>\n",
       "      <th>publicationtype</th>\n",
       "      <th>text</th>\n",
       "      <th>year</th>\n",
       "      <th>month</th>\n",
       "      <th>day</th>\n",
       "      <th>PositiveCount</th>\n",
       "      <th>NegativeCount</th>\n",
       "    </tr>\n",
       "  </thead>\n",
       "  <tbody>\n",
       "    <tr>\n",
       "      <th>0</th>\n",
       "      <td>The Atlanta Journal-Constitution</td>\n",
       "      <td>2010-01-03</td>\n",
       "      <td>Five pressing questions to answer in 2010</td>\n",
       "      <td>747</td>\n",
       "      <td>Newspapers</td>\n",
       "      <td>Will President Barack Obama regain his momentu...</td>\n",
       "      <td>2010</td>\n",
       "      <td>1</td>\n",
       "      <td>3</td>\n",
       "      <td>39</td>\n",
       "      <td>51</td>\n",
       "    </tr>\n",
       "    <tr>\n",
       "      <th>1</th>\n",
       "      <td>BBC</td>\n",
       "      <td>2010-01-04</td>\n",
       "      <td>Saudi foreign minister says Israel \"spoiled ch...</td>\n",
       "      <td>2196</td>\n",
       "      <td>Transcript</td>\n",
       "      <td>Text of report by Saudi-owned leading pan-Arab...</td>\n",
       "      <td>2010</td>\n",
       "      <td>1</td>\n",
       "      <td>4</td>\n",
       "      <td>137</td>\n",
       "      <td>89</td>\n",
       "    </tr>\n",
       "    <tr>\n",
       "      <th>2</th>\n",
       "      <td>BBC</td>\n",
       "      <td>2010-01-08</td>\n",
       "      <td>Highlights of Iran parliamentary session.</td>\n",
       "      <td>1123</td>\n",
       "      <td>Transcript</td>\n",
       "      <td>Excerpt from report on parliamentary proceedin...</td>\n",
       "      <td>2010</td>\n",
       "      <td>1</td>\n",
       "      <td>8</td>\n",
       "      <td>50</td>\n",
       "      <td>38</td>\n",
       "    </tr>\n",
       "    <tr>\n",
       "      <th>3</th>\n",
       "      <td>Right Vision News</td>\n",
       "      <td>2010-01-09</td>\n",
       "      <td>Jordan:Way out for Obama</td>\n",
       "      <td>852</td>\n",
       "      <td>Newspaper</td>\n",
       "      <td>Pakistan, Jan. 09 -- These are the worst of ti...</td>\n",
       "      <td>2010</td>\n",
       "      <td>1</td>\n",
       "      <td>9</td>\n",
       "      <td>51</td>\n",
       "      <td>38</td>\n",
       "    </tr>\n",
       "  </tbody>\n",
       "</table>\n",
       "</div>"
      ],
      "text/plain": [
       "                        publication       date  \\\n",
       "0  The Atlanta Journal-Constitution 2010-01-03   \n",
       "1                               BBC 2010-01-04   \n",
       "2                               BBC 2010-01-08   \n",
       "3                 Right Vision News 2010-01-09   \n",
       "\n",
       "                                               title  length publicationtype  \\\n",
       "0          Five pressing questions to answer in 2010     747      Newspapers   \n",
       "1  Saudi foreign minister says Israel \"spoiled ch...    2196      Transcript   \n",
       "2          Highlights of Iran parliamentary session.    1123      Transcript   \n",
       "3                           Jordan:Way out for Obama     852       Newspaper   \n",
       "\n",
       "                                                text  year  month  day  \\\n",
       "0  Will President Barack Obama regain his momentu...  2010      1    3   \n",
       "1  Text of report by Saudi-owned leading pan-Arab...  2010      1    4   \n",
       "2  Excerpt from report on parliamentary proceedin...  2010      1    8   \n",
       "3  Pakistan, Jan. 09 -- These are the worst of ti...  2010      1    9   \n",
       "\n",
       "   PositiveCount  NegativeCount  \n",
       "0             39             51  \n",
       "1            137             89  \n",
       "2             50             38  \n",
       "3             51             38  "
      ]
     },
     "execution_count": 7,
     "metadata": {},
     "output_type": "execute_result"
    }
   ],
   "source": [
    "df.head(4)"
   ]
  },
  {
   "cell_type": "markdown",
   "metadata": {},
   "source": [
    "#### Create article polarity\n",
    "\n",
    "Polarity is calculated by taking the (sum of positive words - sum of negative)/sum of all words"
   ]
  },
  {
   "cell_type": "code",
   "execution_count": 9,
   "metadata": {
    "collapsed": false
   },
   "outputs": [
    {
     "data": {
      "text/html": [
       "<div>\n",
       "<table border=\"1\" class=\"dataframe\">\n",
       "  <thead>\n",
       "    <tr style=\"text-align: right;\">\n",
       "      <th></th>\n",
       "      <th>publication</th>\n",
       "      <th>date</th>\n",
       "      <th>title</th>\n",
       "      <th>length</th>\n",
       "      <th>publicationtype</th>\n",
       "      <th>text</th>\n",
       "      <th>year</th>\n",
       "      <th>month</th>\n",
       "      <th>day</th>\n",
       "      <th>PositiveCount</th>\n",
       "      <th>NegativeCount</th>\n",
       "      <th>tone</th>\n",
       "    </tr>\n",
       "  </thead>\n",
       "  <tbody>\n",
       "    <tr>\n",
       "      <th>0</th>\n",
       "      <td>The Atlanta Journal-Constitution</td>\n",
       "      <td>2010-01-03</td>\n",
       "      <td>Five pressing questions to answer in 2010</td>\n",
       "      <td>747</td>\n",
       "      <td>Newspapers</td>\n",
       "      <td>Will President Barack Obama regain his momentu...</td>\n",
       "      <td>2010</td>\n",
       "      <td>1</td>\n",
       "      <td>3</td>\n",
       "      <td>39</td>\n",
       "      <td>51</td>\n",
       "      <td>-0.016064</td>\n",
       "    </tr>\n",
       "    <tr>\n",
       "      <th>1</th>\n",
       "      <td>BBC</td>\n",
       "      <td>2010-01-04</td>\n",
       "      <td>Saudi foreign minister says Israel \"spoiled ch...</td>\n",
       "      <td>2196</td>\n",
       "      <td>Transcript</td>\n",
       "      <td>Text of report by Saudi-owned leading pan-Arab...</td>\n",
       "      <td>2010</td>\n",
       "      <td>1</td>\n",
       "      <td>4</td>\n",
       "      <td>137</td>\n",
       "      <td>89</td>\n",
       "      <td>0.021858</td>\n",
       "    </tr>\n",
       "    <tr>\n",
       "      <th>2</th>\n",
       "      <td>BBC</td>\n",
       "      <td>2010-01-08</td>\n",
       "      <td>Highlights of Iran parliamentary session.</td>\n",
       "      <td>1123</td>\n",
       "      <td>Transcript</td>\n",
       "      <td>Excerpt from report on parliamentary proceedin...</td>\n",
       "      <td>2010</td>\n",
       "      <td>1</td>\n",
       "      <td>8</td>\n",
       "      <td>50</td>\n",
       "      <td>38</td>\n",
       "      <td>0.010686</td>\n",
       "    </tr>\n",
       "    <tr>\n",
       "      <th>3</th>\n",
       "      <td>Right Vision News</td>\n",
       "      <td>2010-01-09</td>\n",
       "      <td>Jordan:Way out for Obama</td>\n",
       "      <td>852</td>\n",
       "      <td>Newspaper</td>\n",
       "      <td>Pakistan, Jan. 09 -- These are the worst of ti...</td>\n",
       "      <td>2010</td>\n",
       "      <td>1</td>\n",
       "      <td>9</td>\n",
       "      <td>51</td>\n",
       "      <td>38</td>\n",
       "      <td>0.015258</td>\n",
       "    </tr>\n",
       "  </tbody>\n",
       "</table>\n",
       "</div>"
      ],
      "text/plain": [
       "                        publication       date  \\\n",
       "0  The Atlanta Journal-Constitution 2010-01-03   \n",
       "1                               BBC 2010-01-04   \n",
       "2                               BBC 2010-01-08   \n",
       "3                 Right Vision News 2010-01-09   \n",
       "\n",
       "                                               title  length publicationtype  \\\n",
       "0          Five pressing questions to answer in 2010     747      Newspapers   \n",
       "1  Saudi foreign minister says Israel \"spoiled ch...    2196      Transcript   \n",
       "2          Highlights of Iran parliamentary session.    1123      Transcript   \n",
       "3                           Jordan:Way out for Obama     852       Newspaper   \n",
       "\n",
       "                                                text  year  month  day  \\\n",
       "0  Will President Barack Obama regain his momentu...  2010      1    3   \n",
       "1  Text of report by Saudi-owned leading pan-Arab...  2010      1    4   \n",
       "2  Excerpt from report on parliamentary proceedin...  2010      1    8   \n",
       "3  Pakistan, Jan. 09 -- These are the worst of ti...  2010      1    9   \n",
       "\n",
       "   PositiveCount  NegativeCount      tone  \n",
       "0             39             51 -0.016064  \n",
       "1            137             89  0.021858  \n",
       "2             50             38  0.010686  \n",
       "3             51             38  0.015258  "
      ]
     },
     "execution_count": 9,
     "metadata": {},
     "output_type": "execute_result"
    }
   ],
   "source": [
    "df['tone'] = (df['PositiveCount'] - df['NegativeCount'])/df['length']\n",
    "df.head(4)"
   ]
  },
  {
   "cell_type": "code",
   "execution_count": 10,
   "metadata": {
    "collapsed": true
   },
   "outputs": [],
   "source": [
    "df.to_csv(\"Sentiment Data.csv\")"
   ]
  }
 ],
 "metadata": {
  "kernelspec": {
   "display_name": "Python 3",
   "language": "python",
   "name": "python3"
  },
  "language_info": {
   "codemirror_mode": {
    "name": "ipython",
    "version": 3
   },
   "file_extension": ".py",
   "mimetype": "text/x-python",
   "name": "python",
   "nbconvert_exporter": "python",
   "pygments_lexer": "ipython3",
   "version": "3.6.0"
  }
 },
 "nbformat": 4,
 "nbformat_minor": 2
}
