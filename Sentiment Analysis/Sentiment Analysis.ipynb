{
 "cells": [
  {
   "cell_type": "markdown",
   "metadata": {},
   "source": [
    "# Sentiment Analysis\n",
    "\n",
    "Generate a sentiment analysis for newspaper articles covering events in Syria from the years 2010-2017. "
   ]
  },
  {
   "cell_type": "code",
   "execution_count": 1,
   "metadata": {
    "collapsed": true
   },
   "outputs": [],
   "source": [
    "%matplotlib inline"
   ]
  },
  {
   "cell_type": "code",
   "execution_count": 3,
   "metadata": {
    "collapsed": true
   },
   "outputs": [],
   "source": [
    "import pandas as pd\n",
    "import numpy as np\n",
    "from numpy import nan\n",
    "import os\n",
    "\n",
    "sns.set_context('notebook')\n",
    "sns.set_style('whitegrid')"
   ]
  },
  {
   "cell_type": "markdown",
   "metadata": {},
   "source": [
    "## Data Loading"
   ]
  },
  {
   "cell_type": "code",
   "execution_count": 4,
   "metadata": {
    "collapsed": true
   },
   "outputs": [],
   "source": [
    "df = pd.read_csv('CleanLexisNexis.csv', parse_dates=['date'])"
   ]
  },
  {
   "cell_type": "code",
   "execution_count": 5,
   "metadata": {},
   "outputs": [
    {
     "data": {
      "text/plain": [
       "publication                object\n",
       "date               datetime64[ns]\n",
       "title                      object\n",
       "length                      int64\n",
       "publicationtype            object\n",
       "text                       object\n",
       "year                        int64\n",
       "month                       int64\n",
       "day                         int64\n",
       "dtype: object"
      ]
     },
     "execution_count": 5,
     "metadata": {},
     "output_type": "execute_result"
    }
   ],
   "source": [
    "df.dtypes"
   ]
  },
  {
   "cell_type": "code",
   "execution_count": 6,
   "metadata": {},
   "outputs": [
    {
     "data": {
      "text/html": [
       "<div>\n",
       "<style>\n",
       "    .dataframe thead tr:only-child th {\n",
       "        text-align: right;\n",
       "    }\n",
       "\n",
       "    .dataframe thead th {\n",
       "        text-align: left;\n",
       "    }\n",
       "\n",
       "    .dataframe tbody tr th {\n",
       "        vertical-align: top;\n",
       "    }\n",
       "</style>\n",
       "<table border=\"1\" class=\"dataframe\">\n",
       "  <thead>\n",
       "    <tr style=\"text-align: right;\">\n",
       "      <th></th>\n",
       "      <th>publication</th>\n",
       "      <th>date</th>\n",
       "      <th>title</th>\n",
       "      <th>length</th>\n",
       "      <th>publicationtype</th>\n",
       "      <th>text</th>\n",
       "      <th>year</th>\n",
       "      <th>month</th>\n",
       "      <th>day</th>\n",
       "    </tr>\n",
       "  </thead>\n",
       "  <tbody>\n",
       "    <tr>\n",
       "      <th>0</th>\n",
       "      <td>The Atlanta Journal-Constitution</td>\n",
       "      <td>2010-01-03</td>\n",
       "      <td>Five pressing questions to answer in 2010</td>\n",
       "      <td>747</td>\n",
       "      <td>Newspapers</td>\n",
       "      <td>Will President Barack Obama regain his momentu...</td>\n",
       "      <td>2010</td>\n",
       "      <td>1</td>\n",
       "      <td>3</td>\n",
       "    </tr>\n",
       "    <tr>\n",
       "      <th>1</th>\n",
       "      <td>BBC</td>\n",
       "      <td>2010-01-04</td>\n",
       "      <td>Saudi foreign minister says Israel \"spoiled ch...</td>\n",
       "      <td>2196</td>\n",
       "      <td>Transcript</td>\n",
       "      <td>Text of report by Saudi-owned leading pan-Arab...</td>\n",
       "      <td>2010</td>\n",
       "      <td>1</td>\n",
       "      <td>4</td>\n",
       "    </tr>\n",
       "    <tr>\n",
       "      <th>2</th>\n",
       "      <td>BBC</td>\n",
       "      <td>2010-01-08</td>\n",
       "      <td>Highlights of Iran parliamentary session.</td>\n",
       "      <td>1123</td>\n",
       "      <td>Transcript</td>\n",
       "      <td>Excerpt from report on parliamentary proceedin...</td>\n",
       "      <td>2010</td>\n",
       "      <td>1</td>\n",
       "      <td>8</td>\n",
       "    </tr>\n",
       "    <tr>\n",
       "      <th>3</th>\n",
       "      <td>Right Vision News</td>\n",
       "      <td>2010-01-09</td>\n",
       "      <td>Jordan:Way out for Obama</td>\n",
       "      <td>852</td>\n",
       "      <td>Newspaper</td>\n",
       "      <td>Pakistan, Jan. 09 -- These are the worst of ti...</td>\n",
       "      <td>2010</td>\n",
       "      <td>1</td>\n",
       "      <td>9</td>\n",
       "    </tr>\n",
       "  </tbody>\n",
       "</table>\n",
       "</div>"
      ],
      "text/plain": [
       "                        publication       date  \\\n",
       "0  The Atlanta Journal-Constitution 2010-01-03   \n",
       "1                               BBC 2010-01-04   \n",
       "2                               BBC 2010-01-08   \n",
       "3                 Right Vision News 2010-01-09   \n",
       "\n",
       "                                               title  length publicationtype  \\\n",
       "0          Five pressing questions to answer in 2010     747      Newspapers   \n",
       "1  Saudi foreign minister says Israel \"spoiled ch...    2196      Transcript   \n",
       "2          Highlights of Iran parliamentary session.    1123      Transcript   \n",
       "3                           Jordan:Way out for Obama     852       Newspaper   \n",
       "\n",
       "                                                text  year  month  day  \n",
       "0  Will President Barack Obama regain his momentu...  2010      1    3  \n",
       "1  Text of report by Saudi-owned leading pan-Arab...  2010      1    4  \n",
       "2  Excerpt from report on parliamentary proceedin...  2010      1    8  \n",
       "3  Pakistan, Jan. 09 -- These are the worst of ti...  2010      1    9  "
      ]
     },
     "execution_count": 6,
     "metadata": {},
     "output_type": "execute_result"
    }
   ],
   "source": [
    "df.head(4)"
   ]
  },
  {
   "cell_type": "markdown",
   "metadata": {
    "collapsed": true
   },
   "source": [
    "## 1. Sentiment Analysis\n",
    "\n",
    "Use NLTK to build sentiment scores. \n",
    "\n",
    "Use the positive/negative corpus provided by Andy Kim, author of *Can Big Data Forcast North Korean Military Aggression?* "
   ]
  },
  {
   "cell_type": "markdown",
   "metadata": {},
   "source": [
    "#### Append Harvard positive and negative list together"
   ]
  },
  {
   "cell_type": "code",
   "execution_count": 107,
   "metadata": {
    "collapsed": true,
    "scrolled": true
   },
   "outputs": [],
   "source": [
    "os.chdir('/Users/laurieottehenning/Documents/Georgetown Data Science /Capstone/Harvard Pos:Neg')\n",
    "\n",
    "pos = pd.read_csv('Harvard_Positive.csv', names=['Word', 'positive'])\n",
    "neg = pd.read_csv('Harvard_Negative.csv', names=['Word', 'negative'])\n",
    "\n",
    "def col_lower(wordlist):\n",
    "    for col in wordlist.columns:\n",
    "        wordlist[col] = wordlist[col].str.lower()\n",
    "\n",
    "col_lower(pos)\n",
    "col_lower(neg)\n"
   ]
  },
  {
   "cell_type": "markdown",
   "metadata": {},
   "source": [
    "#### Append diplomatic words together"
   ]
  },
  {
   "cell_type": "code",
   "execution_count": 13,
   "metadata": {
    "collapsed": true
   },
   "outputs": [],
   "source": [
    "dip_words = pd.read_csv('Vocab 250 Diplomatic Word List.csv')"
   ]
  },
  {
   "cell_type": "code",
   "execution_count": 34,
   "metadata": {},
   "outputs": [
    {
     "data": {
      "text/html": [
       "<div>\n",
       "<style>\n",
       "    .dataframe thead tr:only-child th {\n",
       "        text-align: right;\n",
       "    }\n",
       "\n",
       "    .dataframe thead th {\n",
       "        text-align: left;\n",
       "    }\n",
       "\n",
       "    .dataframe tbody tr th {\n",
       "        vertical-align: top;\n",
       "    }\n",
       "</style>\n",
       "<table border=\"1\" class=\"dataframe\">\n",
       "  <thead>\n",
       "    <tr style=\"text-align: right;\">\n",
       "      <th></th>\n",
       "      <th>word</th>\n",
       "      <th>value</th>\n",
       "      <th>stem</th>\n",
       "    </tr>\n",
       "  </thead>\n",
       "  <tbody>\n",
       "    <tr>\n",
       "      <th>30</th>\n",
       "      <td>breach</td>\n",
       "      <td>negative</td>\n",
       "      <td>breach</td>\n",
       "    </tr>\n",
       "    <tr>\n",
       "      <th>241</th>\n",
       "      <td>upheaval</td>\n",
       "      <td>negative</td>\n",
       "      <td>upheav</td>\n",
       "    </tr>\n",
       "    <tr>\n",
       "      <th>69</th>\n",
       "      <td>diplomacy</td>\n",
       "      <td>positive</td>\n",
       "      <td>diplomac</td>\n",
       "    </tr>\n",
       "    <tr>\n",
       "      <th>94</th>\n",
       "      <td>flux</td>\n",
       "      <td>neutral</td>\n",
       "      <td>flux</td>\n",
       "    </tr>\n",
       "    <tr>\n",
       "      <th>15</th>\n",
       "      <td>ambassador</td>\n",
       "      <td>neutral</td>\n",
       "      <td>ambassador</td>\n",
       "    </tr>\n",
       "  </tbody>\n",
       "</table>\n",
       "</div>"
      ],
      "text/plain": [
       "           word     value        stem\n",
       "30       breach  negative      breach\n",
       "241    upheaval  negative      upheav\n",
       "69    diplomacy  positive    diplomac\n",
       "94         flux   neutral        flux\n",
       "15   ambassador   neutral  ambassador"
      ]
     },
     "execution_count": 34,
     "metadata": {},
     "output_type": "execute_result"
    }
   ],
   "source": [
    "# Random fraction of the word list\n",
    "dip_words.sample(frac=.02)"
   ]
  },
  {
   "cell_type": "code",
   "execution_count": 32,
   "metadata": {
    "collapsed": true
   },
   "outputs": [],
   "source": [
    "# Make all of the words in each column lower case\n",
    "col_lower(dip_words)"
   ]
  },
  {
   "cell_type": "code",
   "execution_count": 70,
   "metadata": {
    "collapsed": true
   },
   "outputs": [],
   "source": [
    "# Add the stem from the diplomatic words list to the Harvard list\n",
    "columns = ['negative']\n",
    "dip_neg = pd.DataFrame(columns=columns)\n",
    "dip_neg['negative'] = dip_words.loc[dip_words['value'] == 'negative', 'stem']\n",
    "\n",
    "columns = ['positive']\n",
    "dip_pos = pd.DataFrame(columns=columns)\n",
    "dip_pos['positive'] = dip_words.loc[dip_words['value'] == 'positive', 'stem']"
   ]
  },
  {
   "cell_type": "markdown",
   "metadata": {},
   "source": [
    "#### Count the number of positive or negative words within a text"
   ]
  },
  {
   "cell_type": "code",
   "execution_count": 122,
   "metadata": {
    "collapsed": true
   },
   "outputs": [],
   "source": [
    "# Append the list of words together\n",
    "pos_list = []\n",
    "for i in pos['Word']:\n",
    "    pos_list.append(i)\n",
    "for i in dip_pos['positive']:\n",
    "    pos_list.append(i)\n",
    "    \n",
    "neg_list = []\n",
    "for i in neg['Word']:\n",
    "    neg_list.append(i)\n",
    "for i in dip_neg['negative']:\n",
    "    neg_list.append(i)"
   ]
  },
  {
   "cell_type": "code",
   "execution_count": 173,
   "metadata": {
    "collapsed": true
   },
   "outputs": [],
   "source": [
    "# Remove punctuation\n",
    "df['text'] = df['text'].str.replace('[^\\w\\s]','')"
   ]
  },
  {
   "cell_type": "code",
   "execution_count": 174,
   "metadata": {
    "collapsed": true,
    "scrolled": true
   },
   "outputs": [],
   "source": [
    "# Get the sum of the number of positive and negative words in each article\n",
    "df = df.assign(PositiveCount=df['text'].apply(lambda sentence: \n",
    "                                            sum(word.lower() in pos_list \n",
    "                                                for word in sentence.split())))\n",
    "df = df.assign(NegativeCount=df['text'].apply(lambda sentence: \n",
    "                                            sum(word.lower() in neg_list \n",
    "                                                for word in sentence.split())))\n",
    "\n"
   ]
  },
  {
   "cell_type": "code",
   "execution_count": 175,
   "metadata": {},
   "outputs": [
    {
     "data": {
      "text/html": [
       "<div>\n",
       "<style>\n",
       "    .dataframe thead tr:only-child th {\n",
       "        text-align: right;\n",
       "    }\n",
       "\n",
       "    .dataframe thead th {\n",
       "        text-align: left;\n",
       "    }\n",
       "\n",
       "    .dataframe tbody tr th {\n",
       "        vertical-align: top;\n",
       "    }\n",
       "</style>\n",
       "<table border=\"1\" class=\"dataframe\">\n",
       "  <thead>\n",
       "    <tr style=\"text-align: right;\">\n",
       "      <th></th>\n",
       "      <th>publication</th>\n",
       "      <th>date</th>\n",
       "      <th>title</th>\n",
       "      <th>length</th>\n",
       "      <th>publicationtype</th>\n",
       "      <th>text</th>\n",
       "      <th>year</th>\n",
       "      <th>month</th>\n",
       "      <th>day</th>\n",
       "      <th>PositiveCount</th>\n",
       "      <th>NegativeCount</th>\n",
       "    </tr>\n",
       "  </thead>\n",
       "  <tbody>\n",
       "    <tr>\n",
       "      <th>0</th>\n",
       "      <td>The Atlanta Journal-Constitution</td>\n",
       "      <td>2010-01-03</td>\n",
       "      <td>Five pressing questions to answer in 2010</td>\n",
       "      <td>747</td>\n",
       "      <td>Newspapers</td>\n",
       "      <td>Will President Barack Obama regain his momentu...</td>\n",
       "      <td>2010</td>\n",
       "      <td>1</td>\n",
       "      <td>3</td>\n",
       "      <td>45</td>\n",
       "      <td>60</td>\n",
       "    </tr>\n",
       "    <tr>\n",
       "      <th>1</th>\n",
       "      <td>BBC</td>\n",
       "      <td>2010-01-04</td>\n",
       "      <td>Saudi foreign minister says Israel \"spoiled ch...</td>\n",
       "      <td>2196</td>\n",
       "      <td>Transcript</td>\n",
       "      <td>Text of report by Saudiowned leading panArab d...</td>\n",
       "      <td>2010</td>\n",
       "      <td>1</td>\n",
       "      <td>4</td>\n",
       "      <td>176</td>\n",
       "      <td>103</td>\n",
       "    </tr>\n",
       "    <tr>\n",
       "      <th>2</th>\n",
       "      <td>BBC</td>\n",
       "      <td>2010-01-08</td>\n",
       "      <td>Highlights of Iran parliamentary session.</td>\n",
       "      <td>1123</td>\n",
       "      <td>Transcript</td>\n",
       "      <td>Excerpt from report on parliamentary proceedin...</td>\n",
       "      <td>2010</td>\n",
       "      <td>1</td>\n",
       "      <td>8</td>\n",
       "      <td>60</td>\n",
       "      <td>42</td>\n",
       "    </tr>\n",
       "    <tr>\n",
       "      <th>3</th>\n",
       "      <td>Right Vision News</td>\n",
       "      <td>2010-01-09</td>\n",
       "      <td>Jordan:Way out for Obama</td>\n",
       "      <td>852</td>\n",
       "      <td>Newspaper</td>\n",
       "      <td>Pakistan Jan 09  These are the worst of times ...</td>\n",
       "      <td>2010</td>\n",
       "      <td>1</td>\n",
       "      <td>9</td>\n",
       "      <td>56</td>\n",
       "      <td>47</td>\n",
       "    </tr>\n",
       "  </tbody>\n",
       "</table>\n",
       "</div>"
      ],
      "text/plain": [
       "                        publication       date  \\\n",
       "0  The Atlanta Journal-Constitution 2010-01-03   \n",
       "1                               BBC 2010-01-04   \n",
       "2                               BBC 2010-01-08   \n",
       "3                 Right Vision News 2010-01-09   \n",
       "\n",
       "                                               title  length publicationtype  \\\n",
       "0          Five pressing questions to answer in 2010     747      Newspapers   \n",
       "1  Saudi foreign minister says Israel \"spoiled ch...    2196      Transcript   \n",
       "2          Highlights of Iran parliamentary session.    1123      Transcript   \n",
       "3                           Jordan:Way out for Obama     852       Newspaper   \n",
       "\n",
       "                                                text  year  month  day  \\\n",
       "0  Will President Barack Obama regain his momentu...  2010      1    3   \n",
       "1  Text of report by Saudiowned leading panArab d...  2010      1    4   \n",
       "2  Excerpt from report on parliamentary proceedin...  2010      1    8   \n",
       "3  Pakistan Jan 09  These are the worst of times ...  2010      1    9   \n",
       "\n",
       "   PositiveCount  NegativeCount  \n",
       "0             45             60  \n",
       "1            176            103  \n",
       "2             60             42  \n",
       "3             56             47  "
      ]
     },
     "execution_count": 175,
     "metadata": {},
     "output_type": "execute_result"
    }
   ],
   "source": [
    "df.head(4)"
   ]
  },
  {
   "cell_type": "markdown",
   "metadata": {},
   "source": [
    "#### Create article polarity\n",
    "\n",
    "Polarity is calculated by taking the (sum of positive words - sum of negative)/sum of all words"
   ]
  },
  {
   "cell_type": "code",
   "execution_count": 176,
   "metadata": {},
   "outputs": [
    {
     "data": {
      "text/html": [
       "<div>\n",
       "<style>\n",
       "    .dataframe thead tr:only-child th {\n",
       "        text-align: right;\n",
       "    }\n",
       "\n",
       "    .dataframe thead th {\n",
       "        text-align: left;\n",
       "    }\n",
       "\n",
       "    .dataframe tbody tr th {\n",
       "        vertical-align: top;\n",
       "    }\n",
       "</style>\n",
       "<table border=\"1\" class=\"dataframe\">\n",
       "  <thead>\n",
       "    <tr style=\"text-align: right;\">\n",
       "      <th></th>\n",
       "      <th>publication</th>\n",
       "      <th>date</th>\n",
       "      <th>title</th>\n",
       "      <th>length</th>\n",
       "      <th>publicationtype</th>\n",
       "      <th>text</th>\n",
       "      <th>year</th>\n",
       "      <th>month</th>\n",
       "      <th>day</th>\n",
       "      <th>PositiveCount</th>\n",
       "      <th>NegativeCount</th>\n",
       "      <th>tone</th>\n",
       "    </tr>\n",
       "  </thead>\n",
       "  <tbody>\n",
       "    <tr>\n",
       "      <th>0</th>\n",
       "      <td>The Atlanta Journal-Constitution</td>\n",
       "      <td>2010-01-03</td>\n",
       "      <td>Five pressing questions to answer in 2010</td>\n",
       "      <td>747</td>\n",
       "      <td>Newspapers</td>\n",
       "      <td>Will President Barack Obama regain his momentu...</td>\n",
       "      <td>2010</td>\n",
       "      <td>1</td>\n",
       "      <td>3</td>\n",
       "      <td>45</td>\n",
       "      <td>60</td>\n",
       "      <td>-0.020080</td>\n",
       "    </tr>\n",
       "    <tr>\n",
       "      <th>1</th>\n",
       "      <td>BBC</td>\n",
       "      <td>2010-01-04</td>\n",
       "      <td>Saudi foreign minister says Israel \"spoiled ch...</td>\n",
       "      <td>2196</td>\n",
       "      <td>Transcript</td>\n",
       "      <td>Text of report by Saudiowned leading panArab d...</td>\n",
       "      <td>2010</td>\n",
       "      <td>1</td>\n",
       "      <td>4</td>\n",
       "      <td>176</td>\n",
       "      <td>103</td>\n",
       "      <td>0.033242</td>\n",
       "    </tr>\n",
       "    <tr>\n",
       "      <th>2</th>\n",
       "      <td>BBC</td>\n",
       "      <td>2010-01-08</td>\n",
       "      <td>Highlights of Iran parliamentary session.</td>\n",
       "      <td>1123</td>\n",
       "      <td>Transcript</td>\n",
       "      <td>Excerpt from report on parliamentary proceedin...</td>\n",
       "      <td>2010</td>\n",
       "      <td>1</td>\n",
       "      <td>8</td>\n",
       "      <td>60</td>\n",
       "      <td>42</td>\n",
       "      <td>0.016028</td>\n",
       "    </tr>\n",
       "    <tr>\n",
       "      <th>3</th>\n",
       "      <td>Right Vision News</td>\n",
       "      <td>2010-01-09</td>\n",
       "      <td>Jordan:Way out for Obama</td>\n",
       "      <td>852</td>\n",
       "      <td>Newspaper</td>\n",
       "      <td>Pakistan Jan 09  These are the worst of times ...</td>\n",
       "      <td>2010</td>\n",
       "      <td>1</td>\n",
       "      <td>9</td>\n",
       "      <td>56</td>\n",
       "      <td>47</td>\n",
       "      <td>0.010563</td>\n",
       "    </tr>\n",
       "  </tbody>\n",
       "</table>\n",
       "</div>"
      ],
      "text/plain": [
       "                        publication       date  \\\n",
       "0  The Atlanta Journal-Constitution 2010-01-03   \n",
       "1                               BBC 2010-01-04   \n",
       "2                               BBC 2010-01-08   \n",
       "3                 Right Vision News 2010-01-09   \n",
       "\n",
       "                                               title  length publicationtype  \\\n",
       "0          Five pressing questions to answer in 2010     747      Newspapers   \n",
       "1  Saudi foreign minister says Israel \"spoiled ch...    2196      Transcript   \n",
       "2          Highlights of Iran parliamentary session.    1123      Transcript   \n",
       "3                           Jordan:Way out for Obama     852       Newspaper   \n",
       "\n",
       "                                                text  year  month  day  \\\n",
       "0  Will President Barack Obama regain his momentu...  2010      1    3   \n",
       "1  Text of report by Saudiowned leading panArab d...  2010      1    4   \n",
       "2  Excerpt from report on parliamentary proceedin...  2010      1    8   \n",
       "3  Pakistan Jan 09  These are the worst of times ...  2010      1    9   \n",
       "\n",
       "   PositiveCount  NegativeCount      tone  \n",
       "0             45             60 -0.020080  \n",
       "1            176            103  0.033242  \n",
       "2             60             42  0.016028  \n",
       "3             56             47  0.010563  "
      ]
     },
     "execution_count": 176,
     "metadata": {},
     "output_type": "execute_result"
    }
   ],
   "source": [
    "df['tone'] = (df['PositiveCount'] - df['NegativeCount'])/df['length']\n",
    "df.head(4)"
   ]
  },
  {
   "cell_type": "code",
   "execution_count": 179,
   "metadata": {
    "collapsed": true
   },
   "outputs": [],
   "source": [
    "os.chdir('/Users/laurieottehenning/Documents/Georgetown Data Science /Capstone')\n",
    "df.to_csv(\"Sentiment Data.csv\")"
   ]
  },
  {
   "cell_type": "code",
   "execution_count": null,
   "metadata": {
    "collapsed": true
   },
   "outputs": [],
   "source": []
  }
 ],
 "metadata": {
  "kernelspec": {
   "display_name": "Python 3",
   "language": "python",
   "name": "python3"
  },
  "language_info": {
   "codemirror_mode": {
    "name": "ipython",
    "version": 3
   },
   "file_extension": ".py",
   "mimetype": "text/x-python",
   "name": "python",
   "nbconvert_exporter": "python",
   "pygments_lexer": "ipython3",
   "version": "3.6.0"
  }
 },
 "nbformat": 4,
 "nbformat_minor": 2
}
