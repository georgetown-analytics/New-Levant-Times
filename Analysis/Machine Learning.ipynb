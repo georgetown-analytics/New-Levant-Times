{
 "cells": [
  {
   "cell_type": "markdown",
   "metadata": {},
   "source": [
    "# Machine Learning\n",
    "\n",
    "\"*[Machine learning](https://github.com/georgetown-analytics/machine-learning/blob/master/notebook/Tour%20de%20SciKit-Learn.ipynb) can classically be summarized with two methodologies: supervised and unsupervised learning. In supervised learning, the “correct answers” are annotated ahead of time and the algorithm tries to fit a decision space based on those answers. In unsupervised learning, algorithms try to group like examples together, inferring similarities via distance metrics. Machine learning allows us to handle new data in a meaningful way, predicting where new data will fit into our models.*\"\n",
    "\n",
    "We will be conducting supervised learning. \n",
    "\n",
    "#### Potential Issues (List any issues as they occur)\n",
    "\n",
    "**Null Values**\n",
    "   * Sklearn doesn't deal handle *Null* values. \n",
    "   * While the data is fairly clean there are *Null* values that occur in the publication origin lagged variables. This is due to date ranges where there were no publication from a given county/region. Solutions:\n",
    "      * Recode missing values to the mean or median.\n",
    "      * Drop the values with missing data.  "
   ]
  },
  {
   "cell_type": "code",
   "execution_count": 1,
   "metadata": {},
   "outputs": [
    {
     "name": "stderr",
     "output_type": "stream",
     "text": [
      "/Users/laurieottehenning/anaconda3/lib/python3.6/site-packages/sklearn/cross_validation.py:44: DeprecationWarning: This module was deprecated in version 0.18 in favor of the model_selection module into which all the refactored classes and functions are moved. Also note that the interface of the new CV iterators are different from that of this module. This module will be removed in 0.20.\n",
      "  \"This module will be removed in 0.20.\", DeprecationWarning)\n"
     ]
    }
   ],
   "source": [
    "%matplotlib inline\n",
    "\n",
    "import os\n",
    "import time\n",
    "import numpy as np\n",
    "import pandas as pd\n",
    "import matplotlib.pyplot as plt\n",
    "\n",
    "from sklearn.metrics import mean_squared_error as mse\n",
    "from sklearn.metrics import r2_score\n",
    "from sklearn.metrics import classification_report\n",
    "from sklearn import cross_validation as cv"
   ]
  },
  {
   "cell_type": "markdown",
   "metadata": {},
   "source": [
    "## 1st Iteration\n",
    "\n",
    "Will run on all ratings: 0, 1, 2, 3, 5. \n",
    "\n",
    "### Clean Training Data of Null values\n",
    "\n",
    "Scikit-learn will expect numeric values and no blanks, so first we need to do a bit more wrangling."
   ]
  },
  {
   "cell_type": "code",
   "execution_count": 2,
   "metadata": {
    "collapsed": true
   },
   "outputs": [],
   "source": [
    "# Import csv as a dataframe\n",
    "path = \"/Users/laurieottehenning/Documents/Georgetown Data Science /Capstone/Final Data Set\"\n",
    "os.chdir(path)\n",
    "train = pd.read_csv('Final_Clean_Data.csv')"
   ]
  },
  {
   "cell_type": "code",
   "execution_count": 3,
   "metadata": {},
   "outputs": [
    {
     "data": {
      "text/plain": [
       "Index(['Unnamed: 0', 'Date', 'EventID', 'FinalRating', 'Day of Week',\n",
       "       'Weekend Flag', 'year', 'month', 'Value_Average_Past_30_days', 'lag_30',\n",
       "       'Value_Average_Past_14_days', 'lag_14', 'Value_Average_Past_7_days',\n",
       "       'lag_7', 'Middle East lagpub_7', 'Other lagpub_7', 'UK lagpub_7',\n",
       "       'US lagpub_7', 'Middle East lagpub_14', 'Other lagpub_14',\n",
       "       'UK lagpub_14', 'US lagpub_14', 'Middle East lagpub_30',\n",
       "       'Other lagpub_30', 'UK lagpub_30', 'US lagpub_30'],\n",
       "      dtype='object')"
      ]
     },
     "execution_count": 3,
     "metadata": {},
     "output_type": "execute_result"
    }
   ],
   "source": [
    "# Check that all of the data is there\n",
    "train.columns"
   ]
  },
  {
   "cell_type": "code",
   "execution_count": 4,
   "metadata": {},
   "outputs": [
    {
     "data": {
      "text/html": [
       "<div>\n",
       "<style>\n",
       "    .dataframe thead tr:only-child th {\n",
       "        text-align: right;\n",
       "    }\n",
       "\n",
       "    .dataframe thead th {\n",
       "        text-align: left;\n",
       "    }\n",
       "\n",
       "    .dataframe tbody tr th {\n",
       "        vertical-align: top;\n",
       "    }\n",
       "</style>\n",
       "<table border=\"1\" class=\"dataframe\">\n",
       "  <thead>\n",
       "    <tr style=\"text-align: right;\">\n",
       "      <th></th>\n",
       "      <th>Unnamed: 0</th>\n",
       "      <th>Date</th>\n",
       "      <th>EventID</th>\n",
       "      <th>FinalRating</th>\n",
       "      <th>Day of Week</th>\n",
       "      <th>Weekend Flag</th>\n",
       "      <th>year</th>\n",
       "      <th>month</th>\n",
       "      <th>Value_Average_Past_30_days</th>\n",
       "      <th>lag_30</th>\n",
       "      <th>...</th>\n",
       "      <th>UK lagpub_7</th>\n",
       "      <th>US lagpub_7</th>\n",
       "      <th>Middle East lagpub_14</th>\n",
       "      <th>Other lagpub_14</th>\n",
       "      <th>UK lagpub_14</th>\n",
       "      <th>US lagpub_14</th>\n",
       "      <th>Middle East lagpub_30</th>\n",
       "      <th>Other lagpub_30</th>\n",
       "      <th>UK lagpub_30</th>\n",
       "      <th>US lagpub_30</th>\n",
       "    </tr>\n",
       "  </thead>\n",
       "  <tbody>\n",
       "    <tr>\n",
       "      <th>0</th>\n",
       "      <td>0</td>\n",
       "      <td>2010-01-03</td>\n",
       "      <td>NaN</td>\n",
       "      <td>5.0</td>\n",
       "      <td>Sunday</td>\n",
       "      <td>1</td>\n",
       "      <td>2010.0</td>\n",
       "      <td>1.0</td>\n",
       "      <td>NaN</td>\n",
       "      <td>-0.020080</td>\n",
       "      <td>...</td>\n",
       "      <td>NaN</td>\n",
       "      <td>-0.02008</td>\n",
       "      <td>NaN</td>\n",
       "      <td>NaN</td>\n",
       "      <td>NaN</td>\n",
       "      <td>-0.02008</td>\n",
       "      <td>NaN</td>\n",
       "      <td>NaN</td>\n",
       "      <td>NaN</td>\n",
       "      <td>-0.02008</td>\n",
       "    </tr>\n",
       "    <tr>\n",
       "      <th>1</th>\n",
       "      <td>1</td>\n",
       "      <td>2010-01-04</td>\n",
       "      <td>NaN</td>\n",
       "      <td>5.0</td>\n",
       "      <td>Monday</td>\n",
       "      <td>0</td>\n",
       "      <td>2010.0</td>\n",
       "      <td>1.0</td>\n",
       "      <td>-0.020080</td>\n",
       "      <td>0.006581</td>\n",
       "      <td>...</td>\n",
       "      <td>0.033242</td>\n",
       "      <td>NaN</td>\n",
       "      <td>NaN</td>\n",
       "      <td>NaN</td>\n",
       "      <td>0.033242</td>\n",
       "      <td>NaN</td>\n",
       "      <td>NaN</td>\n",
       "      <td>NaN</td>\n",
       "      <td>0.033242</td>\n",
       "      <td>NaN</td>\n",
       "    </tr>\n",
       "    <tr>\n",
       "      <th>2</th>\n",
       "      <td>2</td>\n",
       "      <td>2010-01-08</td>\n",
       "      <td>NaN</td>\n",
       "      <td>5.0</td>\n",
       "      <td>Friday</td>\n",
       "      <td>0</td>\n",
       "      <td>2010.0</td>\n",
       "      <td>1.0</td>\n",
       "      <td>0.006581</td>\n",
       "      <td>0.009730</td>\n",
       "      <td>...</td>\n",
       "      <td>0.024635</td>\n",
       "      <td>NaN</td>\n",
       "      <td>NaN</td>\n",
       "      <td>NaN</td>\n",
       "      <td>0.024635</td>\n",
       "      <td>NaN</td>\n",
       "      <td>NaN</td>\n",
       "      <td>NaN</td>\n",
       "      <td>0.024635</td>\n",
       "      <td>NaN</td>\n",
       "    </tr>\n",
       "  </tbody>\n",
       "</table>\n",
       "<p>3 rows × 26 columns</p>\n",
       "</div>"
      ],
      "text/plain": [
       "   Unnamed: 0        Date  EventID  FinalRating Day of Week  Weekend Flag  \\\n",
       "0           0  2010-01-03      NaN          5.0      Sunday             1   \n",
       "1           1  2010-01-04      NaN          5.0      Monday             0   \n",
       "2           2  2010-01-08      NaN          5.0      Friday             0   \n",
       "\n",
       "     year  month  Value_Average_Past_30_days    lag_30      ...       \\\n",
       "0  2010.0    1.0                         NaN -0.020080      ...        \n",
       "1  2010.0    1.0                   -0.020080  0.006581      ...        \n",
       "2  2010.0    1.0                    0.006581  0.009730      ...        \n",
       "\n",
       "   UK lagpub_7  US lagpub_7  Middle East lagpub_14  Other lagpub_14  \\\n",
       "0          NaN     -0.02008                    NaN              NaN   \n",
       "1     0.033242          NaN                    NaN              NaN   \n",
       "2     0.024635          NaN                    NaN              NaN   \n",
       "\n",
       "   UK lagpub_14  US lagpub_14  Middle East lagpub_30  Other lagpub_30  \\\n",
       "0           NaN      -0.02008                    NaN              NaN   \n",
       "1      0.033242           NaN                    NaN              NaN   \n",
       "2      0.024635           NaN                    NaN              NaN   \n",
       "\n",
       "   UK lagpub_30  US lagpub_30  \n",
       "0           NaN      -0.02008  \n",
       "1      0.033242           NaN  \n",
       "2      0.024635           NaN  \n",
       "\n",
       "[3 rows x 26 columns]"
      ]
     },
     "execution_count": 4,
     "metadata": {},
     "output_type": "execute_result"
    }
   ],
   "source": [
    "train.head(3)"
   ]
  },
  {
   "cell_type": "code",
   "execution_count": 5,
   "metadata": {},
   "outputs": [
    {
     "name": "stdout",
     "output_type": "stream",
     "text": [
      "FinalRating  -1.0   0.0   1.0   2.0   3.0   5.0\n",
      "year                                           \n",
      "2010.0          0     0     0     0     0   159\n",
      "2011.0         45     1    12    33    38   169\n",
      "2012.0         32     2    23    37    37   229\n",
      "2013.0          2     1     9    12    11   311\n",
      "2014.0          7     1     6    12    12   323\n",
      "2015.0          3     3     5    11    11   317\n",
      "2016.0          4     3     8    13     9   315\n",
      "2017.0          0     0     0     0     0     1\n"
     ]
    }
   ],
   "source": [
    "# Crosstab of ratings by year\n",
    "print(pd.crosstab(train.year, train.FinalRating))"
   ]
  },
  {
   "cell_type": "code",
   "execution_count": 6,
   "metadata": {},
   "outputs": [
    {
     "name": "stdout",
     "output_type": "stream",
     "text": [
      "2227 instances with 26 features\n",
      "\n",
      "FinalRating\n",
      "-1.0      93\n",
      " 0.0      11\n",
      " 1.0      63\n",
      " 2.0     118\n",
      " 3.0     118\n",
      " 5.0    1824\n",
      "Name: FinalRating, dtype: int64\n"
     ]
    }
   ],
   "source": [
    "# Determine the shape of the data\n",
    "print(\"{} instances with {} features\\n\".format(*train.shape))\n",
    "\n",
    "# Determine the frequency of each rating\n",
    "print(train.groupby('FinalRating')['FinalRating'].count())"
   ]
  },
  {
   "cell_type": "code",
   "execution_count": 7,
   "metadata": {
    "scrolled": true
   },
   "outputs": [
    {
     "data": {
      "text/plain": [
       "Unnamed: 0                       0\n",
       "Date                             0\n",
       "EventID                       1824\n",
       "FinalRating                      0\n",
       "Day of Week                      0\n",
       "Weekend Flag                     0\n",
       "year                             0\n",
       "month                            0\n",
       "Value_Average_Past_30_days       8\n",
       "lag_30                           8\n",
       "Value_Average_Past_14_days       8\n",
       "lag_14                           8\n",
       "Value_Average_Past_7_days       11\n",
       "lag_7                            8\n",
       "Middle East lagpub_7           828\n",
       "Other lagpub_7                 996\n",
       "UK lagpub_7                    541\n",
       "US lagpub_7                    757\n",
       "Middle East lagpub_14          828\n",
       "Other lagpub_14                996\n",
       "UK lagpub_14                   541\n",
       "US lagpub_14                   757\n",
       "Middle East lagpub_30          828\n",
       "Other lagpub_30                996\n",
       "UK lagpub_30                   541\n",
       "US lagpub_30                   757\n",
       "dtype: int64"
      ]
     },
     "execution_count": 7,
     "metadata": {},
     "output_type": "execute_result"
    }
   ],
   "source": [
    "# Check number of missing values\n",
    "train.isnull().sum()"
   ]
  },
  {
   "cell_type": "markdown",
   "metadata": {},
   "source": [
    "#### Fill null values\n",
    "\n",
    "Will fill null values with the mean. *Not 100% sure if this is right or if I should fill with median or something else.* "
   ]
  },
  {
   "cell_type": "code",
   "execution_count": 8,
   "metadata": {},
   "outputs": [
    {
     "data": {
      "text/plain": [
       "Unnamed: 0                       0\n",
       "Date                             0\n",
       "EventID                       1824\n",
       "FinalRating                      0\n",
       "Day of Week                      0\n",
       "Weekend Flag                     0\n",
       "year                             0\n",
       "month                            0\n",
       "Value_Average_Past_30_days       0\n",
       "lag_30                           0\n",
       "Value_Average_Past_14_days       0\n",
       "lag_14                           0\n",
       "Value_Average_Past_7_days        0\n",
       "lag_7                            0\n",
       "Middle East lagpub_7             0\n",
       "Other lagpub_7                   0\n",
       "UK lagpub_7                      0\n",
       "US lagpub_7                      0\n",
       "Middle East lagpub_14            0\n",
       "Other lagpub_14                  0\n",
       "UK lagpub_14                     0\n",
       "US lagpub_14                     0\n",
       "Middle East lagpub_30            0\n",
       "Other lagpub_30                  0\n",
       "UK lagpub_30                     0\n",
       "US lagpub_30                     0\n",
       "dtype: int64"
      ]
     },
     "execution_count": 8,
     "metadata": {},
     "output_type": "execute_result"
    }
   ],
   "source": [
    "# Fill the null values with mean\n",
    "cols = ['Value_Average_Past_30_days', 'lag_30',\n",
    "       'Value_Average_Past_14_days', 'lag_14', 'Value_Average_Past_7_days',\n",
    "       'lag_7', 'Middle East lagpub_7', 'Other lagpub_7', 'UK lagpub_7',\n",
    "       'US lagpub_7', 'Middle East lagpub_14', 'Other lagpub_14',\n",
    "       'UK lagpub_14', 'US lagpub_14', 'Middle East lagpub_30',\n",
    "       'Other lagpub_30', 'UK lagpub_30', 'US lagpub_30']\n",
    "\n",
    "for i in cols:\n",
    "    train[i] = train[i].fillna(train[i].mean())\n",
    "\n",
    "train.isnull().sum()"
   ]
  },
  {
   "cell_type": "code",
   "execution_count": 9,
   "metadata": {
    "scrolled": false
   },
   "outputs": [
    {
     "data": {
      "text/plain": [
       "Index(['Date', 'EventID', 'FinalRating', 'Day of Week', 'Weekend Flag', 'year',\n",
       "       'month', 'lag_30', 'lag_14', 'lag_7', 'Middle East lagpub_7',\n",
       "       'Other lagpub_7', 'UK lagpub_7', 'US lagpub_7', 'Middle East lagpub_14',\n",
       "       'Other lagpub_14', 'UK lagpub_14', 'US lagpub_14',\n",
       "       'Middle East lagpub_30', 'Other lagpub_30', 'UK lagpub_30',\n",
       "       'US lagpub_30'],\n",
       "      dtype='object')"
      ]
     },
     "execution_count": 9,
     "metadata": {},
     "output_type": "execute_result"
    }
   ],
   "source": [
    "# Drop these columns since they aren't useful to train on. \n",
    "cols = ['Unnamed: 0', 'Value_Average_Past_30_days', 'Value_Average_Past_14_days', \n",
    "       'Value_Average_Past_7_days']\n",
    "for i in cols:\n",
    "    train = train.drop([i], axis=1)\n",
    "train.columns"
   ]
  },
  {
   "cell_type": "code",
   "execution_count": 10,
   "metadata": {
    "collapsed": true
   },
   "outputs": [],
   "source": [
    "# Keep the first 4 years so we can test on the last 2 years\n",
    "mask = (train['Date'] > '2010-12-31') & (train['Date'] <= '2014-12-31')\n",
    "mask2 = (train['Date'] > '2014-12-31')\n",
    "test = train.loc[mask2]\n",
    "train = train.loc[mask]"
   ]
  },
  {
   "cell_type": "code",
   "execution_count": 11,
   "metadata": {},
   "outputs": [
    {
     "name": "stdout",
     "output_type": "stream",
     "text": [
      "FinalRating\n",
      "0.0       5\n",
      "1.0      50\n",
      "2.0      94\n",
      "3.0      98\n",
      "5.0    1032\n",
      "Name: FinalRating, dtype: int64\n"
     ]
    }
   ],
   "source": [
    "# Keep the ratings equal to 0, 1, 2, 3. \n",
    "mask = (train['FinalRating'] >= 0) & (train['FinalRating'] <= 6)\n",
    "train = train.loc[mask]\n",
    "\n",
    "print(train.groupby('FinalRating')['FinalRating'].count())"
   ]
  },
  {
   "cell_type": "code",
   "execution_count": 12,
   "metadata": {},
   "outputs": [
    {
     "data": {
      "text/plain": [
       "2011.0    253\n",
       "2012.0    328\n",
       "2013.0    344\n",
       "2014.0    354\n",
       "Name: year, dtype: int64"
      ]
     },
     "execution_count": 12,
     "metadata": {},
     "output_type": "execute_result"
    }
   ],
   "source": [
    "train['year'].value_counts().sort_values(ascending=True)"
   ]
  },
  {
   "cell_type": "code",
   "execution_count": 13,
   "metadata": {},
   "outputs": [
    {
     "data": {
      "text/plain": [
       "2017.0      1\n",
       "2015.0    350\n",
       "2016.0    352\n",
       "Name: year, dtype: int64"
      ]
     },
     "execution_count": 13,
     "metadata": {},
     "output_type": "execute_result"
    }
   ],
   "source": [
    "test['year'].value_counts().sort_values(ascending=True)"
   ]
  },
  {
   "cell_type": "code",
   "execution_count": 14,
   "metadata": {
    "collapsed": true
   },
   "outputs": [],
   "source": [
    "# Reset index \n",
    "test.reset_index(inplace=True)"
   ]
  },
  {
   "cell_type": "code",
   "execution_count": 15,
   "metadata": {},
   "outputs": [
    {
     "data": {
      "text/html": [
       "<div>\n",
       "<style>\n",
       "    .dataframe thead tr:only-child th {\n",
       "        text-align: right;\n",
       "    }\n",
       "\n",
       "    .dataframe thead th {\n",
       "        text-align: left;\n",
       "    }\n",
       "\n",
       "    .dataframe tbody tr th {\n",
       "        vertical-align: top;\n",
       "    }\n",
       "</style>\n",
       "<table border=\"1\" class=\"dataframe\">\n",
       "  <thead>\n",
       "    <tr style=\"text-align: right;\">\n",
       "      <th></th>\n",
       "      <th>Date</th>\n",
       "      <th>EventID</th>\n",
       "      <th>FinalRating</th>\n",
       "    </tr>\n",
       "  </thead>\n",
       "  <tbody>\n",
       "    <tr>\n",
       "      <th>318</th>\n",
       "      <td>2015-11-30</td>\n",
       "      <td>NaN</td>\n",
       "      <td>5.0</td>\n",
       "    </tr>\n",
       "    <tr>\n",
       "      <th>319</th>\n",
       "      <td>2015-12-01</td>\n",
       "      <td>12062.0</td>\n",
       "      <td>2.0</td>\n",
       "    </tr>\n",
       "    <tr>\n",
       "      <th>320</th>\n",
       "      <td>2015-12-02</td>\n",
       "      <td>NaN</td>\n",
       "      <td>5.0</td>\n",
       "    </tr>\n",
       "    <tr>\n",
       "      <th>321</th>\n",
       "      <td>2015-12-03</td>\n",
       "      <td>12063.0</td>\n",
       "      <td>2.0</td>\n",
       "    </tr>\n",
       "    <tr>\n",
       "      <th>322</th>\n",
       "      <td>2015-12-04</td>\n",
       "      <td>12065.0</td>\n",
       "      <td>0.0</td>\n",
       "    </tr>\n",
       "    <tr>\n",
       "      <th>323</th>\n",
       "      <td>2015-12-05</td>\n",
       "      <td>NaN</td>\n",
       "      <td>5.0</td>\n",
       "    </tr>\n",
       "    <tr>\n",
       "      <th>324</th>\n",
       "      <td>2015-12-06</td>\n",
       "      <td>NaN</td>\n",
       "      <td>5.0</td>\n",
       "    </tr>\n",
       "    <tr>\n",
       "      <th>325</th>\n",
       "      <td>2015-12-07</td>\n",
       "      <td>NaN</td>\n",
       "      <td>5.0</td>\n",
       "    </tr>\n",
       "    <tr>\n",
       "      <th>326</th>\n",
       "      <td>2015-12-08</td>\n",
       "      <td>NaN</td>\n",
       "      <td>5.0</td>\n",
       "    </tr>\n",
       "    <tr>\n",
       "      <th>327</th>\n",
       "      <td>2015-12-09</td>\n",
       "      <td>NaN</td>\n",
       "      <td>5.0</td>\n",
       "    </tr>\n",
       "    <tr>\n",
       "      <th>328</th>\n",
       "      <td>2015-12-10</td>\n",
       "      <td>12067.0</td>\n",
       "      <td>-1.0</td>\n",
       "    </tr>\n",
       "  </tbody>\n",
       "</table>\n",
       "</div>"
      ],
      "text/plain": [
       "           Date  EventID  FinalRating\n",
       "318  2015-11-30      NaN          5.0\n",
       "319  2015-12-01  12062.0          2.0\n",
       "320  2015-12-02      NaN          5.0\n",
       "321  2015-12-03  12063.0          2.0\n",
       "322  2015-12-04  12065.0          0.0\n",
       "323  2015-12-05      NaN          5.0\n",
       "324  2015-12-06      NaN          5.0\n",
       "325  2015-12-07      NaN          5.0\n",
       "326  2015-12-08      NaN          5.0\n",
       "327  2015-12-09      NaN          5.0\n",
       "328  2015-12-10  12067.0         -1.0"
      ]
     },
     "execution_count": 15,
     "metadata": {},
     "output_type": "execute_result"
    }
   ],
   "source": [
    "test[['Date', 'EventID', 'FinalRating']].loc[318:328]"
   ]
  },
  {
   "cell_type": "markdown",
   "metadata": {},
   "source": [
    "## LOGISTIC REGRESSION\n",
    "\n",
    "A logistic regression mathematically calculates the decision boundary between the possibilities. It looks for a straight line that represents a cutoff that most accurately represents the training data."
   ]
  },
  {
   "cell_type": "code",
   "execution_count": 16,
   "metadata": {
    "collapsed": true
   },
   "outputs": [],
   "source": [
    "from sklearn.linear_model import LogisticRegression"
   ]
  },
  {
   "cell_type": "code",
   "execution_count": 17,
   "metadata": {
    "collapsed": true
   },
   "outputs": [],
   "source": [
    "# Initialize our algorithm\n",
    "lr = LogisticRegression(random_state=1)"
   ]
  },
  {
   "cell_type": "code",
   "execution_count": 18,
   "metadata": {
    "collapsed": true
   },
   "outputs": [],
   "source": [
    "# Define our predictors\n",
    "predictors = ['Weekend Flag', 'lag_30', 'lag_14', 'lag_7', 'Middle East lagpub_7', \n",
    "              'Other lagpub_7', 'UK lagpub_7', 'US lagpub_7', 'Middle East lagpub_14', \n",
    "              'Other lagpub_14', 'UK lagpub_14', 'US lagpub_14','Middle East lagpub_30', \n",
    "              'Other lagpub_30', 'UK lagpub_30','US lagpub_30']\n",
    "expected  = train[\"FinalRating\"]\n",
    "\n",
    "# Train the algorithm using all the training data\n",
    "lr.fit(train[predictors], expected)\n",
    "\n",
    "# Make predictions using the training set -- where we already know the correct answers\n",
    "predicted = lr.predict(train[predictors])"
   ]
  },
  {
   "cell_type": "code",
   "execution_count": 19,
   "metadata": {
    "scrolled": true
   },
   "outputs": [
    {
     "data": {
      "text/html": [
       "<div>\n",
       "<style>\n",
       "    .dataframe thead tr:only-child th {\n",
       "        text-align: right;\n",
       "    }\n",
       "\n",
       "    .dataframe thead th {\n",
       "        text-align: left;\n",
       "    }\n",
       "\n",
       "    .dataframe tbody tr th {\n",
       "        vertical-align: top;\n",
       "    }\n",
       "</style>\n",
       "<table border=\"1\" class=\"dataframe\">\n",
       "  <thead>\n",
       "    <tr style=\"text-align: right;\">\n",
       "      <th></th>\n",
       "      <th>Date</th>\n",
       "      <th>EventID</th>\n",
       "      <th>FinalRating</th>\n",
       "    </tr>\n",
       "  </thead>\n",
       "  <tbody>\n",
       "    <tr>\n",
       "      <th>318</th>\n",
       "      <td>2015-11-30</td>\n",
       "      <td>NaN</td>\n",
       "      <td>5.0</td>\n",
       "    </tr>\n",
       "    <tr>\n",
       "      <th>319</th>\n",
       "      <td>2015-12-01</td>\n",
       "      <td>12062.0</td>\n",
       "      <td>5.0</td>\n",
       "    </tr>\n",
       "    <tr>\n",
       "      <th>320</th>\n",
       "      <td>2015-12-02</td>\n",
       "      <td>NaN</td>\n",
       "      <td>5.0</td>\n",
       "    </tr>\n",
       "    <tr>\n",
       "      <th>321</th>\n",
       "      <td>2015-12-03</td>\n",
       "      <td>12063.0</td>\n",
       "      <td>5.0</td>\n",
       "    </tr>\n",
       "    <tr>\n",
       "      <th>322</th>\n",
       "      <td>2015-12-04</td>\n",
       "      <td>12065.0</td>\n",
       "      <td>5.0</td>\n",
       "    </tr>\n",
       "    <tr>\n",
       "      <th>323</th>\n",
       "      <td>2015-12-05</td>\n",
       "      <td>NaN</td>\n",
       "      <td>5.0</td>\n",
       "    </tr>\n",
       "    <tr>\n",
       "      <th>324</th>\n",
       "      <td>2015-12-06</td>\n",
       "      <td>NaN</td>\n",
       "      <td>5.0</td>\n",
       "    </tr>\n",
       "    <tr>\n",
       "      <th>325</th>\n",
       "      <td>2015-12-07</td>\n",
       "      <td>NaN</td>\n",
       "      <td>5.0</td>\n",
       "    </tr>\n",
       "    <tr>\n",
       "      <th>326</th>\n",
       "      <td>2015-12-08</td>\n",
       "      <td>NaN</td>\n",
       "      <td>5.0</td>\n",
       "    </tr>\n",
       "    <tr>\n",
       "      <th>327</th>\n",
       "      <td>2015-12-09</td>\n",
       "      <td>NaN</td>\n",
       "      <td>5.0</td>\n",
       "    </tr>\n",
       "    <tr>\n",
       "      <th>328</th>\n",
       "      <td>2015-12-10</td>\n",
       "      <td>12067.0</td>\n",
       "      <td>5.0</td>\n",
       "    </tr>\n",
       "  </tbody>\n",
       "</table>\n",
       "</div>"
      ],
      "text/plain": [
       "           Date  EventID  FinalRating\n",
       "318  2015-11-30      NaN          5.0\n",
       "319  2015-12-01  12062.0          5.0\n",
       "320  2015-12-02      NaN          5.0\n",
       "321  2015-12-03  12063.0          5.0\n",
       "322  2015-12-04  12065.0          5.0\n",
       "323  2015-12-05      NaN          5.0\n",
       "324  2015-12-06      NaN          5.0\n",
       "325  2015-12-07      NaN          5.0\n",
       "326  2015-12-08      NaN          5.0\n",
       "327  2015-12-09      NaN          5.0\n",
       "328  2015-12-10  12067.0          5.0"
      ]
     },
     "execution_count": 19,
     "metadata": {},
     "output_type": "execute_result"
    }
   ],
   "source": [
    "# Make predictions based on the test data\n",
    "predictions = lr.predict(test[predictors])\n",
    "\n",
    "# Frame the submissions\n",
    "test_predictions = pd.DataFrame({\n",
    "        \"Date\": test[\"Date\"],\n",
    "        \"EventID\": test[\"EventID\"],\n",
    "        \"FinalRating\": predictions\n",
    "    })\n",
    "test_predictions.loc[318:328]"
   ]
  },
  {
   "cell_type": "markdown",
   "metadata": {},
   "source": [
    "### Cross-Validation"
   ]
  },
  {
   "cell_type": "code",
   "execution_count": 20,
   "metadata": {
    "collapsed": true
   },
   "outputs": [],
   "source": [
    "from sklearn import cross_validation\n",
    "from sklearn.cross_validation import train_test_split"
   ]
  },
  {
   "cell_type": "code",
   "execution_count": 21,
   "metadata": {
    "collapsed": true
   },
   "outputs": [],
   "source": [
    "X = train[['Weekend Flag', 'lag_30', 'lag_14', 'lag_7', 'Middle East lagpub_7', \n",
    "              'Other lagpub_7', 'UK lagpub_7', 'US lagpub_7', 'Middle East lagpub_14', \n",
    "              'Other lagpub_14', 'UK lagpub_14', 'US lagpub_14','Middle East lagpub_30', \n",
    "              'Other lagpub_30', 'UK lagpub_30','US lagpub_30']]\n",
    "y = train[\"FinalRating\"]\n",
    "X_train, X_test, y_train, y_test = cross_validation.train_test_split(X,y,test_size = 0.2)\n",
    "log_reg = lr.fit(X_train, y_train)"
   ]
  },
  {
   "cell_type": "code",
   "execution_count": 22,
   "metadata": {},
   "outputs": [
    {
     "data": {
      "text/plain": [
       "0.8359375"
      ]
     },
     "execution_count": 22,
     "metadata": {},
     "output_type": "execute_result"
    }
   ],
   "source": [
    "# Every estimator has a score method that can judge the quality of the \n",
    "# fit (or the prediction) on new data. Bigger is better.   \n",
    "log_reg.score(X_test, y_test)"
   ]
  },
  {
   "cell_type": "code",
   "execution_count": 23,
   "metadata": {
    "collapsed": true
   },
   "outputs": [],
   "source": [
    "from sklearn.metrics import classification_report"
   ]
  },
  {
   "cell_type": "code",
   "execution_count": 24,
   "metadata": {
    "scrolled": false
   },
   "outputs": [
    {
     "name": "stdout",
     "output_type": "stream",
     "text": [
      "              precision    recall  f1-score   support\n",
      "\n",
      "    Friendly       0.00      0.00      0.00         1\n",
      "     Neutral       0.00      0.00      0.00         8\n",
      "Non-friendly       0.00      0.00      0.00        11\n",
      "  Threatning       0.00      0.00      0.00        22\n",
      "   Non-event       0.84      1.00      0.91       214\n",
      "\n",
      " avg / total       0.70      0.84      0.76       256\n",
      "\n"
     ]
    },
    {
     "name": "stderr",
     "output_type": "stream",
     "text": [
      "/Users/laurieottehenning/anaconda3/lib/python3.6/site-packages/sklearn/metrics/classification.py:1113: UndefinedMetricWarning: Precision and F-score are ill-defined and being set to 0.0 in labels with no predicted samples.\n",
      "  'precision', 'predicted', average, warn_for)\n"
     ]
    }
   ],
   "source": [
    "expected   = y_test\n",
    "predicted  = log_reg.predict(X_test)\n",
    "classificationReport = classification_report(expected, predicted, \n",
    "                                             target_names=['Friendly', 'Neutral', \n",
    "                                                           'Non-friendly', 'Threatning', \n",
    "                                                          'Non-event'])\n",
    "print(classificationReport)"
   ]
  },
  {
   "cell_type": "markdown",
   "metadata": {},
   "source": [
    "## Random Forest"
   ]
  },
  {
   "cell_type": "code",
   "execution_count": 25,
   "metadata": {
    "collapsed": true
   },
   "outputs": [],
   "source": [
    "from sklearn.ensemble import RandomForestClassifier"
   ]
  },
  {
   "cell_type": "code",
   "execution_count": 26,
   "metadata": {
    "collapsed": true
   },
   "outputs": [],
   "source": [
    "# We'll select 50 trees and opt for 'out-of-bag' samples to estimate the generalization error.\n",
    "rf = RandomForestClassifier(n_estimators=50, oob_score=True)"
   ]
  },
  {
   "cell_type": "code",
   "execution_count": 27,
   "metadata": {},
   "outputs": [
    {
     "data": {
      "text/plain": [
       "RandomForestClassifier(bootstrap=True, class_weight=None, criterion='gini',\n",
       "            max_depth=None, max_features='auto', max_leaf_nodes=None,\n",
       "            min_impurity_split=1e-07, min_samples_leaf=1,\n",
       "            min_samples_split=2, min_weight_fraction_leaf=0.0,\n",
       "            n_estimators=50, n_jobs=1, oob_score=True, random_state=None,\n",
       "            verbose=0, warm_start=False)"
      ]
     },
     "execution_count": 27,
     "metadata": {},
     "output_type": "execute_result"
    }
   ],
   "source": [
    "# Next split up the data with the 'train test split' method in the Cross Validation module\n",
    "X_train, X_test, y_train, y_test = train_test_split(X,y, test_size=0.2)\n",
    "\n",
    "# ...and then run the 'fit' method to build a forest of trees\n",
    "rf.fit(X_train, y_train)"
   ]
  },
  {
   "cell_type": "code",
   "execution_count": 28,
   "metadata": {},
   "outputs": [
    {
     "data": {
      "text/plain": [
       "0.83203125"
      ]
     },
     "execution_count": 28,
     "metadata": {},
     "output_type": "execute_result"
    }
   ],
   "source": [
    "rf.score(X_test, y_test)"
   ]
  },
  {
   "cell_type": "code",
   "execution_count": 29,
   "metadata": {},
   "outputs": [
    {
     "name": "stdout",
     "output_type": "stream",
     "text": [
      "              precision    recall  f1-score   support\n",
      "\n",
      "    Friendly       0.00      0.00      0.00         1\n",
      "     Neutral       0.00      0.00      0.00         8\n",
      "Non-friendly       0.00      0.00      0.00        12\n",
      "  Threatning       0.00      0.00      0.00        20\n",
      "   Non-event       0.85      0.99      0.91       215\n",
      "\n",
      " avg / total       0.71      0.83      0.77       256\n",
      "\n"
     ]
    },
    {
     "name": "stderr",
     "output_type": "stream",
     "text": [
      "/Users/laurieottehenning/anaconda3/lib/python3.6/site-packages/sklearn/metrics/classification.py:1113: UndefinedMetricWarning: Precision and F-score are ill-defined and being set to 0.0 in labels with no predicted samples.\n",
      "  'precision', 'predicted', average, warn_for)\n"
     ]
    }
   ],
   "source": [
    "expected   = y_test\n",
    "predicted  = rf.predict(X_test)\n",
    "classificationReport = classification_report(expected, predicted, \n",
    "                                             target_names=['Friendly', 'Neutral', \n",
    "                                                           'Non-friendly', 'Threatning',\n",
    "                                                          'Non-event'])\n",
    "print(classificationReport)"
   ]
  },
  {
   "cell_type": "markdown",
   "metadata": {},
   "source": [
    "## Regularization techniques\n",
    "\n",
    "### LASSO (L1 Regularization)\n",
    "\n",
    "LASSO forces weak features to have zeroes as coefficients, effectively dropping the least predictive features."
   ]
  },
  {
   "cell_type": "code",
   "execution_count": 30,
   "metadata": {
    "collapsed": true
   },
   "outputs": [],
   "source": [
    "from sklearn.decomposition import PCA\n",
    "from sklearn.feature_selection import SelectFromModel\n",
    "from sklearn.linear_model import Ridge, Lasso, ElasticNet\n",
    "from sklearn.discriminant_analysis import LinearDiscriminantAnalysis as LDA"
   ]
  },
  {
   "cell_type": "code",
   "execution_count": 31,
   "metadata": {
    "collapsed": true
   },
   "outputs": [],
   "source": [
    "# Define the features and labels\n",
    "features = train[['Weekend Flag', 'lag_30', 'lag_14', 'lag_7', 'Middle East lagpub_7', \n",
    "              'Other lagpub_7', 'UK lagpub_7', 'US lagpub_7', 'Middle East lagpub_14', \n",
    "              'Other lagpub_14', 'UK lagpub_14', 'US lagpub_14','Middle East lagpub_30', \n",
    "              'Other lagpub_30', 'UK lagpub_30','US lagpub_30']]\n",
    "labels  = train[\"FinalRating\"]"
   ]
  },
  {
   "cell_type": "code",
   "execution_count": 32,
   "metadata": {},
   "outputs": [
    {
     "name": "stdout",
     "output_type": "stream",
     "text": [
      "[('Weekend Flag', 0.0), ('lag_30', 0.0), ('lag_14', 0.0), ('lag_7', 0.0), ('Middle East lagpub_7', 0.0), ('Other lagpub_7', 0.0), ('UK lagpub_7', 0.0), ('US lagpub_7', 0.0), ('Middle East lagpub_14', 0.0), ('Other lagpub_14', 0.0), ('UK lagpub_14', 0.0), ('US lagpub_14', 0.0), ('Middle East lagpub_30', 0.0), ('Other lagpub_30', 0.0), ('UK lagpub_30', 0.0), ('US lagpub_30', 0.0)]\n"
     ]
    }
   ],
   "source": [
    "model = Lasso()\n",
    "model.fit(features, labels)\n",
    "print(list(zip(features, model.coef_.tolist())))"
   ]
  },
  {
   "cell_type": "markdown",
   "metadata": {},
   "source": [
    "### Ridge Regression (L2 Regularization)\n",
    "\n",
    "Ridge assigns every feature a weight, but spreads the coefficient values out more equally, shrinking but still maintaining less predictive features."
   ]
  },
  {
   "cell_type": "code",
   "execution_count": 33,
   "metadata": {},
   "outputs": [
    {
     "name": "stdout",
     "output_type": "stream",
     "text": [
      "[('Weekend Flag', 0.0423469508886534), ('lag_30', 0.3050356549219507), ('lag_14', 0.3146391999556256), ('lag_7', 0.33189790357011895), ('Middle East lagpub_7', 1.168235961493632), ('Other lagpub_7', 0.08790333276351327), ('UK lagpub_7', 0.4251401363013828), ('US lagpub_7', 0.328853994378098), ('Middle East lagpub_14', 0.9300073164771271), ('Other lagpub_14', 0.030166473343420777), ('UK lagpub_14', 0.3464365713457178), ('US lagpub_14', 0.5429026330744213), ('Middle East lagpub_30', 0.7331898499154311), ('Other lagpub_30', 0.05507460086834339), ('UK lagpub_30', 0.2560697339252881), ('US lagpub_30', 0.5839134532264323)]\n"
     ]
    }
   ],
   "source": [
    "model = Ridge()\n",
    "model.fit(features, labels)\n",
    "print(list(zip(features, model.coef_.tolist())))"
   ]
  },
  {
   "cell_type": "markdown",
   "metadata": {},
   "source": [
    "### ElasticNet\n",
    "\n",
    "ElasticNet is a linear combination of L1 and L2 regularization, meaning it combines Ridge and LASSO and essentially splits the difference."
   ]
  },
  {
   "cell_type": "code",
   "execution_count": 34,
   "metadata": {},
   "outputs": [
    {
     "name": "stdout",
     "output_type": "stream",
     "text": [
      "[('Weekend Flag', 0.0), ('lag_30', 0.0), ('lag_14', 0.0), ('lag_7', 0.0), ('Middle East lagpub_7', 0.0), ('Other lagpub_7', 0.0), ('UK lagpub_7', 0.0), ('US lagpub_7', 0.0), ('Middle East lagpub_14', 0.0), ('Other lagpub_14', 0.0), ('UK lagpub_14', 0.0), ('US lagpub_14', 0.0), ('Middle East lagpub_30', 0.0), ('Other lagpub_30', 0.0), ('UK lagpub_30', 0.0), ('US lagpub_30', 0.0)]\n"
     ]
    }
   ],
   "source": [
    "model = ElasticNet(l1_ratio=0.10)\n",
    "model.fit(features, labels)\n",
    "print(list(zip(features, model.coef_.tolist())))"
   ]
  },
  {
   "cell_type": "markdown",
   "metadata": {},
   "source": [
    "## Transformer methods\n",
    "\n",
    "### SelectFromModel()\n",
    "\n",
    "Scikit-Learn has a meta-transformer method for selecting features based on importance weights."
   ]
  },
  {
   "cell_type": "code",
   "execution_count": 35,
   "metadata": {},
   "outputs": [
    {
     "name": "stdout",
     "output_type": "stream",
     "text": [
      "[]\n"
     ]
    }
   ],
   "source": [
    "model = Lasso()\n",
    "sfm = SelectFromModel(model)\n",
    "sfm.fit(features, labels)\n",
    "print(list(features[sfm.get_support(indices=True)]))"
   ]
  },
  {
   "cell_type": "code",
   "execution_count": 36,
   "metadata": {},
   "outputs": [
    {
     "data": {
      "text/plain": [
       "SelectFromModel(estimator=Ridge(alpha=1.0, copy_X=True, fit_intercept=True, max_iter=None,\n",
       "   normalize=False, random_state=None, solver='auto', tol=0.001),\n",
       "        prefit=False, threshold=None)"
      ]
     },
     "execution_count": 36,
     "metadata": {},
     "output_type": "execute_result"
    }
   ],
   "source": [
    "model = Ridge()\n",
    "sfm = SelectFromModel(model)\n",
    "sfm.fit(features, labels)"
   ]
  },
  {
   "cell_type": "code",
   "execution_count": 37,
   "metadata": {},
   "outputs": [
    {
     "data": {
      "text/plain": [
       "SelectFromModel(estimator=ElasticNet(alpha=1.0, copy_X=True, fit_intercept=True, l1_ratio=0.5,\n",
       "      max_iter=1000, normalize=False, positive=False, precompute=False,\n",
       "      random_state=None, selection='cyclic', tol=0.0001, warm_start=False),\n",
       "        prefit=False, threshold=None)"
      ]
     },
     "execution_count": 37,
     "metadata": {},
     "output_type": "execute_result"
    }
   ],
   "source": [
    "model = ElasticNet()\n",
    "sfm = SelectFromModel(model)\n",
    "sfm.fit(features, labels)\n"
   ]
  },
  {
   "cell_type": "markdown",
   "metadata": {},
   "source": [
    "## <span style=\"color:red\">Discuss Problems</span>\n",
    "\n",
    "   * The ony rating that was predicted with efficacy was 5.0 (i.e. nothing occurred on the given day)\n",
    "   * The -1 rating isn't meaningful and should be dropped. \n",
    "   * We'll run a test with 5.0 dropped and see if the models is any more predictive."
   ]
  },
  {
   "cell_type": "markdown",
   "metadata": {},
   "source": [
    "## 2nd Iteration\n",
    "\n",
    "Will run on ratings 0, 1, 2, 3. \n",
    "\n",
    "### Clean data"
   ]
  },
  {
   "cell_type": "code",
   "execution_count": 38,
   "metadata": {},
   "outputs": [
    {
     "data": {
      "text/html": [
       "<div>\n",
       "<style>\n",
       "    .dataframe thead tr:only-child th {\n",
       "        text-align: right;\n",
       "    }\n",
       "\n",
       "    .dataframe thead th {\n",
       "        text-align: left;\n",
       "    }\n",
       "\n",
       "    .dataframe tbody tr th {\n",
       "        vertical-align: top;\n",
       "    }\n",
       "</style>\n",
       "<table border=\"1\" class=\"dataframe\">\n",
       "  <thead>\n",
       "    <tr style=\"text-align: right;\">\n",
       "      <th></th>\n",
       "      <th>EventID</th>\n",
       "      <th>Date</th>\n",
       "      <th>FinalRating</th>\n",
       "    </tr>\n",
       "  </thead>\n",
       "  <tbody>\n",
       "    <tr>\n",
       "      <th>0</th>\n",
       "      <td>11004.0</td>\n",
       "      <td>2015-01-25</td>\n",
       "      <td>3.0</td>\n",
       "    </tr>\n",
       "    <tr>\n",
       "      <th>1</th>\n",
       "      <td>11007.0</td>\n",
       "      <td>2015-01-27</td>\n",
       "      <td>2.0</td>\n",
       "    </tr>\n",
       "    <tr>\n",
       "      <th>2</th>\n",
       "      <td>11008.0</td>\n",
       "      <td>2015-01-28</td>\n",
       "      <td>3.0</td>\n",
       "    </tr>\n",
       "    <tr>\n",
       "      <th>3</th>\n",
       "      <td>11013.0</td>\n",
       "      <td>2015-02-17</td>\n",
       "      <td>2.0</td>\n",
       "    </tr>\n",
       "    <tr>\n",
       "      <th>4</th>\n",
       "      <td>11021.0</td>\n",
       "      <td>2015-02-24</td>\n",
       "      <td>2.0</td>\n",
       "    </tr>\n",
       "    <tr>\n",
       "      <th>5</th>\n",
       "      <td>11022.0</td>\n",
       "      <td>2015-02-27</td>\n",
       "      <td>3.0</td>\n",
       "    </tr>\n",
       "    <tr>\n",
       "      <th>6</th>\n",
       "      <td>11028.0</td>\n",
       "      <td>2015-03-16</td>\n",
       "      <td>2.0</td>\n",
       "    </tr>\n",
       "    <tr>\n",
       "      <th>7</th>\n",
       "      <td>11034.0</td>\n",
       "      <td>2015-03-31</td>\n",
       "      <td>2.0</td>\n",
       "    </tr>\n",
       "    <tr>\n",
       "      <th>8</th>\n",
       "      <td>11036.0</td>\n",
       "      <td>2015-04-01</td>\n",
       "      <td>2.0</td>\n",
       "    </tr>\n",
       "    <tr>\n",
       "      <th>9</th>\n",
       "      <td>11040.0</td>\n",
       "      <td>2015-04-19</td>\n",
       "      <td>1.0</td>\n",
       "    </tr>\n",
       "  </tbody>\n",
       "</table>\n",
       "</div>"
      ],
      "text/plain": [
       "   EventID        Date  FinalRating\n",
       "0  11004.0  2015-01-25          3.0\n",
       "1  11007.0  2015-01-27          2.0\n",
       "2  11008.0  2015-01-28          3.0\n",
       "3  11013.0  2015-02-17          2.0\n",
       "4  11021.0  2015-02-24          2.0\n",
       "5  11022.0  2015-02-27          3.0\n",
       "6  11028.0  2015-03-16          2.0\n",
       "7  11034.0  2015-03-31          2.0\n",
       "8  11036.0  2015-04-01          2.0\n",
       "9  11040.0  2015-04-19          1.0"
      ]
     },
     "execution_count": 38,
     "metadata": {},
     "output_type": "execute_result"
    }
   ],
   "source": [
    "# Import csv as a dataframe\n",
    "path = \"/Users/laurieottehenning/Documents/Georgetown Data Science /Capstone/Final Data Set\"\n",
    "os.chdir(path)\n",
    "train = pd.read_csv('Final_Clean_Data.csv')\n",
    "\n",
    "# Check number of missing values\n",
    "train.isnull().sum()\n",
    "\n",
    "# Fill the null values with mean\n",
    "cols = ['Value_Average_Past_30_days', 'lag_30',\n",
    "       'Value_Average_Past_14_days', 'lag_14', 'Value_Average_Past_7_days',\n",
    "       'lag_7', 'Middle East lagpub_7', 'Other lagpub_7', 'UK lagpub_7',\n",
    "       'US lagpub_7', 'Middle East lagpub_14', 'Other lagpub_14',\n",
    "       'UK lagpub_14', 'US lagpub_14', 'Middle East lagpub_30',\n",
    "       'Other lagpub_30', 'UK lagpub_30', 'US lagpub_30']\n",
    "\n",
    "for i in cols:\n",
    "    train[i] = train[i].fillna(train[i].mean())\n",
    "\n",
    "train.isnull().sum()\n",
    "\n",
    "# Drop these columns since they aren't useful to train on. \n",
    "cols = ['Unnamed: 0', 'Value_Average_Past_30_days', 'Value_Average_Past_14_days', \n",
    "       'Value_Average_Past_7_days']\n",
    "for i in cols:\n",
    "    train = train.drop([i], axis=1)\n",
    "train.columns\n",
    "\n",
    "# Keep the ratings equal to 0, 1, 2, 3. \n",
    "mask = (train['FinalRating'] >= 0) & (train['FinalRating'] < 4)\n",
    "train = train.loc[mask]\n",
    "\n",
    "# Keep the first 5 years so we can test on the last 2 years\n",
    "mask = (train['Date'] > '2010-12-31') & (train['Date'] <= '2014-12-31')\n",
    "mask2 = (train['Date'] > '2014-12-31')\n",
    "test = train.loc[mask2]\n",
    "train = train.loc[mask]\n",
    "\n",
    "# Reset index \n",
    "test.reset_index(inplace=True)\n",
    "test[['EventID', 'Date', 'FinalRating']].head(10)"
   ]
  },
  {
   "cell_type": "markdown",
   "metadata": {},
   "source": [
    "### Run Logistic Model Again"
   ]
  },
  {
   "cell_type": "code",
   "execution_count": 39,
   "metadata": {},
   "outputs": [
    {
     "data": {
      "text/html": [
       "<div>\n",
       "<style>\n",
       "    .dataframe thead tr:only-child th {\n",
       "        text-align: right;\n",
       "    }\n",
       "\n",
       "    .dataframe thead th {\n",
       "        text-align: left;\n",
       "    }\n",
       "\n",
       "    .dataframe tbody tr th {\n",
       "        vertical-align: top;\n",
       "    }\n",
       "</style>\n",
       "<table border=\"1\" class=\"dataframe\">\n",
       "  <thead>\n",
       "    <tr style=\"text-align: right;\">\n",
       "      <th></th>\n",
       "      <th>Date</th>\n",
       "      <th>EventID</th>\n",
       "      <th>FinalRating</th>\n",
       "    </tr>\n",
       "  </thead>\n",
       "  <tbody>\n",
       "    <tr>\n",
       "      <th>0</th>\n",
       "      <td>2015-01-25</td>\n",
       "      <td>11004.0</td>\n",
       "      <td>2.0</td>\n",
       "    </tr>\n",
       "    <tr>\n",
       "      <th>1</th>\n",
       "      <td>2015-01-27</td>\n",
       "      <td>11007.0</td>\n",
       "      <td>3.0</td>\n",
       "    </tr>\n",
       "    <tr>\n",
       "      <th>2</th>\n",
       "      <td>2015-01-28</td>\n",
       "      <td>11008.0</td>\n",
       "      <td>3.0</td>\n",
       "    </tr>\n",
       "    <tr>\n",
       "      <th>3</th>\n",
       "      <td>2015-02-17</td>\n",
       "      <td>11013.0</td>\n",
       "      <td>3.0</td>\n",
       "    </tr>\n",
       "    <tr>\n",
       "      <th>4</th>\n",
       "      <td>2015-02-24</td>\n",
       "      <td>11021.0</td>\n",
       "      <td>3.0</td>\n",
       "    </tr>\n",
       "    <tr>\n",
       "      <th>5</th>\n",
       "      <td>2015-02-27</td>\n",
       "      <td>11022.0</td>\n",
       "      <td>3.0</td>\n",
       "    </tr>\n",
       "    <tr>\n",
       "      <th>6</th>\n",
       "      <td>2015-03-16</td>\n",
       "      <td>11028.0</td>\n",
       "      <td>3.0</td>\n",
       "    </tr>\n",
       "    <tr>\n",
       "      <th>7</th>\n",
       "      <td>2015-03-31</td>\n",
       "      <td>11034.0</td>\n",
       "      <td>3.0</td>\n",
       "    </tr>\n",
       "    <tr>\n",
       "      <th>8</th>\n",
       "      <td>2015-04-01</td>\n",
       "      <td>11036.0</td>\n",
       "      <td>3.0</td>\n",
       "    </tr>\n",
       "    <tr>\n",
       "      <th>9</th>\n",
       "      <td>2015-04-19</td>\n",
       "      <td>11040.0</td>\n",
       "      <td>2.0</td>\n",
       "    </tr>\n",
       "  </tbody>\n",
       "</table>\n",
       "</div>"
      ],
      "text/plain": [
       "         Date  EventID  FinalRating\n",
       "0  2015-01-25  11004.0          2.0\n",
       "1  2015-01-27  11007.0          3.0\n",
       "2  2015-01-28  11008.0          3.0\n",
       "3  2015-02-17  11013.0          3.0\n",
       "4  2015-02-24  11021.0          3.0\n",
       "5  2015-02-27  11022.0          3.0\n",
       "6  2015-03-16  11028.0          3.0\n",
       "7  2015-03-31  11034.0          3.0\n",
       "8  2015-04-01  11036.0          3.0\n",
       "9  2015-04-19  11040.0          2.0"
      ]
     },
     "execution_count": 39,
     "metadata": {},
     "output_type": "execute_result"
    }
   ],
   "source": [
    "# Initialize our algorithm\n",
    "lr = LogisticRegression(random_state=1)\n",
    "\n",
    "# Define our predictors\n",
    "predictors = ['Weekend Flag', 'lag_30', 'lag_14', 'lag_7', 'Middle East lagpub_7', \n",
    "              'Other lagpub_7', 'UK lagpub_7', 'US lagpub_7', 'Middle East lagpub_14', \n",
    "              'Other lagpub_14', 'UK lagpub_14', 'US lagpub_14','Middle East lagpub_30', \n",
    "              'Other lagpub_30', 'UK lagpub_30','US lagpub_30']\n",
    "expected  = train[\"FinalRating\"]\n",
    "\n",
    "# Train the algorithm using all the training data\n",
    "lr.fit(train[predictors], expected)\n",
    "\n",
    "# Make predictions using the training set -- where we already know the correct answers\n",
    "predicted = lr.predict(train[predictors])\n",
    "\n",
    "# Make predictions based on the test data\n",
    "predictions = lr.predict(test[predictors])\n",
    "\n",
    "# Frame the submissions\n",
    "test_predictions = pd.DataFrame({\n",
    "        \"Date\": test[\"Date\"],\n",
    "        \"EventID\": test[\"EventID\"],\n",
    "        \"FinalRating\": predictions\n",
    "    })\n",
    "test_predictions.head(10)"
   ]
  },
  {
   "cell_type": "markdown",
   "metadata": {},
   "source": [
    "### Cross Validation again"
   ]
  },
  {
   "cell_type": "code",
   "execution_count": 40,
   "metadata": {},
   "outputs": [
    {
     "data": {
      "text/plain": [
       "0.26000000000000001"
      ]
     },
     "execution_count": 40,
     "metadata": {},
     "output_type": "execute_result"
    }
   ],
   "source": [
    "X = train[['Weekend Flag', 'lag_30', 'lag_14', 'lag_7', 'Middle East lagpub_7', \n",
    "              'Other lagpub_7', 'UK lagpub_7', 'US lagpub_7', 'Middle East lagpub_14', \n",
    "              'Other lagpub_14', 'UK lagpub_14', 'US lagpub_14','Middle East lagpub_30', \n",
    "              'Other lagpub_30', 'UK lagpub_30','US lagpub_30']]\n",
    "y = train[\"FinalRating\"]\n",
    "X_train, X_test, y_train, y_test = cross_validation.train_test_split(X,y,test_size = 0.2)\n",
    "log_reg = lr.fit(X_train, y_train)\n",
    "\n",
    "# Every estimator has a score method that can judge the quality of the \n",
    "# fit (or the prediction) on new data. Bigger is better.   \n",
    "log_reg.score(X_test, y_test)"
   ]
  },
  {
   "cell_type": "code",
   "execution_count": 41,
   "metadata": {},
   "outputs": [
    {
     "name": "stdout",
     "output_type": "stream",
     "text": [
      "                                precision    recall  f1-score   support\n",
      "\n",
      "                Friendly Event       0.00      0.00      0.00        15\n",
      "                 Neutral Event       0.00      0.00      0.00        22\n",
      "Non-friendly/threatening event       0.26      1.00      0.41        13\n",
      "\n",
      "                   avg / total       0.07      0.26      0.11        50\n",
      "\n"
     ]
    },
    {
     "name": "stderr",
     "output_type": "stream",
     "text": [
      "/Users/laurieottehenning/anaconda3/lib/python3.6/site-packages/sklearn/metrics/classification.py:1113: UndefinedMetricWarning: Precision and F-score are ill-defined and being set to 0.0 in labels with no predicted samples.\n",
      "  'precision', 'predicted', average, warn_for)\n"
     ]
    }
   ],
   "source": [
    "expected   = y_test\n",
    "predicted  = log_reg.predict(X_test)\n",
    "classificationReport = classification_report(expected, predicted, \n",
    "                                             target_names=['Friendly Event', 'Neutral Event', \n",
    "                                                           'Non-friendly/threatening event', \n",
    "                                                           'Threatning/aggressive event'])\n",
    "print(classificationReport)"
   ]
  },
  {
   "cell_type": "markdown",
   "metadata": {},
   "source": [
    "## Random Forest"
   ]
  },
  {
   "cell_type": "code",
   "execution_count": 42,
   "metadata": {
    "collapsed": true
   },
   "outputs": [],
   "source": [
    "# We'll select 50 trees and opt for 'out-of-bag' samples to estimate the generalization error.\n",
    "rf = RandomForestClassifier(n_estimators=50, oob_score=True)"
   ]
  },
  {
   "cell_type": "code",
   "execution_count": 43,
   "metadata": {
    "scrolled": true
   },
   "outputs": [
    {
     "data": {
      "text/plain": [
       "RandomForestClassifier(bootstrap=True, class_weight=None, criterion='gini',\n",
       "            max_depth=None, max_features='auto', max_leaf_nodes=None,\n",
       "            min_impurity_split=1e-07, min_samples_leaf=1,\n",
       "            min_samples_split=2, min_weight_fraction_leaf=0.0,\n",
       "            n_estimators=50, n_jobs=1, oob_score=True, random_state=None,\n",
       "            verbose=0, warm_start=False)"
      ]
     },
     "execution_count": 43,
     "metadata": {},
     "output_type": "execute_result"
    }
   ],
   "source": [
    "# Next split up the data with the 'train test split' method in the Cross Validation module\n",
    "X_train, X_test, y_train, y_test = train_test_split(X,y, test_size=0.2)\n",
    "\n",
    "# ...and then run the 'fit' method to build a forest of trees\n",
    "rf.fit(X_train, y_train)"
   ]
  },
  {
   "cell_type": "code",
   "execution_count": 44,
   "metadata": {
    "scrolled": false
   },
   "outputs": [
    {
     "data": {
      "text/plain": [
       "0.47999999999999998"
      ]
     },
     "execution_count": 44,
     "metadata": {},
     "output_type": "execute_result"
    }
   ],
   "source": [
    "rf.score(X_test, y_test)"
   ]
  },
  {
   "cell_type": "code",
   "execution_count": 45,
   "metadata": {},
   "outputs": [
    {
     "name": "stdout",
     "output_type": "stream",
     "text": [
      "              precision    recall  f1-score   support\n",
      "\n",
      "    Friendly       0.00      0.00      0.00         2\n",
      "     Neutral       0.17      0.17      0.17         6\n",
      "Non-friendly       0.50      0.56      0.53        18\n",
      "  Threatning       0.54      0.54      0.54        24\n",
      "\n",
      " avg / total       0.46      0.48      0.47        50\n",
      "\n"
     ]
    },
    {
     "name": "stderr",
     "output_type": "stream",
     "text": [
      "/Users/laurieottehenning/anaconda3/lib/python3.6/site-packages/sklearn/metrics/classification.py:1113: UndefinedMetricWarning: Precision and F-score are ill-defined and being set to 0.0 in labels with no predicted samples.\n",
      "  'precision', 'predicted', average, warn_for)\n"
     ]
    }
   ],
   "source": [
    "expected   = y_test\n",
    "predicted  = rf.predict(X_test)\n",
    "classificationReport = classification_report(expected, predicted, \n",
    "                                             target_names=['Friendly', 'Neutral', \n",
    "                                                           'Non-friendly', 'Threatning'])\n",
    "print(classificationReport)"
   ]
  },
  {
   "cell_type": "markdown",
   "metadata": {},
   "source": [
    "### Visualization"
   ]
  },
  {
   "cell_type": "code",
   "execution_count": 46,
   "metadata": {
    "collapsed": true
   },
   "outputs": [],
   "source": [
    "def plot_classification_report(cr, title='Classification report', cmap=plt.cm.Reds):\n",
    "\n",
    "    lines = cr.split('\\n')\n",
    "    classes = []\n",
    "    plotMat = []\n",
    "\n",
    "    for line in lines[2 : (len(lines) - 3)]:\n",
    "        t = line.split()\n",
    "        classes.append(t[0])\n",
    "        v = [float(x) for x in t[1: len(t) - 1]]\n",
    "        plotMat.append(v)\n",
    "\n",
    "    fig, ax = plt.subplots(1)\n",
    "    fig = plt.imshow(plotMat, interpolation='nearest', cmap=cmap)\n",
    "    \n",
    "    for c in range(len(plotMat)+1):\n",
    "        for r in range(len(classes)):\n",
    "            try:\n",
    "                txt = plotMat[r][c]\n",
    "                ax.text(c,r,plotMat[r][c],va='center',ha='center')\n",
    "            except IndexError:\n",
    "                pass\n",
    "            \n",
    "    plt.title(title)\n",
    "    plt.colorbar()\n",
    "    x_tick_marks = np.arange(3)\n",
    "    y_tick_marks = np.arange(len(classes))\n",
    "    plt.xticks(x_tick_marks, ['precision', 'recall', 'f1-score'], rotation=45)\n",
    "    plt.yticks(y_tick_marks, classes)\n",
    "    plt.tight_layout()\n",
    "    plt.ylabel('Classes')\n",
    "    plt.xlabel('Measures')"
   ]
  },
  {
   "cell_type": "code",
   "execution_count": 47,
   "metadata": {},
   "outputs": [
    {
     "data": {
      "image/png": "[encoded data removed]",
      "text/plain": [
       "<matplotlib.figure.Figure at 0x114e0d2b0>"
      ]
     },
     "metadata": {},
     "output_type": "display_data"
    }
   ],
   "source": [
    "plot_classification_report(classificationReport)"
   ]
  },
  {
   "cell_type": "markdown",
   "metadata": {},
   "source": [
    "## SVM\n",
    "Support vector machines use points in transformed problem space to separate the classes into groups."
   ]
  },
  {
   "cell_type": "code",
   "execution_count": 48,
   "metadata": {
    "collapsed": true
   },
   "outputs": [],
   "source": [
    "from sklearn.svm import SVC"
   ]
  },
  {
   "cell_type": "code",
   "execution_count": 49,
   "metadata": {},
   "outputs": [
    {
     "name": "stderr",
     "output_type": "stream",
     "text": [
      "/Users/laurieottehenning/anaconda3/lib/python3.6/site-packages/sklearn/metrics/classification.py:1113: UndefinedMetricWarning: Precision and F-score are ill-defined and being set to 0.0 in labels with no predicted samples.\n",
      "  'precision', 'predicted', average, warn_for)\n"
     ]
    }
   ],
   "source": [
    "kernels = ['linear', 'poly', 'rbf']\n",
    "\n",
    "splits     = cross_validation.train_test_split(X,y, test_size=0.2)\n",
    "X_train, X_test, y_train, y_test = splits\n",
    "\n",
    "for kernel in kernels:\n",
    "    if kernel != 'poly':\n",
    "        model      = SVC(kernel=kernel)\n",
    "    else:\n",
    "        model      = SVC(kernel=kernel, degree=3)\n",
    "\n",
    "model.fit(X_train, y_train)\n",
    "expected   = y_test\n",
    "predicted  = model.predict(X_test)\n",
    "\n",
    "SVC_report = classification_report(expected, predicted, \n",
    "                                   target_names=['Friendly', 'Neutral', \n",
    "                                                 'Non-friendly', 'Threatning'])"
   ]
  },
  {
   "cell_type": "code",
   "execution_count": 50,
   "metadata": {},
   "outputs": [
    {
     "data": {
      "image/png": "[encoded data removed]",
      "text/plain": [
       "<matplotlib.figure.Figure at 0x1152d33c8>"
      ]
     },
     "metadata": {},
     "output_type": "display_data"
    }
   ],
   "source": [
    "plot_classification_report(SVC_report)"
   ]
  },
  {
   "cell_type": "markdown",
   "metadata": {},
   "source": [
    "## Regularization techniques\n",
    "\n",
    "### LASSO (L1 Regularization)"
   ]
  },
  {
   "cell_type": "code",
   "execution_count": 51,
   "metadata": {
    "collapsed": true
   },
   "outputs": [],
   "source": [
    "# Define the features and labels\n",
    "features = train[['Weekend Flag', 'lag_30', 'lag_14', 'lag_7', 'Middle East lagpub_7', \n",
    "              'Other lagpub_7', 'UK lagpub_7', 'US lagpub_7', 'Middle East lagpub_14', \n",
    "              'Other lagpub_14', 'UK lagpub_14', 'US lagpub_14','Middle East lagpub_30', \n",
    "              'Other lagpub_30', 'UK lagpub_30','US lagpub_30']]\n",
    "labels  = train[\"FinalRating\"]"
   ]
  },
  {
   "cell_type": "code",
   "execution_count": 52,
   "metadata": {},
   "outputs": [
    {
     "name": "stdout",
     "output_type": "stream",
     "text": [
      "[('Weekend Flag', -0.0), ('lag_30', 0.0), ('lag_14', 0.0), ('lag_7', 0.0), ('Middle East lagpub_7', -0.0), ('Other lagpub_7', 0.0), ('UK lagpub_7', -0.0), ('US lagpub_7', -0.0), ('Middle East lagpub_14', -0.0), ('Other lagpub_14', 0.0), ('UK lagpub_14', -0.0), ('US lagpub_14', -0.0), ('Middle East lagpub_30', -0.0), ('Other lagpub_30', -0.0), ('UK lagpub_30', -0.0), ('US lagpub_30', -0.0)]\n"
     ]
    }
   ],
   "source": [
    "model = Lasso()\n",
    "model.fit(features, labels)\n",
    "print(list(zip(features, model.coef_.tolist())))"
   ]
  },
  {
   "cell_type": "markdown",
   "metadata": {},
   "source": [
    "### Ridge Regression (L2 Regularization)\n",
    "\n",
    "Ridge assigns every feature a weight, but spreads the coefficient values out more equally, shrinking but still maintaining less predictive features."
   ]
  },
  {
   "cell_type": "code",
   "execution_count": 53,
   "metadata": {},
   "outputs": [
    {
     "name": "stdout",
     "output_type": "stream",
     "text": [
      "[('Weekend Flag', -0.15798365441135379), ('lag_30', 0.07753512004858096), ('lag_14', 0.05060518462067006), ('lag_7', 0.06839468307238125), ('Middle East lagpub_7', -0.042046337609971854), ('Other lagpub_7', 0.011425722350857963), ('UK lagpub_7', -0.1557507773888248), ('US lagpub_7', -4.5755290124166646e-05), ('Middle East lagpub_14', -0.13054474336272703), ('Other lagpub_14', 0.025143405848688467), ('UK lagpub_14', -0.16041183565810538), ('US lagpub_14', -0.01638088169506584), ('Middle East lagpub_30', -0.13936085537082665), ('Other lagpub_30', -0.018640822520532334), ('UK lagpub_30', -0.02561212137781606), ('US lagpub_30', -0.036597261898802406)]\n"
     ]
    }
   ],
   "source": [
    "model = Ridge()\n",
    "model.fit(features, labels)\n",
    "print(list(zip(features, model.coef_.tolist())))"
   ]
  },
  {
   "cell_type": "markdown",
   "metadata": {},
   "source": [
    "### ElasticNet"
   ]
  },
  {
   "cell_type": "code",
   "execution_count": 54,
   "metadata": {},
   "outputs": [
    {
     "name": "stdout",
     "output_type": "stream",
     "text": [
      "[('Weekend Flag', -0.0), ('lag_30', 0.0), ('lag_14', 0.0), ('lag_7', 0.0), ('Middle East lagpub_7', -0.0), ('Other lagpub_7', 0.0), ('UK lagpub_7', -0.0), ('US lagpub_7', -0.0), ('Middle East lagpub_14', -0.0), ('Other lagpub_14', 0.0), ('UK lagpub_14', -0.0), ('US lagpub_14', -0.0), ('Middle East lagpub_30', -0.0), ('Other lagpub_30', -0.0), ('UK lagpub_30', -0.0), ('US lagpub_30', -0.0)]\n"
     ]
    }
   ],
   "source": [
    "model = ElasticNet(l1_ratio=0.10)\n",
    "model.fit(features, labels)\n",
    "print(list(zip(features, model.coef_.tolist())))"
   ]
  },
  {
   "cell_type": "markdown",
   "metadata": {},
   "source": [
    "## Transformer methods\n",
    "\n",
    "### SelectFromModel()"
   ]
  },
  {
   "cell_type": "code",
   "execution_count": 55,
   "metadata": {},
   "outputs": [
    {
     "name": "stdout",
     "output_type": "stream",
     "text": [
      "[]\n"
     ]
    }
   ],
   "source": [
    "model = Lasso()\n",
    "sfm = SelectFromModel(model)\n",
    "sfm.fit(features, labels)\n",
    "print(list(features[sfm.get_support(indices=True)]))"
   ]
  },
  {
   "cell_type": "code",
   "execution_count": 56,
   "metadata": {},
   "outputs": [
    {
     "data": {
      "text/plain": [
       "SelectFromModel(estimator=Ridge(alpha=1.0, copy_X=True, fit_intercept=True, max_iter=None,\n",
       "   normalize=False, random_state=None, solver='auto', tol=0.001),\n",
       "        prefit=False, threshold=None)"
      ]
     },
     "execution_count": 56,
     "metadata": {},
     "output_type": "execute_result"
    }
   ],
   "source": [
    "model = Ridge()\n",
    "sfm = SelectFromModel(model)\n",
    "sfm.fit(features, labels)"
   ]
  },
  {
   "cell_type": "code",
   "execution_count": 57,
   "metadata": {},
   "outputs": [
    {
     "data": {
      "text/plain": [
       "SelectFromModel(estimator=ElasticNet(alpha=1.0, copy_X=True, fit_intercept=True, l1_ratio=0.5,\n",
       "      max_iter=1000, normalize=False, positive=False, precompute=False,\n",
       "      random_state=None, selection='cyclic', tol=0.0001, warm_start=False),\n",
       "        prefit=False, threshold=None)"
      ]
     },
     "execution_count": 57,
     "metadata": {},
     "output_type": "execute_result"
    }
   ],
   "source": [
    "model = ElasticNet()\n",
    "sfm = SelectFromModel(model)\n",
    "sfm.fit(features, labels)"
   ]
  }
 ],
 "metadata": {
  "kernelspec": {
   "display_name": "Python 3",
   "language": "python",
   "name": "python3"
  },
  "language_info": {
   "codemirror_mode": {
    "name": "ipython",
    "version": 3
   },
   "file_extension": ".py",
   "mimetype": "text/x-python",
   "name": "python",
   "nbconvert_exporter": "python",
   "pygments_lexer": "ipython3",
   "version": "3.6.0"
  }
 },
 "nbformat": 4,
 "nbformat_minor": 2
}
