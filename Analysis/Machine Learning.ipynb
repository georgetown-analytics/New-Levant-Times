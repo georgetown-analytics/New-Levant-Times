{
 "cells": [
  {
   "cell_type": "markdown",
   "metadata": {},
   "source": [
    "# Machine Learning\n",
    "\n",
    "\"*[Machine learning](https://github.com/georgetown-analytics/machine-learning/blob/master/notebook/Tour%20de%20SciKit-Learn.ipynb) can classically be summarized with two methodologies: supervised and unsupervised learning. In supervised learning, the “correct answers” are annotated ahead of time and the algorithm tries to fit a decision space based on those answers. In unsupervised learning, algorithms try to group like examples together, inferring similarities via distance metrics. Machine learning allows us to handle new data in a meaningful way, predicting where new data will fit into our models.*\"\n",
    "\n",
    "We will be conducting supervised learning. \n",
    "\n",
    "#### Potential Issues (List any issues as they occur)\n",
    "\n",
    "**Null Values**\n",
    "   * Sklearn doesn't deal handle *Null* values. \n",
    "   * While the data is fairly clean there are *Null* values that occur in the publication origin lagged variables. This is due to date ranges where there were no publication from a given county/region. Solutions:\n",
    "      * Recode missing values to the mean or median.\n",
    "      * Drop the values with missing data.  "
   ]
  },
  {
   "cell_type": "code",
   "execution_count": 1,
   "metadata": {},
   "outputs": [
    {
     "name": "stderr",
     "output_type": "stream",
     "text": [
      "/Users/laurieottehenning/anaconda3/lib/python3.6/site-packages/sklearn/cross_validation.py:44: DeprecationWarning: This module was deprecated in version 0.18 in favor of the model_selection module into which all the refactored classes and functions are moved. Also note that the interface of the new CV iterators are different from that of this module. This module will be removed in 0.20.\n",
      "  \"This module will be removed in 0.20.\", DeprecationWarning)\n"
     ]
    }
   ],
   "source": [
    "%matplotlib inline\n",
    "\n",
    "import os\n",
    "import time\n",
    "import numpy as np\n",
    "import pandas as pd\n",
    "import matplotlib.pyplot as plt\n",
    "\n",
    "from sklearn.metrics import mean_squared_error as mse\n",
    "from sklearn.metrics import r2_score\n",
    "from sklearn.metrics import classification_report\n",
    "from sklearn import cross_validation as cv"
   ]
  },
  {
   "cell_type": "markdown",
   "metadata": {},
   "source": [
    "## Clean Training Data of Null values\n",
    "\n",
    "Scikit-learn will expect numeric values and no blanks, so first we need to do a bit more wrangling."
   ]
  },
  {
   "cell_type": "code",
   "execution_count": 2,
   "metadata": {
    "collapsed": true
   },
   "outputs": [],
   "source": [
    "# Import csv as a dataframe\n",
    "path = \"/Users/laurieottehenning/Documents/Georgetown Data Science /Capstone/Final Data Set\"\n",
    "os.chdir(path)\n",
    "train = pd.read_csv('Final_Clean_Data.csv')"
   ]
  },
  {
   "cell_type": "code",
   "execution_count": 3,
   "metadata": {},
   "outputs": [
    {
     "data": {
      "text/plain": [
       "Index(['Unnamed: 0', 'Date', 'EventID', 'FinalRating', 'Day of Week',\n",
       "       'Weekend Flag', 'year', 'month', 'Value_Average_Past_30_days', 'lag_30',\n",
       "       'Value_Average_Past_14_days', 'lag_14', 'Value_Average_Past_7_days',\n",
       "       'lag_7', 'Middle East lagpub_7', 'Other lagpub_7', 'UK lagpub_7',\n",
       "       'US lagpub_7', 'Middle East lagpub_14', 'Other lagpub_14',\n",
       "       'UK lagpub_14', 'US lagpub_14', 'Middle East lagpub_30',\n",
       "       'Other lagpub_30', 'UK lagpub_30', 'US lagpub_30'],\n",
       "      dtype='object')"
      ]
     },
     "execution_count": 3,
     "metadata": {},
     "output_type": "execute_result"
    }
   ],
   "source": [
    "# Check that all of the data is there\n",
    "train.columns"
   ]
  },
  {
   "cell_type": "code",
   "execution_count": 4,
   "metadata": {},
   "outputs": [
    {
     "data": {
      "text/html": [
       "<div>\n",
       "<style>\n",
       "    .dataframe thead tr:only-child th {\n",
       "        text-align: right;\n",
       "    }\n",
       "\n",
       "    .dataframe thead th {\n",
       "        text-align: left;\n",
       "    }\n",
       "\n",
       "    .dataframe tbody tr th {\n",
       "        vertical-align: top;\n",
       "    }\n",
       "</style>\n",
       "<table border=\"1\" class=\"dataframe\">\n",
       "  <thead>\n",
       "    <tr style=\"text-align: right;\">\n",
       "      <th></th>\n",
       "      <th>Unnamed: 0</th>\n",
       "      <th>Date</th>\n",
       "      <th>EventID</th>\n",
       "      <th>FinalRating</th>\n",
       "      <th>Day of Week</th>\n",
       "      <th>Weekend Flag</th>\n",
       "      <th>year</th>\n",
       "      <th>month</th>\n",
       "      <th>Value_Average_Past_30_days</th>\n",
       "      <th>lag_30</th>\n",
       "      <th>...</th>\n",
       "      <th>UK lagpub_7</th>\n",
       "      <th>US lagpub_7</th>\n",
       "      <th>Middle East lagpub_14</th>\n",
       "      <th>Other lagpub_14</th>\n",
       "      <th>UK lagpub_14</th>\n",
       "      <th>US lagpub_14</th>\n",
       "      <th>Middle East lagpub_30</th>\n",
       "      <th>Other lagpub_30</th>\n",
       "      <th>UK lagpub_30</th>\n",
       "      <th>US lagpub_30</th>\n",
       "    </tr>\n",
       "  </thead>\n",
       "  <tbody>\n",
       "    <tr>\n",
       "      <th>0</th>\n",
       "      <td>0</td>\n",
       "      <td>2010-01-03</td>\n",
       "      <td>NaN</td>\n",
       "      <td>5.0</td>\n",
       "      <td>Sunday</td>\n",
       "      <td>1</td>\n",
       "      <td>2010.0</td>\n",
       "      <td>1.0</td>\n",
       "      <td>NaN</td>\n",
       "      <td>-0.020080</td>\n",
       "      <td>...</td>\n",
       "      <td>NaN</td>\n",
       "      <td>-0.02008</td>\n",
       "      <td>NaN</td>\n",
       "      <td>NaN</td>\n",
       "      <td>NaN</td>\n",
       "      <td>-0.02008</td>\n",
       "      <td>NaN</td>\n",
       "      <td>NaN</td>\n",
       "      <td>NaN</td>\n",
       "      <td>-0.02008</td>\n",
       "    </tr>\n",
       "    <tr>\n",
       "      <th>1</th>\n",
       "      <td>1</td>\n",
       "      <td>2010-01-04</td>\n",
       "      <td>NaN</td>\n",
       "      <td>5.0</td>\n",
       "      <td>Monday</td>\n",
       "      <td>0</td>\n",
       "      <td>2010.0</td>\n",
       "      <td>1.0</td>\n",
       "      <td>-0.020080</td>\n",
       "      <td>0.006581</td>\n",
       "      <td>...</td>\n",
       "      <td>0.033242</td>\n",
       "      <td>NaN</td>\n",
       "      <td>NaN</td>\n",
       "      <td>NaN</td>\n",
       "      <td>0.033242</td>\n",
       "      <td>NaN</td>\n",
       "      <td>NaN</td>\n",
       "      <td>NaN</td>\n",
       "      <td>0.033242</td>\n",
       "      <td>NaN</td>\n",
       "    </tr>\n",
       "    <tr>\n",
       "      <th>2</th>\n",
       "      <td>2</td>\n",
       "      <td>2010-01-08</td>\n",
       "      <td>NaN</td>\n",
       "      <td>5.0</td>\n",
       "      <td>Friday</td>\n",
       "      <td>0</td>\n",
       "      <td>2010.0</td>\n",
       "      <td>1.0</td>\n",
       "      <td>0.006581</td>\n",
       "      <td>0.009730</td>\n",
       "      <td>...</td>\n",
       "      <td>0.024635</td>\n",
       "      <td>NaN</td>\n",
       "      <td>NaN</td>\n",
       "      <td>NaN</td>\n",
       "      <td>0.024635</td>\n",
       "      <td>NaN</td>\n",
       "      <td>NaN</td>\n",
       "      <td>NaN</td>\n",
       "      <td>0.024635</td>\n",
       "      <td>NaN</td>\n",
       "    </tr>\n",
       "  </tbody>\n",
       "</table>\n",
       "<p>3 rows × 26 columns</p>\n",
       "</div>"
      ],
      "text/plain": [
       "   Unnamed: 0        Date  EventID  FinalRating Day of Week  Weekend Flag  \\\n",
       "0           0  2010-01-03      NaN          5.0      Sunday             1   \n",
       "1           1  2010-01-04      NaN          5.0      Monday             0   \n",
       "2           2  2010-01-08      NaN          5.0      Friday             0   \n",
       "\n",
       "     year  month  Value_Average_Past_30_days    lag_30      ...       \\\n",
       "0  2010.0    1.0                         NaN -0.020080      ...        \n",
       "1  2010.0    1.0                   -0.020080  0.006581      ...        \n",
       "2  2010.0    1.0                    0.006581  0.009730      ...        \n",
       "\n",
       "   UK lagpub_7  US lagpub_7  Middle East lagpub_14  Other lagpub_14  \\\n",
       "0          NaN     -0.02008                    NaN              NaN   \n",
       "1     0.033242          NaN                    NaN              NaN   \n",
       "2     0.024635          NaN                    NaN              NaN   \n",
       "\n",
       "   UK lagpub_14  US lagpub_14  Middle East lagpub_30  Other lagpub_30  \\\n",
       "0           NaN      -0.02008                    NaN              NaN   \n",
       "1      0.033242           NaN                    NaN              NaN   \n",
       "2      0.024635           NaN                    NaN              NaN   \n",
       "\n",
       "   UK lagpub_30  US lagpub_30  \n",
       "0           NaN      -0.02008  \n",
       "1      0.033242           NaN  \n",
       "2      0.024635           NaN  \n",
       "\n",
       "[3 rows x 26 columns]"
      ]
     },
     "execution_count": 4,
     "metadata": {},
     "output_type": "execute_result"
    }
   ],
   "source": [
    "train.head(3)"
   ]
  },
  {
   "cell_type": "code",
   "execution_count": 5,
   "metadata": {},
   "outputs": [
    {
     "name": "stdout",
     "output_type": "stream",
     "text": [
      "2227 instances with 26 features\n",
      "\n",
      "FinalRating\n",
      "-1.0      93\n",
      " 0.0      11\n",
      " 1.0      63\n",
      " 2.0     118\n",
      " 3.0     118\n",
      " 5.0    1824\n",
      "Name: FinalRating, dtype: int64\n"
     ]
    }
   ],
   "source": [
    "# Determine the shape of the data\n",
    "print(\"{} instances with {} features\\n\".format(*train.shape))\n",
    "\n",
    "# Determine the frequency of each rating\n",
    "print(train.groupby('FinalRating')['FinalRating'].count())"
   ]
  },
  {
   "cell_type": "code",
   "execution_count": 6,
   "metadata": {
    "scrolled": true
   },
   "outputs": [
    {
     "data": {
      "text/plain": [
       "Unnamed: 0                       0\n",
       "Date                             0\n",
       "EventID                       1824\n",
       "FinalRating                      0\n",
       "Day of Week                      0\n",
       "Weekend Flag                     0\n",
       "year                             0\n",
       "month                            0\n",
       "Value_Average_Past_30_days       8\n",
       "lag_30                           8\n",
       "Value_Average_Past_14_days       8\n",
       "lag_14                           8\n",
       "Value_Average_Past_7_days       11\n",
       "lag_7                            8\n",
       "Middle East lagpub_7           828\n",
       "Other lagpub_7                 996\n",
       "UK lagpub_7                    541\n",
       "US lagpub_7                    757\n",
       "Middle East lagpub_14          828\n",
       "Other lagpub_14                996\n",
       "UK lagpub_14                   541\n",
       "US lagpub_14                   757\n",
       "Middle East lagpub_30          828\n",
       "Other lagpub_30                996\n",
       "UK lagpub_30                   541\n",
       "US lagpub_30                   757\n",
       "dtype: int64"
      ]
     },
     "execution_count": 6,
     "metadata": {},
     "output_type": "execute_result"
    }
   ],
   "source": [
    "# Check number of missing values\n",
    "train.isnull().sum()"
   ]
  },
  {
   "cell_type": "markdown",
   "metadata": {},
   "source": [
    "#### Fill null values\n",
    "\n",
    "Will fill null values with the mean. Not 100% sure if this is right or if I should fill with median. "
   ]
  },
  {
   "cell_type": "code",
   "execution_count": 7,
   "metadata": {},
   "outputs": [
    {
     "data": {
      "text/plain": [
       "Unnamed: 0                       0\n",
       "Date                             0\n",
       "EventID                       1824\n",
       "FinalRating                      0\n",
       "Day of Week                      0\n",
       "Weekend Flag                     0\n",
       "year                             0\n",
       "month                            0\n",
       "Value_Average_Past_30_days       0\n",
       "lag_30                           0\n",
       "Value_Average_Past_14_days       0\n",
       "lag_14                           0\n",
       "Value_Average_Past_7_days        0\n",
       "lag_7                            0\n",
       "Middle East lagpub_7             0\n",
       "Other lagpub_7                   0\n",
       "UK lagpub_7                      0\n",
       "US lagpub_7                      0\n",
       "Middle East lagpub_14            0\n",
       "Other lagpub_14                  0\n",
       "UK lagpub_14                     0\n",
       "US lagpub_14                     0\n",
       "Middle East lagpub_30            0\n",
       "Other lagpub_30                  0\n",
       "UK lagpub_30                     0\n",
       "US lagpub_30                     0\n",
       "dtype: int64"
      ]
     },
     "execution_count": 7,
     "metadata": {},
     "output_type": "execute_result"
    }
   ],
   "source": [
    "# Fill the null values with mean\n",
    "cols = ['Value_Average_Past_30_days', 'lag_30',\n",
    "       'Value_Average_Past_14_days', 'lag_14', 'Value_Average_Past_7_days',\n",
    "       'lag_7', 'Middle East lagpub_7', 'Other lagpub_7', 'UK lagpub_7',\n",
    "       'US lagpub_7', 'Middle East lagpub_14', 'Other lagpub_14',\n",
    "       'UK lagpub_14', 'US lagpub_14', 'Middle East lagpub_30',\n",
    "       'Other lagpub_30', 'UK lagpub_30', 'US lagpub_30']\n",
    "\n",
    "for i in cols:\n",
    "    train[i] = train[i].fillna(train[i].mean())\n",
    "\n",
    "train.isnull().sum()"
   ]
  },
  {
   "cell_type": "code",
   "execution_count": 8,
   "metadata": {
    "scrolled": false
   },
   "outputs": [
    {
     "data": {
      "text/plain": [
       "Index(['Date', 'FinalRating', 'Day of Week', 'Weekend Flag', 'year', 'month',\n",
       "       'lag_30', 'lag_14', 'lag_7', 'Middle East lagpub_7', 'Other lagpub_7',\n",
       "       'UK lagpub_7', 'US lagpub_7', 'Middle East lagpub_14',\n",
       "       'Other lagpub_14', 'UK lagpub_14', 'US lagpub_14',\n",
       "       'Middle East lagpub_30', 'Other lagpub_30', 'UK lagpub_30',\n",
       "       'US lagpub_30'],\n",
       "      dtype='object')"
      ]
     },
     "execution_count": 8,
     "metadata": {},
     "output_type": "execute_result"
    }
   ],
   "source": [
    "# Drop these columns since they aren't useful to train on. \n",
    "cols = ['Unnamed: 0', 'EventID', 'Value_Average_Past_30_days', 'Value_Average_Past_14_days', \n",
    "       'Value_Average_Past_7_days']\n",
    "for i in cols:\n",
    "    train = train.drop([i], axis=1)\n",
    "train.columns"
   ]
  },
  {
   "cell_type": "code",
   "execution_count": 9,
   "metadata": {},
   "outputs": [],
   "source": [
    "# Keep the first 4 years so we can test on the last 2 years\n",
    "train['year'].value_counts().sort_values()\n",
    "yr = [2017,2016,2015]\n",
    "for i in yr:\n",
    "    train['year'].drop([i], inplace=True)\n"
   ]
  },
  {
   "cell_type": "code",
   "execution_count": 10,
   "metadata": {},
   "outputs": [
    {
     "data": {
      "text/plain": [
       "2017.0      1\n",
       "2010.0    159\n",
       "2011.0    298\n",
       "2013.0    346\n",
       "2016.0    349\n",
       "2015.0    350\n",
       "2012.0    360\n",
       "2014.0    361\n",
       "Name: year, dtype: int64"
      ]
     },
     "execution_count": 10,
     "metadata": {},
     "output_type": "execute_result"
    }
   ],
   "source": [
    "train['year'].value_counts().sort_values()"
   ]
  },
  {
   "cell_type": "markdown",
   "metadata": {},
   "source": [
    "## LOGISTIC REGRESSION\n",
    "\n",
    "A logistic regression mathematically calculates the decision boundary between the possibilities. It looks for a straight line that represents a cutoff that most accurately represents the training data."
   ]
  },
  {
   "cell_type": "markdown",
   "metadata": {},
   "source": []
  }
 ],
 "metadata": {
  "kernelspec": {
   "display_name": "Python 3",
   "language": "python",
   "name": "python3"
  },
  "language_info": {
   "codemirror_mode": {
    "name": "ipython",
    "version": 3
   },
   "file_extension": ".py",
   "mimetype": "text/x-python",
   "name": "python",
   "nbconvert_exporter": "python",
   "pygments_lexer": "ipython3",
   "version": "3.6.0"
  }
 },
 "nbformat": 4,
 "nbformat_minor": 2
}
